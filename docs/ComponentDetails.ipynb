{
 "cells": [
  {
   "cell_type": "markdown",
   "metadata": {},
   "source": [
    "# Component Details for MimiGIVE.jl\n",
    "\n",
    "The following notebook contains extra details on various components."
   ]
  },
  {
   "cell_type": "markdown",
   "metadata": {},
   "source": [
    "### 1. VSL Component"
   ]
  },
  {
   "cell_type": "markdown",
   "metadata": {},
   "source": [
    "There are two sources for the value of statistical life (VSL) being used in the model. These can be selected by the user when calling `get_model()` with the keyword option: `vsl=:fund` or `vsl=:epa`. \n",
    "\n",
    "- The symbol `:fund` uses a VSL that is drawn from the original [FUND documentation](http://www.fund-model.org/files/documentation/Fund-3-9-Scientific-Documentation.pdf) citing Cline (1992): _\"This calibration results in a best guess value of a statistical life that is 200 times per capita income (Cline, 1992).\"_ Under this framework, the VSL in 2005 U.S. dollars for income per capita <img src=\"https://render.githubusercontent.com/render/math?math=y\"> in model year <img src=\"https://render.githubusercontent.com/render/math?math=t\"> for country <img src=\"https://render.githubusercontent.com/render/math?math=c\"> is: \n",
    "\n",
    "    $$vsl_{tc} = \\$6,082,532.05 \\times (\\dfrac{y_{tc}}{\\$30,412.66}).$$ \n",
    "    \n",
    "    Using this formula results in a baseline VSL for the U.S. in 2017 of $9,847,389.53 (2011 U.S. dollars).\n",
    "\n",
    "<br>\n",
    "\n",
    "- The symbol `:epa` uses a 2020 U.S. VSL as the base for the willingness to pay for reductions in mortality risk. This starting VSL is developed according to the most recent U.S. EPA Guidelines for Economic Analyses ([U.S. EPA, 2010](https://www.epa.gov/sites/default/files/2017-09/documents/ee-0568-22.pdf)). This builds on the 1990 U.S. EPA VSL of $4.8 million (1990 U.S. dollars) and adjusts for inflation and income growth using the following equation:\n",
    "\n",
    "     $$vsl_{2020,U.S.} = (\\alpha_{1990} \\times \\gamma) \\times (\\dfrac{y_{2020,U.S.}}{y_{1990,U.S.}})^\\varepsilon.$$\n",
    "    \n",
    "    Here, <img src=\"https://render.githubusercontent.com/render/math?math=\\alpha_{1990}\">=$4,800,000 (1990 U.S. dollars).\n",
    "    \n",
    "    U.S. EPA Guidelines use the Bureau of Economic Analysis' (BEA) Gross Domestic Product implicit price deflator to adjust across dollar-years ([U.S. BEA Table 1.1.9, 2021](https://apps.bea.gov/iTable/iTable.cfm?reqid=19&step=3&isuri=1&select_all_years=0&nipa_table_list=13&series=a&first_year=1995&last_year=2020&scale=-99&categories=survey&thetable=)). Using this inflation index, <img src=\"https://render.githubusercontent.com/render/math?math=\\gamma=\\frac{87.504}{63.631}\">=1.375178765.    \n",
    "    \n",
    "    Income per capita in the U.S. comes from the U.S. BEA's real gross domestic product per capita series ([U.S. BEA, 2021](https://fred.stlouisfed.org/series/A939RX0Q048SBEA#0)). <img src=\"https://render.githubusercontent.com/render/math?math=y_{2020}\">=$55,685.00 (2012 U.S. dollars). \n",
    "    \n",
    "    Using the same BEA series for the starting year, <img src=\"https://render.githubusercontent.com/render/math?math=y_{1990}\">=$37,460.00 (2012 U.S. dollars). \n",
    "        \n",
    "    U.S. EPA Guidelines provide a range of estimates for the income elasticity of VSL, 0.08, 0.4, and 1 ([U.S. EPA, 2010](https://www.epa.gov/sites/default/files/2017-09/documents/ee-0568-22.pdf), [BenMAP 2021](https://www.epa.gov/sites/default/files/2015-04/documents/benmap-ce_user_manual_march_2015.pdf)). As stated in the Guidelines: \n",
    "    \n",
    "     _\"The economics literature shows that the income elasticity of WTP to reduce mortality risk is positive, based on cross-sectional data. As a result, benefits estimates of reduced mortality risk accruing in future years may be adjusted to reflect anticipated income growth, using the range of income elasticities (0.08, 0.40 and 1.0) employed in The Benefits and Costs of the Clean Air Act, 1990-2010. Footnote: For details see [Kleckner and Neuman (2000)](https://www3.epa.gov/ttn/ecas/regdata/Benefits/background/klecknerandneumann1999.pdf).\"_ Additional relevant citations: [The Benefits and Costs of the Clean Air Act: 1990-2010. EPA 410-R-99-001](https://www.epa.gov/clean-air-act-overview/benefits-and-costs-clean-air-act-1990-2010-first-prospective-study).\n",
    "        \n",
    "    In practice and used here, the U.S. EPA uses the central value in regulatory impact analyses in the U.S. such that <img src=\"https://render.githubusercontent.com/render/math?math=\\varepsilon\">=0.4:\n",
    "    \n",
    "    Using this formula results in a baseline VSL for the U.S in the year 2020 of $7,735,147.07 (2005 U.S. dollars). \n",
    "    \n",
    "    One additional transformation is made to bring income per capita in 2020 ([U.S. BEA, 2021](https://fred.stlouisfed.org/series/A939RX0Q048SBEA#0)) in 2012 U.S. dollars to 2005 U.S. dollars (the model's dollar year). Using this inflation index, noting that the base year of the index is 2012, <img src=\"https://render.githubusercontent.com/render/math?math=\\gamma=\\frac{87.504}{100}\">=0.87504 resulting in 2020 income per capita in 2005 U.S. dollars of $48,726.60. From here, the following equation is used to adjust the VSL intertemporally for year <img src=\"https://render.githubusercontent.com/render/math?math=t\"> and cross-sectionally for country <img src=\"https://render.githubusercontent.com/render/math?math=c\"> using income per capita <img src=\"https://render.githubusercontent.com/render/math?math=y\">:\n",
    "\n",
    "     $$vsl_{tc} = \\$7,735,147.07 \\times (\\dfrac{y_{tc}}{\\$48,726.60})^\\varepsilon.$$\n",
    "\n",
    "     Here, the income elasticity of VSL <img src=\"https://render.githubusercontent.com/render/math?math=\\varepsilon\">=1 is used to adjust for different income levels across countries and changes in income through time.  "
   ]
  }
 ],
 "metadata": {
  "kernelspec": {
   "display_name": "Julia 1.6.6",
   "language": "julia",
   "name": "julia-1.6"
  },
  "language_info": {
   "file_extension": ".jl",
   "mimetype": "application/julia",
   "name": "julia",
   "version": "1.6.6"
  },
  "orig_nbformat": 4,
  "vscode": {
   "interpreter": {
    "hash": "31f2aee4e71d21fbe5cf8b01ff0e069b9275f58929596ceb00d14d90e3e16cd6"
   }
  }
 },
 "nbformat": 4,
 "nbformat_minor": 2
}
