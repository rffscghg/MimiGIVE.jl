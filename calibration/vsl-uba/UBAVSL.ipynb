{
 "cells": [
  {
   "cell_type": "markdown",
   "metadata": {},
   "source": [
    "# Calibration of the VSL component for the Umweltbundesamt\n",
    "\n",
    "The general strategy is that we want to make the VSL in 2020 in Germany the normalization anchor. We thus need to extract per capita income in 2020 for Germany from the RFF SPs, and that value will be used as the y₀ parameter for the VSL component.\n",
    "\n",
    "We then need to convert the value of $5.92 million (Methodenkonvention 3.2) and $7.68 million (Methodenkonvention 4) into $2005 dollars."
   ]
  },
  {
   "cell_type": "markdown",
   "metadata": {},
   "source": [
    "## Computation of 2020 German ypc"
   ]
  },
  {
   "cell_type": "code",
   "execution_count": 1,
   "metadata": {},
   "outputs": [],
   "source": [
    "using Mimi, MimiRFFSPs, Query, Statistics, DataFrames"
   ]
  },
  {
   "cell_type": "code",
   "execution_count": 2,
   "metadata": {},
   "outputs": [],
   "source": [
    "m = MimiRFFSPs.get_model()\n",
    "mcs = MimiRFFSPs.get_mcs();"
   ]
  },
  {
   "cell_type": "code",
   "execution_count": 3,
   "metadata": {},
   "outputs": [],
   "source": [
    "Mimi.add_save!(mcs, (:rffsp, :population))\n",
    "Mimi.add_save!(mcs, (:rffsp, :gdp));"
   ]
  },
  {
   "cell_type": "code",
   "execution_count": null,
   "metadata": {},
   "outputs": [],
   "source": [
    "result = run(mcs, m, 10_000);"
   ]
  },
  {
   "cell_type": "code",
   "execution_count": 5,
   "metadata": {},
   "outputs": [
    {
     "data": {
      "text/plain": [
       "44646.7791068395"
      ]
     },
     "metadata": {},
     "output_type": "display_data"
    }
   ],
   "source": [
    "pop_2020 = getdataframe(result, :rffsp, :population) |> @filter(_.time==2020 && _.country==\"DEU\") |> @dissallowna() |> @map(_.population)\n",
    "gdp_2020 = getdataframe(result, :rffsp, :gdp) |> @filter(_.time==2020 && _.country==\"DEU\") |> @dissallowna() |> @map(_.gdp)\n",
    "gdp_per_capita_2020 = mean(gdp_2020 ./ pop_2020) * 1_000"
   ]
  }
 ],
 "metadata": {
  "kernelspec": {
   "display_name": "Julia 1.9.3",
   "language": "julia",
   "name": "julia-1.9"
  },
  "language_info": {
   "file_extension": ".jl",
   "mimetype": "application/julia",
   "name": "julia",
   "version": "1.9.3"
  },
  "orig_nbformat": 4
 },
 "nbformat": 4,
 "nbformat_minor": 2
}
