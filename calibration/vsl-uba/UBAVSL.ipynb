{
 "cells": [
  {
   "cell_type": "markdown",
   "metadata": {},
   "source": [
    "# Calibration of the VSL component for the Umweltbundesamt\n",
    "\n",
    "The general strategy is that we want to make the VSL in 2020 in Germany the normalization anchor. We thus need to extract per capita income in 2020 for Germany from the RFF SPs, and that value will be used as the y₀ parameter for the VSL component.\n",
    "\n",
    "We then need to convert the value of $5.92 million into $2005 dollars."
   ]
  },
  {
   "cell_type": "markdown",
   "metadata": {},
   "source": [
    "## Computation of 2020 German ypc"
   ]
  },
  {
   "cell_type": "code",
   "execution_count": 1,
   "metadata": {},
   "outputs": [],
   "source": [
    "using Mimi, MimiRFFSPs, Query, Statistics, DataFrames"
   ]
  },
  {
   "cell_type": "code",
   "execution_count": 2,
   "metadata": {},
   "outputs": [],
   "source": [
    "m = MimiRFFSPs.get_model()\n",
    "mcs = MimiRFFSPs.get_mcs();"
   ]
  },
  {
   "cell_type": "code",
   "execution_count": 3,
   "metadata": {},
   "outputs": [],
   "source": [
    "Mimi.add_save!(mcs, (:rffsp, :population))\n",
    "Mimi.add_save!(mcs, (:rffsp, :gdp));"
   ]
  },
  {
   "cell_type": "code",
   "execution_count": 4,
   "metadata": {},
   "outputs": [
    {
     "name": "stderr",
     "output_type": "stream",
     "text": [
      "\r\u001b[32mRunning 10000 trials for 1 scenarios...   0%|█           |  ETA: 22:37:49\u001b[39m\u001b[K"
     ]
    },
    {
     "name": "stderr",
     "output_type": "stream",
     "text": [
      "\r\u001b[32mRunning 10000 trials for 1 scenarios...   1%|█           |  ETA: 0:32:31\u001b[39m\u001b[K"
     ]
    },
    {
     "name": "stderr",
     "output_type": "stream",
     "text": [
      "\r\u001b[32mRunning 10000 trials for 1 scenarios...   1%|█           |  ETA: 0:24:50\u001b[39m\u001b[K"
     ]
    },
    {
     "name": "stderr",
     "output_type": "stream",
     "text": [
      "\r\u001b[32mRunning 10000 trials for 1 scenarios...   2%|█           |  ETA: 0:20:38\u001b[39m\u001b[K"
     ]
    },
    {
     "name": "stderr",
     "output_type": "stream",
     "text": [
      "\r\u001b[32mRunning 10000 trials for 1 scenarios...   2%|█           |  ETA: 0:18:08\u001b[39m\u001b[K"
     ]
    },
    {
     "name": "stderr",
     "output_type": "stream",
     "text": [
      "\r\u001b[32mRunning 10000 trials for 1 scenarios...   2%|█           |  ETA: 0:16:07\u001b[39m\u001b[K"
     ]
    },
    {
     "name": "stderr",
     "output_type": "stream",
     "text": [
      "\r\u001b[32mRunning 10000 trials for 1 scenarios...   3%|█           |  ETA: 0:14:35\u001b[39m\u001b[K"
     ]
    },
    {
     "name": "stderr",
     "output_type": "stream",
     "text": [
      "\r\u001b[32mRunning 10000 trials for 1 scenarios...   3%|█           |  ETA: 0:13:38\u001b[39m\u001b[K"
     ]
    },
    {
     "name": "stderr",
     "output_type": "stream",
     "text": [
      "\r\u001b[32mRunning 10000 trials for 1 scenarios...   4%|█           |  ETA: 0:12:43\u001b[39m\u001b[K"
     ]
    },
    {
     "name": "stderr",
     "output_type": "stream",
     "text": [
      "\r\u001b[32mRunning 10000 trials for 1 scenarios...   4%|█           |  ETA: 0:11:52\u001b[39m\u001b[K"
     ]
    },
    {
     "name": "stderr",
     "output_type": "stream",
     "text": [
      "\r\u001b[32mRunning 10000 trials for 1 scenarios...   4%|█           |  ETA: 0:11:29\u001b[39m\u001b[K"
     ]
    },
    {
     "name": "stderr",
     "output_type": "stream",
     "text": [
      "\r\u001b[32mRunning 10000 trials for 1 scenarios...   5%|█           |  ETA: 0:10:54\u001b[39m\u001b[K"
     ]
    },
    {
     "name": "stderr",
     "output_type": "stream",
     "text": [
      "\r\u001b[32mRunning 10000 trials for 1 scenarios...   5%|█           |  ETA: 0:10:24\u001b[39m\u001b[K"
     ]
    },
    {
     "name": "stderr",
     "output_type": "stream",
     "text": [
      "\r\u001b[32mRunning 10000 trials for 1 scenarios...   5%|█           |  ETA: 0:09:59\u001b[39m\u001b[K"
     ]
    },
    {
     "name": "stderr",
     "output_type": "stream",
     "text": [
      "\r\u001b[32mRunning 10000 trials for 1 scenarios...   6%|█           |  ETA: 0:09:38\u001b[39m\u001b[K"
     ]
    },
    {
     "name": "stderr",
     "output_type": "stream",
     "text": [
      "\r\u001b[32mRunning 10000 trials for 1 scenarios...   6%|█           |  ETA: 0:09:17\u001b[39m\u001b[K"
     ]
    },
    {
     "name": "stderr",
     "output_type": "stream",
     "text": [
      "\r\u001b[32mRunning 10000 trials for 1 scenarios...   6%|█           |  ETA: 0:09:18\u001b[39m\u001b[K"
     ]
    },
    {
     "name": "stderr",
     "output_type": "stream",
     "text": [
      "\r\u001b[32mRunning 10000 trials for 1 scenarios...   7%|█           |  ETA: 0:09:03\u001b[39m\u001b[K"
     ]
    },
    {
     "name": "stderr",
     "output_type": "stream",
     "text": [
      "\r\u001b[32mRunning 10000 trials for 1 scenarios...   7%|█           |  ETA: 0:08:48\u001b[39m\u001b[K"
     ]
    },
    {
     "name": "stderr",
     "output_type": "stream",
     "text": [
      "\r\u001b[32mRunning 10000 trials for 1 scenarios...   7%|█           |  ETA: 0:08:34\u001b[39m\u001b[K"
     ]
    },
    {
     "name": "stderr",
     "output_type": "stream",
     "text": [
      "\r\u001b[32mRunning 10000 trials for 1 scenarios...   8%|█           |  ETA: 0:08:21\u001b[39m\u001b[K"
     ]
    },
    {
     "name": "stderr",
     "output_type": "stream",
     "text": [
      "\r\u001b[32mRunning 10000 trials for 1 scenarios...   8%|█           |  ETA: 0:08:09\u001b[39m\u001b[K"
     ]
    },
    {
     "name": "stderr",
     "output_type": "stream",
     "text": [
      "\r\u001b[32mRunning 10000 trials for 1 scenarios...   8%|██          |  ETA: 0:07:59\u001b[39m\u001b[K"
     ]
    },
    {
     "name": "stderr",
     "output_type": "stream",
     "text": [
      "\r\u001b[32mRunning 10000 trials for 1 scenarios...   9%|██          |  ETA: 0:07:51\u001b[39m\u001b[K"
     ]
    },
    {
     "name": "stderr",
     "output_type": "stream",
     "text": [
      "\r\u001b[32mRunning 10000 trials for 1 scenarios...   9%|██          |  ETA: 0:07:59\u001b[39m\u001b[K"
     ]
    },
    {
     "name": "stderr",
     "output_type": "stream",
     "text": [
      "\r\u001b[32mRunning 10000 trials for 1 scenarios...   9%|██          |  ETA: 0:07:54\u001b[39m\u001b[K"
     ]
    },
    {
     "name": "stderr",
     "output_type": "stream",
     "text": [
      "\r\u001b[32mRunning 10000 trials for 1 scenarios...  10%|██          |  ETA: 0:07:50\u001b[39m\u001b[K"
     ]
    },
    {
     "name": "stderr",
     "output_type": "stream",
     "text": [
      "\r\u001b[32mRunning 10000 trials for 1 scenarios...  10%|██          |  ETA: 0:07:42\u001b[39m\u001b[K"
     ]
    },
    {
     "name": "stderr",
     "output_type": "stream",
     "text": [
      "\r\u001b[32mRunning 10000 trials for 1 scenarios...  10%|██          |  ETA: 0:07:35\u001b[39m\u001b[K"
     ]
    },
    {
     "name": "stderr",
     "output_type": "stream",
     "text": [
      "\r\u001b[32mRunning 10000 trials for 1 scenarios...  11%|██          |  ETA: 0:07:28\u001b[39m\u001b[K"
     ]
    },
    {
     "name": "stderr",
     "output_type": "stream",
     "text": [
      "\r\u001b[32mRunning 10000 trials for 1 scenarios...  11%|██          |  ETA: 0:07:21\u001b[39m\u001b[K"
     ]
    },
    {
     "name": "stderr",
     "output_type": "stream",
     "text": [
      "\r\u001b[32mRunning 10000 trials for 1 scenarios...  11%|██          |  ETA: 0:07:13\u001b[39m\u001b[K"
     ]
    },
    {
     "name": "stderr",
     "output_type": "stream",
     "text": [
      "\r\u001b[32mRunning 10000 trials for 1 scenarios...  12%|██          |  ETA: 0:07:07\u001b[39m\u001b[K"
     ]
    },
    {
     "name": "stderr",
     "output_type": "stream",
     "text": [
      "\r\u001b[32mRunning 10000 trials for 1 scenarios...  12%|██          |  ETA: 0:07:02\u001b[39m\u001b[K"
     ]
    },
    {
     "name": "stderr",
     "output_type": "stream",
     "text": [
      "\r\u001b[32mRunning 10000 trials for 1 scenarios...  12%|██          |  ETA: 0:06:57\u001b[39m\u001b[K"
     ]
    },
    {
     "name": "stderr",
     "output_type": "stream",
     "text": [
      "\r\u001b[32mRunning 10000 trials for 1 scenarios...  13%|██          |  ETA: 0:06:51\u001b[39m\u001b[K"
     ]
    },
    {
     "name": "stderr",
     "output_type": "stream",
     "text": [
      "\r\u001b[32mRunning 10000 trials for 1 scenarios...  13%|██          |  ETA: 0:06:46\u001b[39m\u001b[K"
     ]
    },
    {
     "name": "stderr",
     "output_type": "stream",
     "text": [
      "\r\u001b[32mRunning 10000 trials for 1 scenarios...  13%|██          |  ETA: 0:06:54\u001b[39m\u001b[K"
     ]
    },
    {
     "name": "stderr",
     "output_type": "stream",
     "text": [
      "\r\u001b[32mRunning 10000 trials for 1 scenarios...  14%|██          |  ETA: 0:06:47\u001b[39m\u001b[K"
     ]
    },
    {
     "name": "stderr",
     "output_type": "stream",
     "text": [
      "\r\u001b[32mRunning 10000 trials for 1 scenarios...  14%|██          |  ETA: 0:06:40\u001b[39m\u001b[K"
     ]
    },
    {
     "name": "stderr",
     "output_type": "stream",
     "text": [
      "\r\u001b[32mRunning 10000 trials for 1 scenarios...  14%|██          |  ETA: 0:06:34\u001b[39m\u001b[K"
     ]
    },
    {
     "name": "stderr",
     "output_type": "stream",
     "text": [
      "\r\u001b[32mRunning 10000 trials for 1 scenarios...  15%|██          |  ETA: 0:06:27\u001b[39m\u001b[K"
     ]
    },
    {
     "name": "stderr",
     "output_type": "stream",
     "text": [
      "\r\u001b[32mRunning 10000 trials for 1 scenarios...  15%|██          |  ETA: 0:06:22\u001b[39m\u001b[K"
     ]
    },
    {
     "name": "stderr",
     "output_type": "stream",
     "text": [
      "\r\u001b[32mRunning 10000 trials for 1 scenarios...  16%|██          |  ETA: 0:06:18\u001b[39m\u001b[K"
     ]
    },
    {
     "name": "stderr",
     "output_type": "stream",
     "text": [
      "\r\u001b[32mRunning 10000 trials for 1 scenarios...  16%|██          |  ETA: 0:06:15\u001b[39m\u001b[K"
     ]
    },
    {
     "name": "stderr",
     "output_type": "stream",
     "text": [
      "\r\u001b[32mRunning 10000 trials for 1 scenarios...  16%|██          |  ETA: 0:06:12\u001b[39m\u001b[K"
     ]
    },
    {
     "name": "stderr",
     "output_type": "stream",
     "text": [
      "\r\u001b[32mRunning 10000 trials for 1 scenarios...  17%|██          |  ETA: 0:06:08\u001b[39m\u001b[K"
     ]
    },
    {
     "name": "stderr",
     "output_type": "stream",
     "text": [
      "\r\u001b[32mRunning 10000 trials for 1 scenarios...  17%|███         |  ETA: 0:06:03\u001b[39m\u001b[K"
     ]
    },
    {
     "name": "stderr",
     "output_type": "stream",
     "text": [
      "\r\u001b[32mRunning 10000 trials for 1 scenarios...  17%|███         |  ETA: 0:05:59\u001b[39m\u001b[K"
     ]
    },
    {
     "name": "stderr",
     "output_type": "stream",
     "text": [
      "\r\u001b[32mRunning 10000 trials for 1 scenarios...  18%|███         |  ETA: 0:05:55\u001b[39m\u001b[K"
     ]
    },
    {
     "name": "stderr",
     "output_type": "stream",
     "text": [
      "\r\u001b[32mRunning 10000 trials for 1 scenarios...  18%|███         |  ETA: 0:05:51\u001b[39m\u001b[K"
     ]
    },
    {
     "name": "stderr",
     "output_type": "stream",
     "text": [
      "\r\u001b[32mRunning 10000 trials for 1 scenarios...  18%|███         |  ETA: 0:06:01\u001b[39m\u001b[K"
     ]
    },
    {
     "name": "stderr",
     "output_type": "stream",
     "text": [
      "\r\u001b[32mRunning 10000 trials for 1 scenarios...  19%|███         |  ETA: 0:05:57\u001b[39m\u001b[K"
     ]
    },
    {
     "name": "stderr",
     "output_type": "stream",
     "text": [
      "\r\u001b[32mRunning 10000 trials for 1 scenarios...  19%|███         |  ETA: 0:05:53\u001b[39m\u001b[K"
     ]
    },
    {
     "name": "stderr",
     "output_type": "stream",
     "text": [
      "\r\u001b[32mRunning 10000 trials for 1 scenarios...  19%|███         |  ETA: 0:05:49\u001b[39m\u001b[K"
     ]
    },
    {
     "name": "stderr",
     "output_type": "stream",
     "text": [
      "\r\u001b[32mRunning 10000 trials for 1 scenarios...  20%|███         |  ETA: 0:05:45\u001b[39m\u001b[K"
     ]
    },
    {
     "name": "stderr",
     "output_type": "stream",
     "text": [
      "\r\u001b[32mRunning 10000 trials for 1 scenarios...  20%|███         |  ETA: 0:05:40\u001b[39m\u001b[K"
     ]
    },
    {
     "name": "stderr",
     "output_type": "stream",
     "text": [
      "\r\u001b[32mRunning 10000 trials for 1 scenarios...  21%|███         |  ETA: 0:05:37\u001b[39m\u001b[K"
     ]
    },
    {
     "name": "stderr",
     "output_type": "stream",
     "text": [
      "\r\u001b[32mRunning 10000 trials for 1 scenarios...  21%|███         |  ETA: 0:05:33\u001b[39m\u001b[K"
     ]
    },
    {
     "name": "stderr",
     "output_type": "stream",
     "text": [
      "\r\u001b[32mRunning 10000 trials for 1 scenarios...  21%|███         |  ETA: 0:05:30\u001b[39m\u001b[K"
     ]
    },
    {
     "name": "stderr",
     "output_type": "stream",
     "text": [
      "\r\u001b[32mRunning 10000 trials for 1 scenarios...  22%|███         |  ETA: 0:05:27\u001b[39m\u001b[K"
     ]
    },
    {
     "name": "stderr",
     "output_type": "stream",
     "text": [
      "\r\u001b[32mRunning 10000 trials for 1 scenarios...  22%|███         |  ETA: 0:05:24\u001b[39m\u001b[K"
     ]
    },
    {
     "name": "stderr",
     "output_type": "stream",
     "text": [
      "\r\u001b[32mRunning 10000 trials for 1 scenarios...  22%|███         |  ETA: 0:05:21\u001b[39m\u001b[K"
     ]
    },
    {
     "name": "stderr",
     "output_type": "stream",
     "text": [
      "\r\u001b[32mRunning 10000 trials for 1 scenarios...  23%|███         |  ETA: 0:05:18\u001b[39m\u001b[K"
     ]
    },
    {
     "name": "stderr",
     "output_type": "stream",
     "text": [
      "\r\u001b[32mRunning 10000 trials for 1 scenarios...  23%|███         |  ETA: 0:05:15\u001b[39m\u001b[K"
     ]
    },
    {
     "name": "stderr",
     "output_type": "stream",
     "text": [
      "\r\u001b[32mRunning 10000 trials for 1 scenarios...  23%|███         |  ETA: 0:05:13\u001b[39m\u001b[K"
     ]
    },
    {
     "name": "stderr",
     "output_type": "stream",
     "text": [
      "\r\u001b[32mRunning 10000 trials for 1 scenarios...  24%|███         |  ETA: 0:05:10\u001b[39m\u001b[K"
     ]
    },
    {
     "name": "stderr",
     "output_type": "stream",
     "text": [
      "\r\u001b[32mRunning 10000 trials for 1 scenarios...  24%|███         |  ETA: 0:05:07\u001b[39m\u001b[K"
     ]
    },
    {
     "name": "stderr",
     "output_type": "stream",
     "text": [
      "\r\u001b[32mRunning 10000 trials for 1 scenarios...  24%|███         |  ETA: 0:05:05\u001b[39m\u001b[K"
     ]
    },
    {
     "name": "stderr",
     "output_type": "stream",
     "text": [
      "\r\u001b[32mRunning 10000 trials for 1 scenarios...  25%|███         |  ETA: 0:05:02\u001b[39m\u001b[K"
     ]
    },
    {
     "name": "stderr",
     "output_type": "stream",
     "text": [
      "\r\u001b[32mRunning 10000 trials for 1 scenarios...  25%|████        |  ETA: 0:05:00\u001b[39m\u001b[K"
     ]
    },
    {
     "name": "stderr",
     "output_type": "stream",
     "text": [
      "\r\u001b[32mRunning 10000 trials for 1 scenarios...  26%|████        |  ETA: 0:04:57\u001b[39m\u001b[K"
     ]
    },
    {
     "name": "stderr",
     "output_type": "stream",
     "text": [
      "\r\u001b[32mRunning 10000 trials for 1 scenarios...  26%|████        |  ETA: 0:04:55\u001b[39m\u001b[K"
     ]
    },
    {
     "name": "stderr",
     "output_type": "stream",
     "text": [
      "\r\u001b[32mRunning 10000 trials for 1 scenarios...  26%|████        |  ETA: 0:04:52\u001b[39m\u001b[K"
     ]
    },
    {
     "name": "stderr",
     "output_type": "stream",
     "text": [
      "\r\u001b[32mRunning 10000 trials for 1 scenarios...  27%|████        |  ETA: 0:04:50\u001b[39m\u001b[K"
     ]
    },
    {
     "name": "stderr",
     "output_type": "stream",
     "text": [
      "\r\u001b[32mRunning 10000 trials for 1 scenarios...  27%|████        |  ETA: 0:04:48\u001b[39m\u001b[K"
     ]
    },
    {
     "name": "stderr",
     "output_type": "stream",
     "text": [
      "\r\u001b[32mRunning 10000 trials for 1 scenarios...  27%|████        |  ETA: 0:05:22\u001b[39m\u001b[K"
     ]
    },
    {
     "name": "stderr",
     "output_type": "stream",
     "text": [
      "\r\u001b[32mRunning 10000 trials for 1 scenarios...  27%|████        |  ETA: 0:05:25\u001b[39m\u001b[K"
     ]
    },
    {
     "name": "stderr",
     "output_type": "stream",
     "text": [
      "\r\u001b[32mRunning 10000 trials for 1 scenarios...  27%|████        |  ETA: 0:05:29\u001b[39m\u001b[K"
     ]
    },
    {
     "name": "stderr",
     "output_type": "stream",
     "text": [
      "\r\u001b[32mRunning 10000 trials for 1 scenarios...  27%|████        |  ETA: 0:05:41\u001b[39m\u001b[K"
     ]
    },
    {
     "name": "stderr",
     "output_type": "stream",
     "text": [
      "\r\u001b[32mRunning 10000 trials for 1 scenarios...  28%|████        |  ETA: 0:05:59\u001b[39m\u001b[K"
     ]
    },
    {
     "name": "stderr",
     "output_type": "stream",
     "text": [
      "\r\u001b[32mRunning 10000 trials for 1 scenarios...  28%|████        |  ETA: 0:06:15\u001b[39m\u001b[K"
     ]
    },
    {
     "name": "stderr",
     "output_type": "stream",
     "text": [
      "\r\u001b[32mRunning 10000 trials for 1 scenarios...  28%|████        |  ETA: 0:06:17\u001b[39m\u001b[K"
     ]
    },
    {
     "name": "stderr",
     "output_type": "stream",
     "text": [
      "\r\u001b[32mRunning 10000 trials for 1 scenarios...  28%|████        |  ETA: 0:06:19\u001b[39m\u001b[K"
     ]
    },
    {
     "name": "stderr",
     "output_type": "stream",
     "text": [
      "\r\u001b[32mRunning 10000 trials for 1 scenarios...  28%|████        |  ETA: 0:06:21\u001b[39m\u001b[K"
     ]
    },
    {
     "name": "stderr",
     "output_type": "stream",
     "text": [
      "\r\u001b[32mRunning 10000 trials for 1 scenarios...  28%|████        |  ETA: 0:06:24\u001b[39m\u001b[K"
     ]
    },
    {
     "name": "stderr",
     "output_type": "stream",
     "text": [
      "\r\u001b[32mRunning 10000 trials for 1 scenarios...  28%|████        |  ETA: 0:06:28\u001b[39m\u001b[K"
     ]
    },
    {
     "name": "stderr",
     "output_type": "stream",
     "text": [
      "\r\u001b[32mRunning 10000 trials for 1 scenarios...  28%|████        |  ETA: 0:06:35\u001b[39m\u001b[K"
     ]
    },
    {
     "name": "stderr",
     "output_type": "stream",
     "text": [
      "\r\u001b[32mRunning 10000 trials for 1 scenarios...  28%|████        |  ETA: 0:06:37\u001b[39m\u001b[K"
     ]
    },
    {
     "name": "stderr",
     "output_type": "stream",
     "text": [
      "\r\u001b[32mRunning 10000 trials for 1 scenarios...  28%|████        |  ETA: 0:06:42\u001b[39m\u001b[K"
     ]
    },
    {
     "name": "stderr",
     "output_type": "stream",
     "text": [
      "\r\u001b[32mRunning 10000 trials for 1 scenarios...  28%|████        |  ETA: 0:06:48\u001b[39m\u001b[K"
     ]
    },
    {
     "name": "stderr",
     "output_type": "stream",
     "text": [
      "\r\u001b[32mRunning 10000 trials for 1 scenarios...  28%|████        |  ETA: 0:06:50\u001b[39m\u001b[K"
     ]
    },
    {
     "name": "stderr",
     "output_type": "stream",
     "text": [
      "\r\u001b[32mRunning 10000 trials for 1 scenarios...  28%|████        |  ETA: 0:06:53\u001b[39m\u001b[K"
     ]
    },
    {
     "name": "stderr",
     "output_type": "stream",
     "text": [
      "\r\u001b[32mRunning 10000 trials for 1 scenarios...  28%|████        |  ETA: 0:06:57\u001b[39m\u001b[K"
     ]
    },
    {
     "name": "stderr",
     "output_type": "stream",
     "text": [
      "\r\u001b[32mRunning 10000 trials for 1 scenarios...  28%|████        |  ETA: 0:07:04\u001b[39m\u001b[K"
     ]
    },
    {
     "name": "stderr",
     "output_type": "stream",
     "text": [
      "\r\u001b[32mRunning 10000 trials for 1 scenarios...  28%|████        |  ETA: 0:07:06\u001b[39m\u001b[K"
     ]
    },
    {
     "name": "stderr",
     "output_type": "stream",
     "text": [
      "\r\u001b[32mRunning 10000 trials for 1 scenarios...  28%|████        |  ETA: 0:07:08\u001b[39m\u001b[K"
     ]
    },
    {
     "name": "stderr",
     "output_type": "stream",
     "text": [
      "\r\u001b[32mRunning 10000 trials for 1 scenarios...  28%|████        |  ETA: 0:07:13\u001b[39m\u001b[K"
     ]
    },
    {
     "name": "stderr",
     "output_type": "stream",
     "text": [
      "\r\u001b[32mRunning 10000 trials for 1 scenarios...  29%|████        |  ETA: 0:07:19\u001b[39m\u001b[K"
     ]
    },
    {
     "name": "stderr",
     "output_type": "stream",
     "text": [
      "\r\u001b[32mRunning 10000 trials for 1 scenarios...  29%|████        |  ETA: 0:07:21\u001b[39m\u001b[K"
     ]
    },
    {
     "name": "stderr",
     "output_type": "stream",
     "text": [
      "\r\u001b[32mRunning 10000 trials for 1 scenarios...  29%|████        |  ETA: 0:07:26\u001b[39m\u001b[K"
     ]
    },
    {
     "name": "stderr",
     "output_type": "stream",
     "text": [
      "\r\u001b[32mRunning 10000 trials for 1 scenarios...  29%|████        |  ETA: 0:07:32\u001b[39m\u001b[K"
     ]
    },
    {
     "name": "stderr",
     "output_type": "stream",
     "text": [
      "\r\u001b[32mRunning 10000 trials for 1 scenarios...  29%|████        |  ETA: 0:07:34\u001b[39m\u001b[K"
     ]
    },
    {
     "name": "stderr",
     "output_type": "stream",
     "text": [
      "\r\u001b[32mRunning 10000 trials for 1 scenarios...  29%|████        |  ETA: 0:07:36\u001b[39m\u001b[K"
     ]
    },
    {
     "name": "stderr",
     "output_type": "stream",
     "text": [
      "\r\u001b[32mRunning 10000 trials for 1 scenarios...  29%|████        |  ETA: 0:07:41\u001b[39m\u001b[K"
     ]
    },
    {
     "name": "stderr",
     "output_type": "stream",
     "text": [
      "\r\u001b[32mRunning 10000 trials for 1 scenarios...  29%|████        |  ETA: 0:07:47\u001b[39m\u001b[K"
     ]
    },
    {
     "name": "stderr",
     "output_type": "stream",
     "text": [
      "\r\u001b[32mRunning 10000 trials for 1 scenarios...  29%|████        |  ETA: 0:07:49\u001b[39m\u001b[K"
     ]
    },
    {
     "name": "stderr",
     "output_type": "stream",
     "text": [
      "\r\u001b[32mRunning 10000 trials for 1 scenarios...  29%|████        |  ETA: 0:07:51\u001b[39m\u001b[K"
     ]
    },
    {
     "name": "stderr",
     "output_type": "stream",
     "text": [
      "\r\u001b[32mRunning 10000 trials for 1 scenarios...  29%|████        |  ETA: 0:07:56\u001b[39m\u001b[K"
     ]
    },
    {
     "name": "stderr",
     "output_type": "stream",
     "text": [
      "\r\u001b[32mRunning 10000 trials for 1 scenarios...  29%|████        |  ETA: 0:08:01\u001b[39m\u001b[K"
     ]
    },
    {
     "name": "stderr",
     "output_type": "stream",
     "text": [
      "\r\u001b[32mRunning 10000 trials for 1 scenarios...  29%|████        |  ETA: 0:08:03\u001b[39m\u001b[K"
     ]
    },
    {
     "name": "stderr",
     "output_type": "stream",
     "text": [
      "\r\u001b[32mRunning 10000 trials for 1 scenarios...  29%|████        |  ETA: 0:08:08\u001b[39m\u001b[K"
     ]
    },
    {
     "name": "stderr",
     "output_type": "stream",
     "text": [
      "\r\u001b[32mRunning 10000 trials for 1 scenarios...  29%|████        |  ETA: 0:08:14\u001b[39m\u001b[K"
     ]
    },
    {
     "name": "stderr",
     "output_type": "stream",
     "text": [
      "\r\u001b[32mRunning 10000 trials for 1 scenarios...  29%|████        |  ETA: 0:08:16\u001b[39m\u001b[K"
     ]
    },
    {
     "name": "stderr",
     "output_type": "stream",
     "text": [
      "\r\u001b[32mRunning 10000 trials for 1 scenarios...  29%|████        |  ETA: 0:08:18\u001b[39m\u001b[K"
     ]
    },
    {
     "name": "stderr",
     "output_type": "stream",
     "text": [
      "\r\u001b[32mRunning 10000 trials for 1 scenarios...  29%|████        |  ETA: 0:08:23\u001b[39m\u001b[K"
     ]
    },
    {
     "name": "stderr",
     "output_type": "stream",
     "text": [
      "\r\u001b[32mRunning 10000 trials for 1 scenarios...  29%|████        |  ETA: 0:08:29\u001b[39m\u001b[K"
     ]
    },
    {
     "name": "stderr",
     "output_type": "stream",
     "text": [
      "\r\u001b[32mRunning 10000 trials for 1 scenarios...  29%|████        |  ETA: 0:08:31\u001b[39m\u001b[K"
     ]
    },
    {
     "name": "stderr",
     "output_type": "stream",
     "text": [
      "\r\u001b[32mRunning 10000 trials for 1 scenarios...  29%|████        |  ETA: 0:08:33\u001b[39m\u001b[K"
     ]
    },
    {
     "name": "stderr",
     "output_type": "stream",
     "text": [
      "\r\u001b[32mRunning 10000 trials for 1 scenarios...  30%|████        |  ETA: 0:08:38\u001b[39m\u001b[K"
     ]
    },
    {
     "name": "stderr",
     "output_type": "stream",
     "text": [
      "\r\u001b[32mRunning 10000 trials for 1 scenarios...  30%|████        |  ETA: 0:08:43\u001b[39m\u001b[K"
     ]
    },
    {
     "name": "stderr",
     "output_type": "stream",
     "text": [
      "\r\u001b[32mRunning 10000 trials for 1 scenarios...  30%|████        |  ETA: 0:08:45\u001b[39m\u001b[K"
     ]
    },
    {
     "name": "stderr",
     "output_type": "stream",
     "text": [
      "\r\u001b[32mRunning 10000 trials for 1 scenarios...  30%|████        |  ETA: 0:08:50\u001b[39m\u001b[K"
     ]
    },
    {
     "name": "stderr",
     "output_type": "stream",
     "text": [
      "\r\u001b[32mRunning 10000 trials for 1 scenarios...  30%|████        |  ETA: 0:08:55\u001b[39m\u001b[K"
     ]
    },
    {
     "name": "stderr",
     "output_type": "stream",
     "text": [
      "\r\u001b[32mRunning 10000 trials for 1 scenarios...  30%|████        |  ETA: 0:08:57\u001b[39m\u001b[K"
     ]
    },
    {
     "name": "stderr",
     "output_type": "stream",
     "text": [
      "\r\u001b[32mRunning 10000 trials for 1 scenarios...  30%|████        |  ETA: 0:08:59\u001b[39m\u001b[K"
     ]
    },
    {
     "name": "stderr",
     "output_type": "stream",
     "text": [
      "\r\u001b[32mRunning 10000 trials for 1 scenarios...  30%|████        |  ETA: 0:09:04\u001b[39m\u001b[K"
     ]
    },
    {
     "name": "stderr",
     "output_type": "stream",
     "text": [
      "\r\u001b[32mRunning 10000 trials for 1 scenarios...  30%|████        |  ETA: 0:09:09\u001b[39m\u001b[K"
     ]
    },
    {
     "name": "stderr",
     "output_type": "stream",
     "text": [
      "\r\u001b[32mRunning 10000 trials for 1 scenarios...  30%|████        |  ETA: 0:09:11\u001b[39m\u001b[K"
     ]
    },
    {
     "name": "stderr",
     "output_type": "stream",
     "text": [
      "\r\u001b[32mRunning 10000 trials for 1 scenarios...  30%|████        |  ETA: 0:09:14\u001b[39m\u001b[K"
     ]
    },
    {
     "name": "stderr",
     "output_type": "stream",
     "text": [
      "\r\u001b[32mRunning 10000 trials for 1 scenarios...  30%|████        |  ETA: 0:09:16\u001b[39m\u001b[K"
     ]
    },
    {
     "name": "stderr",
     "output_type": "stream",
     "text": [
      "\r\u001b[32mRunning 10000 trials for 1 scenarios...  30%|████        |  ETA: 0:09:18\u001b[39m\u001b[K"
     ]
    },
    {
     "name": "stderr",
     "output_type": "stream",
     "text": [
      "\r\u001b[32mRunning 10000 trials for 1 scenarios...  30%|████        |  ETA: 0:09:31\u001b[39m\u001b[K"
     ]
    },
    {
     "name": "stderr",
     "output_type": "stream",
     "text": [
      "\r\u001b[32mRunning 10000 trials for 1 scenarios...  30%|████        |  ETA: 0:09:33\u001b[39m\u001b[K"
     ]
    },
    {
     "name": "stderr",
     "output_type": "stream",
     "text": [
      "\r\u001b[32mRunning 10000 trials for 1 scenarios...  30%|████        |  ETA: 0:09:48\u001b[39m\u001b[K"
     ]
    },
    {
     "name": "stderr",
     "output_type": "stream",
     "text": [
      "\r\u001b[32mRunning 10000 trials for 1 scenarios...  30%|████        |  ETA: 0:09:50\u001b[39m\u001b[K"
     ]
    },
    {
     "name": "stderr",
     "output_type": "stream",
     "text": [
      "\r\u001b[32mRunning 10000 trials for 1 scenarios...  31%|████        |  ETA: 0:09:53\u001b[39m\u001b[K"
     ]
    },
    {
     "name": "stderr",
     "output_type": "stream",
     "text": [
      "\r\u001b[32mRunning 10000 trials for 1 scenarios...  31%|████        |  ETA: 0:10:06\u001b[39m\u001b[K"
     ]
    },
    {
     "name": "stderr",
     "output_type": "stream",
     "text": [
      "\r\u001b[32mRunning 10000 trials for 1 scenarios...  31%|████        |  ETA: 0:10:08\u001b[39m\u001b[K"
     ]
    },
    {
     "name": "stderr",
     "output_type": "stream",
     "text": [
      "\r\u001b[32mRunning 10000 trials for 1 scenarios...  31%|████        |  ETA: 0:10:10\u001b[39m\u001b[K"
     ]
    },
    {
     "name": "stderr",
     "output_type": "stream",
     "text": [
      "\r\u001b[32mRunning 10000 trials for 1 scenarios...  31%|████        |  ETA: 0:10:23\u001b[39m\u001b[K"
     ]
    },
    {
     "name": "stderr",
     "output_type": "stream",
     "text": [
      "\r\u001b[32mRunning 10000 trials for 1 scenarios...  31%|████        |  ETA: 0:10:25\u001b[39m\u001b[K"
     ]
    },
    {
     "name": "stderr",
     "output_type": "stream",
     "text": [
      "\r\u001b[32mRunning 10000 trials for 1 scenarios...  31%|████        |  ETA: 0:10:38\u001b[39m\u001b[K"
     ]
    },
    {
     "name": "stderr",
     "output_type": "stream",
     "text": [
      "\r\u001b[32mRunning 10000 trials for 1 scenarios...  31%|████        |  ETA: 0:10:40\u001b[39m\u001b[K"
     ]
    },
    {
     "name": "stderr",
     "output_type": "stream",
     "text": [
      "\r\u001b[32mRunning 10000 trials for 1 scenarios...  31%|████        |  ETA: 0:10:42\u001b[39m\u001b[K"
     ]
    },
    {
     "name": "stderr",
     "output_type": "stream",
     "text": [
      "\r\u001b[32mRunning 10000 trials for 1 scenarios...  31%|████        |  ETA: 0:10:54\u001b[39m\u001b[K"
     ]
    },
    {
     "name": "stderr",
     "output_type": "stream",
     "text": [
      "\r\u001b[32mRunning 10000 trials for 1 scenarios...  31%|████        |  ETA: 0:10:56\u001b[39m\u001b[K"
     ]
    },
    {
     "name": "stderr",
     "output_type": "stream",
     "text": [
      "\r\u001b[32mRunning 10000 trials for 1 scenarios...  32%|████        |  ETA: 0:11:08\u001b[39m\u001b[K"
     ]
    },
    {
     "name": "stderr",
     "output_type": "stream",
     "text": [
      "\r\u001b[32mRunning 10000 trials for 1 scenarios...  32%|████        |  ETA: 0:11:10\u001b[39m\u001b[K"
     ]
    },
    {
     "name": "stderr",
     "output_type": "stream",
     "text": [
      "\r\u001b[32mRunning 10000 trials for 1 scenarios...  32%|████        |  ETA: 0:11:12\u001b[39m\u001b[K"
     ]
    },
    {
     "name": "stderr",
     "output_type": "stream",
     "text": [
      "\r\u001b[32mRunning 10000 trials for 1 scenarios...  32%|████        |  ETA: 0:11:23\u001b[39m\u001b[K"
     ]
    },
    {
     "name": "stderr",
     "output_type": "stream",
     "text": [
      "\r\u001b[32mRunning 10000 trials for 1 scenarios...  32%|████        |  ETA: 0:11:25\u001b[39m\u001b[K"
     ]
    },
    {
     "name": "stderr",
     "output_type": "stream",
     "text": [
      "\r\u001b[32mRunning 10000 trials for 1 scenarios...  32%|████        |  ETA: 0:11:37\u001b[39m\u001b[K"
     ]
    },
    {
     "name": "stderr",
     "output_type": "stream",
     "text": [
      "\r\u001b[32mRunning 10000 trials for 1 scenarios...  32%|████        |  ETA: 0:11:39\u001b[39m\u001b[K"
     ]
    },
    {
     "name": "stderr",
     "output_type": "stream",
     "text": [
      "\r\u001b[32mRunning 10000 trials for 1 scenarios...  32%|████        |  ETA: 0:11:41\u001b[39m\u001b[K"
     ]
    },
    {
     "name": "stderr",
     "output_type": "stream",
     "text": [
      "\r\u001b[32mRunning 10000 trials for 1 scenarios...  32%|████        |  ETA: 0:11:53\u001b[39m\u001b[K"
     ]
    },
    {
     "name": "stderr",
     "output_type": "stream",
     "text": [
      "\r\u001b[32mRunning 10000 trials for 1 scenarios...  32%|████        |  ETA: 0:11:55\u001b[39m\u001b[K"
     ]
    },
    {
     "name": "stderr",
     "output_type": "stream",
     "text": [
      "\r\u001b[32mRunning 10000 trials for 1 scenarios...  32%|████        |  ETA: 0:11:56\u001b[39m\u001b[K"
     ]
    },
    {
     "name": "stderr",
     "output_type": "stream",
     "text": [
      "\r\u001b[32mRunning 10000 trials for 1 scenarios...  33%|████        |  ETA: 0:12:08\u001b[39m\u001b[K"
     ]
    },
    {
     "name": "stderr",
     "output_type": "stream",
     "text": [
      "\r\u001b[32mRunning 10000 trials for 1 scenarios...  33%|████        |  ETA: 0:12:10\u001b[39m\u001b[K"
     ]
    },
    {
     "name": "stderr",
     "output_type": "stream",
     "text": [
      "\r\u001b[32mRunning 10000 trials for 1 scenarios...  33%|████        |  ETA: 0:12:21\u001b[39m\u001b[K"
     ]
    },
    {
     "name": "stderr",
     "output_type": "stream",
     "text": [
      "\r\u001b[32mRunning 10000 trials for 1 scenarios...  33%|████        |  ETA: 0:12:23\u001b[39m\u001b[K"
     ]
    },
    {
     "name": "stderr",
     "output_type": "stream",
     "text": [
      "\r\u001b[32mRunning 10000 trials for 1 scenarios...  33%|████        |  ETA: 0:12:25\u001b[39m\u001b[K"
     ]
    },
    {
     "name": "stderr",
     "output_type": "stream",
     "text": [
      "\r\u001b[32mRunning 10000 trials for 1 scenarios...  33%|████        |  ETA: 0:12:45\u001b[39m\u001b[K"
     ]
    },
    {
     "name": "stderr",
     "output_type": "stream",
     "text": [
      "\r\u001b[32mRunning 10000 trials for 1 scenarios...  33%|████        |  ETA: 0:12:47\u001b[39m\u001b[K"
     ]
    },
    {
     "name": "stderr",
     "output_type": "stream",
     "text": [
      "\r\u001b[32mRunning 10000 trials for 1 scenarios...  33%|████        |  ETA: 0:12:54\u001b[39m\u001b[K"
     ]
    },
    {
     "name": "stderr",
     "output_type": "stream",
     "text": [
      "\r\u001b[32mRunning 10000 trials for 1 scenarios...  33%|████        |  ETA: 0:12:57\u001b[39m\u001b[K"
     ]
    },
    {
     "name": "stderr",
     "output_type": "stream",
     "text": [
      "\r\u001b[32mRunning 10000 trials for 1 scenarios...  33%|████        |  ETA: 0:12:59\u001b[39m\u001b[K"
     ]
    },
    {
     "name": "stderr",
     "output_type": "stream",
     "text": [
      "\r\u001b[32mRunning 10000 trials for 1 scenarios...  33%|████        |  ETA: 0:13:09\u001b[39m\u001b[K"
     ]
    },
    {
     "name": "stderr",
     "output_type": "stream",
     "text": [
      "\r\u001b[32mRunning 10000 trials for 1 scenarios...  33%|████        |  ETA: 0:13:13\u001b[39m\u001b[K"
     ]
    },
    {
     "name": "stderr",
     "output_type": "stream",
     "text": [
      "\r\u001b[32mRunning 10000 trials for 1 scenarios...  33%|████        |  ETA: 0:13:16\u001b[39m\u001b[K"
     ]
    },
    {
     "name": "stderr",
     "output_type": "stream",
     "text": [
      "\r"
     ]
    },
    {
     "name": "stderr",
     "output_type": "stream",
     "text": [
      "\u001b[32mRunning 10000 trials for 1 scenarios...  33%|█████       |  ETA: 0:13:26\u001b[39m\u001b[K"
     ]
    },
    {
     "name": "stderr",
     "output_type": "stream",
     "text": [
      "\r\u001b[32mRunning 10000 trials for 1 scenarios...  33%|█████       |  ETA: 0:13:30\u001b[39m\u001b[K"
     ]
    },
    {
     "name": "stderr",
     "output_type": "stream",
     "text": [
      "\r\u001b[32mRunning 10000 trials for 1 scenarios...  33%|█████       |  ETA: 0:13:34\u001b[39m\u001b[K"
     ]
    },
    {
     "name": "stderr",
     "output_type": "stream",
     "text": [
      "\r\u001b[32mRunning 10000 trials for 1 scenarios...  34%|█████       |  ETA: 0:13:38\u001b[39m\u001b[K"
     ]
    },
    {
     "name": "stderr",
     "output_type": "stream",
     "text": [
      "\r\u001b[32mRunning 10000 trials for 1 scenarios...  34%|█████       |  ETA: 0:13:40\u001b[39m\u001b[K"
     ]
    },
    {
     "name": "stderr",
     "output_type": "stream",
     "text": [
      "\r\u001b[32mRunning 10000 trials for 1 scenarios...  34%|█████       |  ETA: 0:13:41\u001b[39m\u001b[K"
     ]
    },
    {
     "name": "stderr",
     "output_type": "stream",
     "text": [
      "\r\u001b[32mRunning 10000 trials for 1 scenarios...  34%|█████       |  ETA: 0:13:52\u001b[39m\u001b[K"
     ]
    },
    {
     "name": "stderr",
     "output_type": "stream",
     "text": [
      "\r\u001b[32mRunning 10000 trials for 1 scenarios...  34%|█████       |  ETA: 0:13:53\u001b[39m\u001b[K"
     ]
    },
    {
     "name": "stderr",
     "output_type": "stream",
     "text": [
      "\r\u001b[32mRunning 10000 trials for 1 scenarios...  34%|█████       |  ETA: 0:13:55\u001b[39m\u001b[K"
     ]
    },
    {
     "name": "stderr",
     "output_type": "stream",
     "text": [
      "\r\u001b[32mRunning 10000 trials for 1 scenarios...  34%|█████       |  ETA: 0:14:04\u001b[39m\u001b[K"
     ]
    },
    {
     "name": "stderr",
     "output_type": "stream",
     "text": [
      "\r\u001b[32mRunning 10000 trials for 1 scenarios...  34%|█████       |  ETA: 0:14:06\u001b[39m\u001b[K"
     ]
    },
    {
     "name": "stderr",
     "output_type": "stream",
     "text": [
      "\r\u001b[32mRunning 10000 trials for 1 scenarios...  34%|█████       |  ETA: 0:14:15\u001b[39m\u001b[K"
     ]
    },
    {
     "name": "stderr",
     "output_type": "stream",
     "text": [
      "\r\u001b[32mRunning 10000 trials for 1 scenarios...  34%|█████       |  ETA: 0:14:17\u001b[39m\u001b[K"
     ]
    },
    {
     "name": "stderr",
     "output_type": "stream",
     "text": [
      "\r\u001b[32mRunning 10000 trials for 1 scenarios...  34%|█████       |  ETA: 0:14:25\u001b[39m\u001b[K"
     ]
    },
    {
     "name": "stderr",
     "output_type": "stream",
     "text": [
      "\r\u001b[32mRunning 10000 trials for 1 scenarios...  35%|█████       |  ETA: 0:14:35\u001b[39m\u001b[K"
     ]
    },
    {
     "name": "stderr",
     "output_type": "stream",
     "text": [
      "\r\u001b[32mRunning 10000 trials for 1 scenarios...  35%|█████       |  ETA: 0:14:36\u001b[39m\u001b[K"
     ]
    },
    {
     "name": "stderr",
     "output_type": "stream",
     "text": [
      "\r\u001b[32mRunning 10000 trials for 1 scenarios...  35%|█████       |  ETA: 0:14:46\u001b[39m\u001b[K"
     ]
    },
    {
     "name": "stderr",
     "output_type": "stream",
     "text": [
      "\r\u001b[32mRunning 10000 trials for 1 scenarios...  35%|█████       |  ETA: 0:14:47\u001b[39m\u001b[K"
     ]
    },
    {
     "name": "stderr",
     "output_type": "stream",
     "text": [
      "\r\u001b[32mRunning 10000 trials for 1 scenarios...  35%|█████       |  ETA: 0:14:49\u001b[39m\u001b[K"
     ]
    },
    {
     "name": "stderr",
     "output_type": "stream",
     "text": [
      "\r\u001b[32mRunning 10000 trials for 1 scenarios...  35%|█████       |  ETA: 0:14:58\u001b[39m\u001b[K"
     ]
    },
    {
     "name": "stderr",
     "output_type": "stream",
     "text": [
      "\r\u001b[32mRunning 10000 trials for 1 scenarios...  35%|█████       |  ETA: 0:15:00\u001b[39m\u001b[K"
     ]
    },
    {
     "name": "stderr",
     "output_type": "stream",
     "text": [
      "\r\u001b[32mRunning 10000 trials for 1 scenarios...  35%|█████       |  ETA: 0:15:01\u001b[39m\u001b[K"
     ]
    },
    {
     "name": "stderr",
     "output_type": "stream",
     "text": [
      "\r\u001b[32mRunning 10000 trials for 1 scenarios...  35%|█████       |  ETA: 0:15:10\u001b[39m\u001b[K"
     ]
    },
    {
     "name": "stderr",
     "output_type": "stream",
     "text": [
      "\r\u001b[32mRunning 10000 trials for 1 scenarios...  35%|█████       |  ETA: 0:15:12\u001b[39m\u001b[K"
     ]
    },
    {
     "name": "stderr",
     "output_type": "stream",
     "text": [
      "\r\u001b[32mRunning 10000 trials for 1 scenarios...  36%|█████       |  ETA: 0:15:20\u001b[39m\u001b[K"
     ]
    },
    {
     "name": "stderr",
     "output_type": "stream",
     "text": [
      "\r\u001b[32mRunning 10000 trials for 1 scenarios...  36%|█████       |  ETA: 0:15:21\u001b[39m\u001b[K"
     ]
    },
    {
     "name": "stderr",
     "output_type": "stream",
     "text": [
      "\r\u001b[32mRunning 10000 trials for 1 scenarios...  36%|█████       |  ETA: 0:15:23\u001b[39m\u001b[K"
     ]
    },
    {
     "name": "stderr",
     "output_type": "stream",
     "text": [
      "\r\u001b[32mRunning 10000 trials for 1 scenarios...  36%|█████       |  ETA: 0:15:27\u001b[39m\u001b[K"
     ]
    },
    {
     "name": "stderr",
     "output_type": "stream",
     "text": [
      "\r\u001b[32mRunning 10000 trials for 1 scenarios...  36%|█████       |  ETA: 0:15:28\u001b[39m\u001b[K"
     ]
    },
    {
     "name": "stderr",
     "output_type": "stream",
     "text": [
      "\r\u001b[32mRunning 10000 trials for 1 scenarios...  36%|█████       |  ETA: 0:15:30\u001b[39m\u001b[K"
     ]
    },
    {
     "name": "stderr",
     "output_type": "stream",
     "text": [
      "\r\u001b[32mRunning 10000 trials for 1 scenarios...  36%|█████       |  ETA: 0:15:33\u001b[39m\u001b[K"
     ]
    },
    {
     "name": "stderr",
     "output_type": "stream",
     "text": [
      "\r\u001b[32mRunning 10000 trials for 1 scenarios...  36%|█████       |  ETA: 0:15:34\u001b[39m\u001b[K"
     ]
    },
    {
     "name": "stderr",
     "output_type": "stream",
     "text": [
      "\r\u001b[32mRunning 10000 trials for 1 scenarios...  36%|█████       |  ETA: 0:15:36\u001b[39m\u001b[K"
     ]
    },
    {
     "name": "stderr",
     "output_type": "stream",
     "text": [
      "\r\u001b[32mRunning 10000 trials for 1 scenarios...  36%|█████       |  ETA: 0:15:37\u001b[39m\u001b[K"
     ]
    },
    {
     "name": "stderr",
     "output_type": "stream",
     "text": [
      "\r\u001b[32mRunning 10000 trials for 1 scenarios...  36%|█████       |  ETA: 0:15:46\u001b[39m\u001b[K"
     ]
    },
    {
     "name": "stderr",
     "output_type": "stream",
     "text": [
      "\r\u001b[32mRunning 10000 trials for 1 scenarios...  36%|█████       |  ETA: 0:15:48\u001b[39m\u001b[K"
     ]
    },
    {
     "name": "stderr",
     "output_type": "stream",
     "text": [
      "\r\u001b[32mRunning 10000 trials for 1 scenarios...  36%|█████       |  ETA: 0:15:49\u001b[39m\u001b[K"
     ]
    },
    {
     "name": "stderr",
     "output_type": "stream",
     "text": [
      "\r\u001b[32mRunning 10000 trials for 1 scenarios...  36%|█████       |  ETA: 0:15:57\u001b[39m\u001b[K"
     ]
    },
    {
     "name": "stderr",
     "output_type": "stream",
     "text": [
      "\r\u001b[32mRunning 10000 trials for 1 scenarios...  36%|█████       |  ETA: 0:15:59\u001b[39m\u001b[K"
     ]
    },
    {
     "name": "stderr",
     "output_type": "stream",
     "text": [
      "\r\u001b[32mRunning 10000 trials for 1 scenarios...  36%|█████       |  ETA: 0:16:07\u001b[39m\u001b[K"
     ]
    },
    {
     "name": "stderr",
     "output_type": "stream",
     "text": [
      "\r\u001b[32mRunning 10000 trials for 1 scenarios...  37%|█████       |  ETA: 0:16:09\u001b[39m\u001b[K"
     ]
    },
    {
     "name": "stderr",
     "output_type": "stream",
     "text": [
      "\r\u001b[32mRunning 10000 trials for 1 scenarios...  37%|█████       |  ETA: 0:16:14\u001b[39m\u001b[K"
     ]
    },
    {
     "name": "stderr",
     "output_type": "stream",
     "text": [
      "\r\u001b[32mRunning 10000 trials for 1 scenarios...  37%|█████       |  ETA: 0:16:23\u001b[39m\u001b[K"
     ]
    },
    {
     "name": "stderr",
     "output_type": "stream",
     "text": [
      "\r\u001b[32mRunning 10000 trials for 1 scenarios...  37%|█████       |  ETA: 0:16:24\u001b[39m\u001b[K"
     ]
    },
    {
     "name": "stderr",
     "output_type": "stream",
     "text": [
      "\r\u001b[32mRunning 10000 trials for 1 scenarios...  37%|█████       |  ETA: 0:16:27\u001b[39m\u001b[K"
     ]
    },
    {
     "name": "stderr",
     "output_type": "stream",
     "text": [
      "\r\u001b[32mRunning 10000 trials for 1 scenarios...  37%|█████       |  ETA: 0:16:29\u001b[39m\u001b[K"
     ]
    },
    {
     "name": "stderr",
     "output_type": "stream",
     "text": [
      "\r\u001b[32mRunning 10000 trials for 1 scenarios...  37%|█████       |  ETA: 0:16:32\u001b[39m\u001b[K"
     ]
    },
    {
     "name": "stderr",
     "output_type": "stream",
     "text": [
      "\r\u001b[32mRunning 10000 trials for 1 scenarios...  37%|█████       |  ETA: 0:16:36\u001b[39m\u001b[K"
     ]
    },
    {
     "name": "stderr",
     "output_type": "stream",
     "text": [
      "\r\u001b[32mRunning 10000 trials for 1 scenarios...  37%|█████       |  ETA: 0:16:37\u001b[39m\u001b[K"
     ]
    },
    {
     "name": "stderr",
     "output_type": "stream",
     "text": [
      "\r\u001b[32mRunning 10000 trials for 1 scenarios...  37%|█████       |  ETA: 0:16:42\u001b[39m\u001b[K"
     ]
    },
    {
     "name": "stderr",
     "output_type": "stream",
     "text": [
      "\r\u001b[32mRunning 10000 trials for 1 scenarios...  37%|█████       |  ETA: 0:16:49\u001b[39m\u001b[K"
     ]
    },
    {
     "name": "stderr",
     "output_type": "stream",
     "text": [
      "\r\u001b[32mRunning 10000 trials for 1 scenarios...  37%|█████       |  ETA: 0:16:50\u001b[39m\u001b[K"
     ]
    },
    {
     "name": "stderr",
     "output_type": "stream",
     "text": [
      "\r\u001b[32mRunning 10000 trials for 1 scenarios...  38%|█████       |  ETA: 0:16:56\u001b[39m\u001b[K"
     ]
    },
    {
     "name": "stderr",
     "output_type": "stream",
     "text": [
      "\r\u001b[32mRunning 10000 trials for 1 scenarios...  38%|█████       |  ETA: 0:17:03\u001b[39m\u001b[K"
     ]
    },
    {
     "name": "stderr",
     "output_type": "stream",
     "text": [
      "\r\u001b[32mRunning 10000 trials for 1 scenarios...  38%|█████       |  ETA: 0:17:04\u001b[39m\u001b[K"
     ]
    },
    {
     "name": "stderr",
     "output_type": "stream",
     "text": [
      "\r\u001b[32mRunning 10000 trials for 1 scenarios...  38%|█████       |  ETA: 0:17:07\u001b[39m\u001b[K"
     ]
    },
    {
     "name": "stderr",
     "output_type": "stream",
     "text": [
      "\r\u001b[32mRunning 10000 trials for 1 scenarios...  38%|█████       |  ETA: 0:17:09\u001b[39m\u001b[K"
     ]
    },
    {
     "name": "stderr",
     "output_type": "stream",
     "text": [
      "\r\u001b[32mRunning 10000 trials for 1 scenarios...  38%|█████       |  ETA: 0:17:14\u001b[39m\u001b[K"
     ]
    },
    {
     "name": "stderr",
     "output_type": "stream",
     "text": [
      "\r\u001b[32mRunning 10000 trials for 1 scenarios...  38%|█████       |  ETA: 0:17:16\u001b[39m\u001b[K"
     ]
    },
    {
     "name": "stderr",
     "output_type": "stream",
     "text": [
      "\r\u001b[32mRunning 10000 trials for 1 scenarios...  38%|█████       |  ETA: 0:17:20\u001b[39m\u001b[K"
     ]
    },
    {
     "name": "stderr",
     "output_type": "stream",
     "text": [
      "\r\u001b[32mRunning 10000 trials for 1 scenarios...  38%|█████       |  ETA: 0:17:21\u001b[39m\u001b[K"
     ]
    },
    {
     "name": "stderr",
     "output_type": "stream",
     "text": [
      "\r\u001b[32mRunning 10000 trials for 1 scenarios...  38%|█████       |  ETA: 0:17:26\u001b[39m\u001b[K"
     ]
    },
    {
     "name": "stderr",
     "output_type": "stream",
     "text": [
      "\r\u001b[32mRunning 10000 trials for 1 scenarios...  38%|█████       |  ETA: 0:17:34\u001b[39m\u001b[K"
     ]
    },
    {
     "name": "stderr",
     "output_type": "stream",
     "text": [
      "\r\u001b[32mRunning 10000 trials for 1 scenarios...  38%|█████       |  ETA: 0:17:35\u001b[39m\u001b[K"
     ]
    },
    {
     "name": "stderr",
     "output_type": "stream",
     "text": [
      "\r\u001b[32mRunning 10000 trials for 1 scenarios...  39%|█████       |  ETA: 0:17:39\u001b[39m\u001b[K"
     ]
    },
    {
     "name": "stderr",
     "output_type": "stream",
     "text": [
      "\r\u001b[32mRunning 10000 trials for 1 scenarios...  39%|█████       |  ETA: 0:17:46\u001b[39m\u001b[K"
     ]
    },
    {
     "name": "stderr",
     "output_type": "stream",
     "text": [
      "\r\u001b[32mRunning 10000 trials for 1 scenarios...  39%|█████       |  ETA: 0:17:48\u001b[39m\u001b[K"
     ]
    },
    {
     "name": "stderr",
     "output_type": "stream",
     "text": [
      "\r\u001b[32mRunning 10000 trials for 1 scenarios...  39%|█████       |  ETA: 0:17:50\u001b[39m\u001b[K"
     ]
    },
    {
     "name": "stderr",
     "output_type": "stream",
     "text": [
      "\r\u001b[32mRunning 10000 trials for 1 scenarios...  39%|█████       |  ETA: 0:17:51\u001b[39m\u001b[K"
     ]
    },
    {
     "name": "stderr",
     "output_type": "stream",
     "text": [
      "\r\u001b[32mRunning 10000 trials for 1 scenarios...  39%|█████       |  ETA: 0:17:53\u001b[39m\u001b[K"
     ]
    },
    {
     "name": "stderr",
     "output_type": "stream",
     "text": [
      "\r\u001b[32mRunning 10000 trials for 1 scenarios...  39%|█████       |  ETA: 0:17:55\u001b[39m\u001b[K"
     ]
    },
    {
     "name": "stderr",
     "output_type": "stream",
     "text": [
      "\r\u001b[32mRunning 10000 trials for 1 scenarios...  39%|█████       |  ETA: 0:17:56\u001b[39m\u001b[K"
     ]
    },
    {
     "name": "stderr",
     "output_type": "stream",
     "text": [
      "\r\u001b[32mRunning 10000 trials for 1 scenarios...  39%|█████       |  ETA: 0:18:01\u001b[39m\u001b[K"
     ]
    },
    {
     "name": "stderr",
     "output_type": "stream",
     "text": [
      "\r\u001b[32mRunning 10000 trials for 1 scenarios...  39%|█████       |  ETA: 0:18:07\u001b[39m\u001b[K"
     ]
    },
    {
     "name": "stderr",
     "output_type": "stream",
     "text": [
      "\r\u001b[32mRunning 10000 trials for 1 scenarios...  39%|█████       |  ETA: 0:18:08\u001b[39m\u001b[K"
     ]
    },
    {
     "name": "stderr",
     "output_type": "stream",
     "text": [
      "\r\u001b[32mRunning 10000 trials for 1 scenarios...  39%|█████       |  ETA: 0:18:12\u001b[39m\u001b[K"
     ]
    },
    {
     "name": "stderr",
     "output_type": "stream",
     "text": [
      "\r\u001b[32mRunning 10000 trials for 1 scenarios...  40%|█████       |  ETA: 0:18:18\u001b[39m\u001b[K"
     ]
    },
    {
     "name": "stderr",
     "output_type": "stream",
     "text": [
      "\r\u001b[32mRunning 10000 trials for 1 scenarios...  40%|█████       |  ETA: 0:18:20\u001b[39m\u001b[K"
     ]
    },
    {
     "name": "stderr",
     "output_type": "stream",
     "text": [
      "\r\u001b[32mRunning 10000 trials for 1 scenarios...  40%|█████       |  ETA: 0:18:22\u001b[39m\u001b[K"
     ]
    },
    {
     "name": "stderr",
     "output_type": "stream",
     "text": [
      "\r\u001b[32mRunning 10000 trials for 1 scenarios...  40%|█████       |  ETA: 0:18:23\u001b[39m\u001b[K"
     ]
    },
    {
     "name": "stderr",
     "output_type": "stream",
     "text": [
      "\r\u001b[32mRunning 10000 trials for 1 scenarios...  40%|█████       |  ETA: 0:18:27\u001b[39m\u001b[K"
     ]
    },
    {
     "name": "stderr",
     "output_type": "stream",
     "text": [
      "\r\u001b[32mRunning 10000 trials for 1 scenarios...  40%|█████       |  ETA: 0:18:28\u001b[39m\u001b[K"
     ]
    },
    {
     "name": "stderr",
     "output_type": "stream",
     "text": [
      "\r\u001b[32mRunning 10000 trials for 1 scenarios...  40%|█████       |  ETA: 0:18:30\u001b[39m\u001b[K"
     ]
    },
    {
     "name": "stderr",
     "output_type": "stream",
     "text": [
      "\r\u001b[32mRunning 10000 trials for 1 scenarios...  40%|█████       |  ETA: 0:18:31\u001b[39m\u001b[K"
     ]
    },
    {
     "name": "stderr",
     "output_type": "stream",
     "text": [
      "\r\u001b[32mRunning 10000 trials for 1 scenarios...  40%|█████       |  ETA: 0:18:35\u001b[39m\u001b[K"
     ]
    },
    {
     "name": "stderr",
     "output_type": "stream",
     "text": [
      "\r\u001b[32mRunning 10000 trials for 1 scenarios...  40%|█████       |  ETA: 0:18:41\u001b[39m\u001b[K"
     ]
    },
    {
     "name": "stderr",
     "output_type": "stream",
     "text": [
      "\r\u001b[32mRunning 10000 trials for 1 scenarios...  40%|█████       |  ETA: 0:18:42\u001b[39m\u001b[K"
     ]
    },
    {
     "name": "stderr",
     "output_type": "stream",
     "text": [
      "\r\u001b[32mRunning 10000 trials for 1 scenarios...  40%|█████       |  ETA: 0:18:46\u001b[39m\u001b[K"
     ]
    },
    {
     "name": "stderr",
     "output_type": "stream",
     "text": [
      "\r\u001b[32mRunning 10000 trials for 1 scenarios...  41%|█████       |  ETA: 0:18:52\u001b[39m\u001b[K"
     ]
    },
    {
     "name": "stderr",
     "output_type": "stream",
     "text": [
      "\r\u001b[32mRunning 10000 trials for 1 scenarios...  41%|█████       |  ETA: 0:18:53\u001b[39m\u001b[K"
     ]
    },
    {
     "name": "stderr",
     "output_type": "stream",
     "text": [
      "\r\u001b[32mRunning 10000 trials for 1 scenarios...  41%|█████       |  ETA: 0:18:54\u001b[39m\u001b[K"
     ]
    },
    {
     "name": "stderr",
     "output_type": "stream",
     "text": [
      "\r\u001b[32mRunning 10000 trials for 1 scenarios...  41%|█████       |  ETA: 0:18:56\u001b[39m\u001b[K"
     ]
    },
    {
     "name": "stderr",
     "output_type": "stream",
     "text": [
      "\r\u001b[32mRunning 10000 trials for 1 scenarios...  41%|█████       |  ETA: 0:18:57\u001b[39m\u001b[K"
     ]
    },
    {
     "name": "stderr",
     "output_type": "stream",
     "text": [
      "\r\u001b[32mRunning 10000 trials for 1 scenarios...  41%|█████       |  ETA: 0:18:59\u001b[39m\u001b[K"
     ]
    },
    {
     "name": "stderr",
     "output_type": "stream",
     "text": [
      "\r\u001b[32mRunning 10000 trials for 1 scenarios...  41%|█████       |  ETA: 0:19:00\u001b[39m\u001b[K"
     ]
    },
    {
     "name": "stderr",
     "output_type": "stream",
     "text": [
      "\r\u001b[32mRunning 10000 trials for 1 scenarios...  41%|█████       |  ETA: 0:19:04\u001b[39m\u001b[K"
     ]
    },
    {
     "name": "stderr",
     "output_type": "stream",
     "text": [
      "\r\u001b[32mRunning 10000 trials for 1 scenarios...  41%|█████       |  ETA: 0:19:09\u001b[39m\u001b[K"
     ]
    },
    {
     "name": "stderr",
     "output_type": "stream",
     "text": [
      "\r\u001b[32mRunning 10000 trials for 1 scenarios...  41%|█████       |  ETA: 0:19:10\u001b[39m\u001b[K"
     ]
    },
    {
     "name": "stderr",
     "output_type": "stream",
     "text": [
      "\r\u001b[32mRunning 10000 trials for 1 scenarios...  41%|█████       |  ETA: 0:19:14\u001b[39m\u001b[K"
     ]
    },
    {
     "name": "stderr",
     "output_type": "stream",
     "text": [
      "\r\u001b[32mRunning 10000 trials for 1 scenarios...  41%|█████       |  ETA: 0:19:19\u001b[39m\u001b[K"
     ]
    },
    {
     "name": "stderr",
     "output_type": "stream",
     "text": [
      "\r\u001b[32mRunning 10000 trials for 1 scenarios...  42%|█████       |  ETA: 0:19:20\u001b[39m\u001b[K"
     ]
    },
    {
     "name": "stderr",
     "output_type": "stream",
     "text": [
      "\r\u001b[32mRunning 10000 trials for 1 scenarios...  42%|█████       |  ETA: 0:19:22\u001b[39m\u001b[K"
     ]
    },
    {
     "name": "stderr",
     "output_type": "stream",
     "text": [
      "\r\u001b[32mRunning 10000 trials for 1 scenarios...  42%|█████       |  ETA: 0:19:23\u001b[39m\u001b[K"
     ]
    },
    {
     "name": "stderr",
     "output_type": "stream",
     "text": [
      "\r\u001b[32mRunning 10000 trials for 1 scenarios...  42%|██████      |  ETA: 0:19:26\u001b[39m\u001b[K"
     ]
    },
    {
     "name": "stderr",
     "output_type": "stream",
     "text": [
      "\r\u001b[32mRunning 10000 trials for 1 scenarios...  42%|██████      |  ETA: 0:19:27\u001b[39m\u001b[K"
     ]
    },
    {
     "name": "stderr",
     "output_type": "stream",
     "text": [
      "\r\u001b[32mRunning 10000 trials for 1 scenarios...  42%|██████      |  ETA: 0:19:29\u001b[39m\u001b[K"
     ]
    },
    {
     "name": "stderr",
     "output_type": "stream",
     "text": [
      "\r\u001b[32mRunning 10000 trials for 1 scenarios...  42%|██████      |  ETA: 0:19:30\u001b[39m\u001b[K"
     ]
    },
    {
     "name": "stderr",
     "output_type": "stream",
     "text": [
      "\r\u001b[32mRunning 10000 trials for 1 scenarios...  42%|██████      |  ETA: 0:19:33\u001b[39m\u001b[K"
     ]
    },
    {
     "name": "stderr",
     "output_type": "stream",
     "text": [
      "\r\u001b[32mRunning 10000 trials for 1 scenarios...  42%|██████      |  ETA: 0:19:38\u001b[39m\u001b[K"
     ]
    },
    {
     "name": "stderr",
     "output_type": "stream",
     "text": [
      "\r\u001b[32mRunning 10000 trials for 1 scenarios...  42%|██████      |  ETA: 0:19:39\u001b[39m\u001b[K"
     ]
    },
    {
     "name": "stderr",
     "output_type": "stream",
     "text": [
      "\r\u001b[32mRunning 10000 trials for 1 scenarios...  42%|██████      |  ETA: 0:19:43\u001b[39m\u001b[K"
     ]
    },
    {
     "name": "stderr",
     "output_type": "stream",
     "text": [
      "\r\u001b[32mRunning 10000 trials for 1 scenarios...  42%|██████      |  ETA: 0:19:47\u001b[39m\u001b[K"
     ]
    },
    {
     "name": "stderr",
     "output_type": "stream",
     "text": [
      "\r\u001b[32mRunning 10000 trials for 1 scenarios...  43%|██████      |  ETA: 0:19:48\u001b[39m\u001b[K"
     ]
    },
    {
     "name": "stderr",
     "output_type": "stream",
     "text": [
      "\r\u001b[32mRunning 10000 trials for 1 scenarios...  43%|██████      |  ETA: 0:19:49\u001b[39m\u001b[K"
     ]
    },
    {
     "name": "stderr",
     "output_type": "stream",
     "text": [
      "\r\u001b[32mRunning 10000 trials for 1 scenarios...  43%|██████      |  ETA: 0:19:51\u001b[39m\u001b[K"
     ]
    },
    {
     "name": "stderr",
     "output_type": "stream",
     "text": [
      "\r\u001b[32mRunning 10000 trials for 1 scenarios...  43%|██████      |  ETA: 0:19:52\u001b[39m\u001b[K"
     ]
    },
    {
     "name": "stderr",
     "output_type": "stream",
     "text": [
      "\r\u001b[32mRunning 10000 trials for 1 scenarios...  43%|██████      |  ETA: 0:19:53\u001b[39m\u001b[K"
     ]
    },
    {
     "name": "stderr",
     "output_type": "stream",
     "text": [
      "\r\u001b[32mRunning 10000 trials for 1 scenarios...  43%|██████      |  ETA: 0:19:54\u001b[39m\u001b[K"
     ]
    },
    {
     "name": "stderr",
     "output_type": "stream",
     "text": [
      "\r\u001b[32mRunning 10000 trials for 1 scenarios...  43%|██████      |  ETA: 0:19:57\u001b[39m\u001b[K"
     ]
    },
    {
     "name": "stderr",
     "output_type": "stream",
     "text": [
      "\r\u001b[32mRunning 10000 trials for 1 scenarios...  43%|██████      |  ETA: 0:20:02\u001b[39m\u001b[K"
     ]
    },
    {
     "name": "stderr",
     "output_type": "stream",
     "text": [
      "\r\u001b[32mRunning 10000 trials for 1 scenarios...  43%|██████      |  ETA: 0:20:03\u001b[39m\u001b[K"
     ]
    },
    {
     "name": "stderr",
     "output_type": "stream",
     "text": [
      "\r\u001b[32mRunning 10000 trials for 1 scenarios...  43%|██████      |  ETA: 0:20:06\u001b[39m\u001b[K"
     ]
    },
    {
     "name": "stderr",
     "output_type": "stream",
     "text": [
      "\r\u001b[32mRunning 10000 trials for 1 scenarios...  43%|██████      |  ETA: 0:20:10\u001b[39m\u001b[K"
     ]
    },
    {
     "name": "stderr",
     "output_type": "stream",
     "text": [
      "\r\u001b[32mRunning 10000 trials for 1 scenarios...  43%|██████      |  ETA: 0:20:11\u001b[39m\u001b[K"
     ]
    },
    {
     "name": "stderr",
     "output_type": "stream",
     "text": [
      "\r\u001b[32mRunning 10000 trials for 1 scenarios...  44%|██████      |  ETA: 0:20:13\u001b[39m\u001b[K"
     ]
    },
    {
     "name": "stderr",
     "output_type": "stream",
     "text": [
      "\r\u001b[32mRunning 10000 trials for 1 scenarios...  44%|██████      |  ETA: 0:20:14\u001b[39m\u001b[K"
     ]
    },
    {
     "name": "stderr",
     "output_type": "stream",
     "text": [
      "\r\u001b[32mRunning 10000 trials for 1 scenarios...  44%|██████      |  ETA: 0:20:16\u001b[39m\u001b[K"
     ]
    },
    {
     "name": "stderr",
     "output_type": "stream",
     "text": [
      "\r\u001b[32mRunning 10000 trials for 1 scenarios...  44%|██████      |  ETA: 0:20:17\u001b[39m\u001b[K"
     ]
    },
    {
     "name": "stderr",
     "output_type": "stream",
     "text": [
      "\r\u001b[32mRunning 10000 trials for 1 scenarios...  44%|██████      |  ETA: 0:21:32\u001b[39m\u001b[K"
     ]
    },
    {
     "name": "stderr",
     "output_type": "stream",
     "text": [
      "\r\u001b[32mRunning 10000 trials for 1 scenarios...  44%|██████      |  ETA: 0:21:33\u001b[39m\u001b[K"
     ]
    },
    {
     "name": "stderr",
     "output_type": "stream",
     "text": [
      "\r\u001b[32mRunning 10000 trials for 1 scenarios...  44%|██████      |  ETA: 0:21:34\u001b[39m\u001b[K"
     ]
    },
    {
     "name": "stderr",
     "output_type": "stream",
     "text": [
      "\r\u001b[32mRunning 10000 trials for 1 scenarios...  44%|██████      |  ETA: 0:21:35\u001b[39m\u001b[K"
     ]
    },
    {
     "name": "stderr",
     "output_type": "stream",
     "text": [
      "\r\u001b[32mRunning 10000 trials for 1 scenarios...  44%|██████      |  ETA: 0:21:36\u001b[39m\u001b[K"
     ]
    },
    {
     "name": "stderr",
     "output_type": "stream",
     "text": [
      "\r\u001b[32mRunning 10000 trials for 1 scenarios...  44%|██████      |  ETA: 0:21:37\u001b[39m\u001b[K"
     ]
    },
    {
     "name": "stderr",
     "output_type": "stream",
     "text": [
      "\r\u001b[32mRunning 10000 trials for 1 scenarios...  44%|██████      |  ETA: 0:21:40\u001b[39m\u001b[K"
     ]
    },
    {
     "name": "stderr",
     "output_type": "stream",
     "text": [
      "\r\u001b[32mRunning 10000 trials for 1 scenarios...  44%|██████      |  ETA: 0:21:43\u001b[39m\u001b[K"
     ]
    },
    {
     "name": "stderr",
     "output_type": "stream",
     "text": [
      "\r\u001b[32mRunning 10000 trials for 1 scenarios...  44%|██████      |  ETA: 0:21:44\u001b[39m\u001b[K"
     ]
    },
    {
     "name": "stderr",
     "output_type": "stream",
     "text": [
      "\r\u001b[32mRunning 10000 trials for 1 scenarios...  44%|██████      |  ETA: 0:21:46\u001b[39m\u001b[K"
     ]
    },
    {
     "name": "stderr",
     "output_type": "stream",
     "text": [
      "\r\u001b[32mRunning 10000 trials for 1 scenarios...  45%|██████      |  ETA: 0:21:50\u001b[39m\u001b[K"
     ]
    },
    {
     "name": "stderr",
     "output_type": "stream",
     "text": [
      "\r\u001b[32mRunning 10000 trials for 1 scenarios...  45%|██████      |  ETA: 0:21:50\u001b[39m\u001b[K"
     ]
    },
    {
     "name": "stderr",
     "output_type": "stream",
     "text": [
      "\r\u001b[32mRunning 10000 trials for 1 scenarios...  45%|██████      |  ETA: 0:21:51\u001b[39m\u001b[K"
     ]
    },
    {
     "name": "stderr",
     "output_type": "stream",
     "text": [
      "\r\u001b[32mRunning 10000 trials for 1 scenarios...  45%|██████      |  ETA: 0:21:52\u001b[39m\u001b[K"
     ]
    },
    {
     "name": "stderr",
     "output_type": "stream",
     "text": [
      "\r\u001b[32mRunning 10000 trials for 1 scenarios...  45%|██████      |  ETA: 0:21:54\u001b[39m\u001b[K"
     ]
    },
    {
     "name": "stderr",
     "output_type": "stream",
     "text": [
      "\r\u001b[32mRunning 10000 trials for 1 scenarios...  45%|██████      |  ETA: 0:21:55\u001b[39m\u001b[K"
     ]
    },
    {
     "name": "stderr",
     "output_type": "stream",
     "text": [
      "\r\u001b[32mRunning 10000 trials for 1 scenarios...  45%|██████      |  ETA: 0:21:56\u001b[39m\u001b[K"
     ]
    },
    {
     "name": "stderr",
     "output_type": "stream",
     "text": [
      "\r\u001b[32mRunning 10000 trials for 1 scenarios...  45%|██████      |  ETA: 0:21:57\u001b[39m\u001b[K"
     ]
    },
    {
     "name": "stderr",
     "output_type": "stream",
     "text": [
      "\r\u001b[32mRunning 10000 trials for 1 scenarios...  45%|██████      |  ETA: 0:21:59\u001b[39m\u001b[K"
     ]
    },
    {
     "name": "stderr",
     "output_type": "stream",
     "text": [
      "\r\u001b[32mRunning 10000 trials for 1 scenarios...  45%|██████      |  ETA: 0:22:02\u001b[39m\u001b[K"
     ]
    },
    {
     "name": "stderr",
     "output_type": "stream",
     "text": [
      "\r\u001b[32mRunning 10000 trials for 1 scenarios...  45%|██████      |  ETA: 0:22:03\u001b[39m\u001b[K"
     ]
    },
    {
     "name": "stderr",
     "output_type": "stream",
     "text": [
      "\r\u001b[32mRunning 10000 trials for 1 scenarios...  45%|██████      |  ETA: 0:22:05\u001b[39m"
     ]
    },
    {
     "name": "stderr",
     "output_type": "stream",
     "text": [
      "\u001b[K"
     ]
    },
    {
     "name": "stderr",
     "output_type": "stream",
     "text": [
      "\r\u001b[32mRunning 10000 trials for 1 scenarios...  46%|██████      |  ETA: 0:22:08\u001b[39m\u001b[K"
     ]
    },
    {
     "name": "stderr",
     "output_type": "stream",
     "text": [
      "\r\u001b[32mRunning 10000 trials for 1 scenarios...  46%|██████      |  ETA: 0:22:09\u001b[39m\u001b[K"
     ]
    },
    {
     "name": "stderr",
     "output_type": "stream",
     "text": [
      "\r\u001b[32mRunning 10000 trials for 1 scenarios...  46%|██████      |  ETA: 0:22:09\u001b[39m\u001b[K"
     ]
    },
    {
     "name": "stderr",
     "output_type": "stream",
     "text": [
      "\r\u001b[32mRunning 10000 trials for 1 scenarios...  46%|██████      |  ETA: 0:22:10\u001b[39m\u001b[K"
     ]
    },
    {
     "name": "stderr",
     "output_type": "stream",
     "text": [
      "\r\u001b[32mRunning 10000 trials for 1 scenarios...  46%|██████      |  ETA: 0:22:11\u001b[39m\u001b[K"
     ]
    },
    {
     "name": "stderr",
     "output_type": "stream",
     "text": [
      "\r\u001b[32mRunning 10000 trials for 1 scenarios...  46%|██████      |  ETA: 0:22:11\u001b[39m\u001b[K"
     ]
    },
    {
     "name": "stderr",
     "output_type": "stream",
     "text": [
      "\r\u001b[32mRunning 10000 trials for 1 scenarios...  46%|██████      |  ETA: 0:22:12\u001b[39m\u001b[K"
     ]
    },
    {
     "name": "stderr",
     "output_type": "stream",
     "text": [
      "\r\u001b[32mRunning 10000 trials for 1 scenarios...  46%|██████      |  ETA: 0:22:14\u001b[39m\u001b[K"
     ]
    },
    {
     "name": "stderr",
     "output_type": "stream",
     "text": [
      "\r\u001b[32mRunning 10000 trials for 1 scenarios...  46%|██████      |  ETA: 0:22:17\u001b[39m\u001b[K"
     ]
    },
    {
     "name": "stderr",
     "output_type": "stream",
     "text": [
      "\r\u001b[32mRunning 10000 trials for 1 scenarios...  46%|██████      |  ETA: 0:22:18\u001b[39m\u001b[K"
     ]
    },
    {
     "name": "stderr",
     "output_type": "stream",
     "text": [
      "\r\u001b[32mRunning 10000 trials for 1 scenarios...  46%|██████      |  ETA: 0:22:20\u001b[39m\u001b[K"
     ]
    },
    {
     "name": "stderr",
     "output_type": "stream",
     "text": [
      "\r\u001b[32mRunning 10000 trials for 1 scenarios...  46%|██████      |  ETA: 0:22:22\u001b[39m\u001b[K"
     ]
    },
    {
     "name": "stderr",
     "output_type": "stream",
     "text": [
      "\r\u001b[32mRunning 10000 trials for 1 scenarios...  47%|██████      |  ETA: 0:22:23\u001b[39m\u001b[K"
     ]
    },
    {
     "name": "stderr",
     "output_type": "stream",
     "text": [
      "\r\u001b[32mRunning 10000 trials for 1 scenarios...  47%|██████      |  ETA: 0:22:24\u001b[39m\u001b[K"
     ]
    },
    {
     "name": "stderr",
     "output_type": "stream",
     "text": [
      "\r\u001b[32mRunning 10000 trials for 1 scenarios...  47%|██████      |  ETA: 0:22:25\u001b[39m\u001b[K"
     ]
    },
    {
     "name": "stderr",
     "output_type": "stream",
     "text": [
      "\r\u001b[32mRunning 10000 trials for 1 scenarios...  47%|██████      |  ETA: 0:22:27\u001b[39m\u001b[K"
     ]
    },
    {
     "name": "stderr",
     "output_type": "stream",
     "text": [
      "\r\u001b[32mRunning 10000 trials for 1 scenarios...  47%|██████      |  ETA: 0:22:29\u001b[39m\u001b[K"
     ]
    },
    {
     "name": "stderr",
     "output_type": "stream",
     "text": [
      "\r\u001b[32mRunning 10000 trials for 1 scenarios...  47%|██████      |  ETA: 0:22:31\u001b[39m\u001b[K"
     ]
    },
    {
     "name": "stderr",
     "output_type": "stream",
     "text": [
      "\r\u001b[32mRunning 10000 trials for 1 scenarios...  47%|██████      |  ETA: 0:22:32\u001b[39m\u001b[K"
     ]
    },
    {
     "name": "stderr",
     "output_type": "stream",
     "text": [
      "\r\u001b[32mRunning 10000 trials for 1 scenarios...  47%|██████      |  ETA: 0:22:32\u001b[39m\u001b[K"
     ]
    },
    {
     "name": "stderr",
     "output_type": "stream",
     "text": [
      "\r\u001b[32mRunning 10000 trials for 1 scenarios...  47%|██████      |  ETA: 0:22:33\u001b[39m\u001b[K"
     ]
    },
    {
     "name": "stderr",
     "output_type": "stream",
     "text": [
      "\r\u001b[32mRunning 10000 trials for 1 scenarios...  47%|██████      |  ETA: 0:22:35\u001b[39m\u001b[K"
     ]
    },
    {
     "name": "stderr",
     "output_type": "stream",
     "text": [
      "\r\u001b[32mRunning 10000 trials for 1 scenarios...  47%|██████      |  ETA: 0:22:35\u001b[39m\u001b[K"
     ]
    },
    {
     "name": "stderr",
     "output_type": "stream",
     "text": [
      "\r\u001b[32mRunning 10000 trials for 1 scenarios...  47%|██████      |  ETA: 0:22:36\u001b[39m\u001b[K"
     ]
    },
    {
     "name": "stderr",
     "output_type": "stream",
     "text": [
      "\r\u001b[32mRunning 10000 trials for 1 scenarios...  47%|██████      |  ETA: 0:22:36\u001b[39m\u001b[K"
     ]
    },
    {
     "name": "stderr",
     "output_type": "stream",
     "text": [
      "\r\u001b[32mRunning 10000 trials for 1 scenarios...  48%|██████      |  ETA: 0:22:39\u001b[39m\u001b[K"
     ]
    },
    {
     "name": "stderr",
     "output_type": "stream",
     "text": [
      "\r\u001b[32mRunning 10000 trials for 1 scenarios...  48%|██████      |  ETA: 0:22:39\u001b[39m\u001b[K"
     ]
    },
    {
     "name": "stderr",
     "output_type": "stream",
     "text": [
      "\r\u001b[32mRunning 10000 trials for 1 scenarios...  48%|██████      |  ETA: 0:22:40\u001b[39m\u001b[K"
     ]
    },
    {
     "name": "stderr",
     "output_type": "stream",
     "text": [
      "\r\u001b[32mRunning 10000 trials for 1 scenarios...  48%|██████      |  ETA: 0:22:41\u001b[39m\u001b[K"
     ]
    },
    {
     "name": "stderr",
     "output_type": "stream",
     "text": [
      "\r\u001b[32mRunning 10000 trials for 1 scenarios...  48%|██████      |  ETA: 0:22:41\u001b[39m\u001b[K"
     ]
    },
    {
     "name": "stderr",
     "output_type": "stream",
     "text": [
      "\r\u001b[32mRunning 10000 trials for 1 scenarios...  48%|██████      |  ETA: 0:22:42\u001b[39m\u001b[K"
     ]
    },
    {
     "name": "stderr",
     "output_type": "stream",
     "text": [
      "\r\u001b[32mRunning 10000 trials for 1 scenarios...  48%|██████      |  ETA: 0:22:43\u001b[39m\u001b[K"
     ]
    },
    {
     "name": "stderr",
     "output_type": "stream",
     "text": [
      "\r\u001b[32mRunning 10000 trials for 1 scenarios...  48%|██████      |  ETA: 0:22:44\u001b[39m\u001b[K"
     ]
    },
    {
     "name": "stderr",
     "output_type": "stream",
     "text": [
      "\r\u001b[32mRunning 10000 trials for 1 scenarios...  48%|██████      |  ETA: 0:22:44\u001b[39m\u001b[K"
     ]
    },
    {
     "name": "stderr",
     "output_type": "stream",
     "text": [
      "\r\u001b[32mRunning 10000 trials for 1 scenarios...  48%|██████      |  ETA: 0:22:46\u001b[39m\u001b[K"
     ]
    },
    {
     "name": "stderr",
     "output_type": "stream",
     "text": [
      "\r\u001b[32mRunning 10000 trials for 1 scenarios...  48%|██████      |  ETA: 0:22:48\u001b[39m\u001b[K"
     ]
    },
    {
     "name": "stderr",
     "output_type": "stream",
     "text": [
      "\r\u001b[32mRunning 10000 trials for 1 scenarios...  48%|██████      |  ETA: 0:22:48\u001b[39m\u001b[K"
     ]
    },
    {
     "name": "stderr",
     "output_type": "stream",
     "text": [
      "\r\u001b[32mRunning 10000 trials for 1 scenarios...  48%|██████      |  ETA: 0:22:49\u001b[39m\u001b[K"
     ]
    },
    {
     "name": "stderr",
     "output_type": "stream",
     "text": [
      "\r\u001b[32mRunning 10000 trials for 1 scenarios...  48%|██████      |  ETA: 0:22:51\u001b[39m\u001b[K"
     ]
    },
    {
     "name": "stderr",
     "output_type": "stream",
     "text": [
      "\r\u001b[32mRunning 10000 trials for 1 scenarios...  49%|██████      |  ETA: 0:22:51\u001b[39m\u001b[K"
     ]
    },
    {
     "name": "stderr",
     "output_type": "stream",
     "text": [
      "\r\u001b[32mRunning 10000 trials for 1 scenarios...  49%|██████      |  ETA: 0:22:51\u001b[39m\u001b[K"
     ]
    },
    {
     "name": "stderr",
     "output_type": "stream",
     "text": [
      "\r\u001b[32mRunning 10000 trials for 1 scenarios...  49%|██████      |  ETA: 0:22:53\u001b[39m\u001b[K"
     ]
    },
    {
     "name": "stderr",
     "output_type": "stream",
     "text": [
      "\r\u001b[32mRunning 10000 trials for 1 scenarios...  49%|██████      |  ETA: 0:22:55\u001b[39m\u001b[K"
     ]
    },
    {
     "name": "stderr",
     "output_type": "stream",
     "text": [
      "\r\u001b[32mRunning 10000 trials for 1 scenarios...  49%|██████      |  ETA: 0:22:54\u001b[39m\u001b[K"
     ]
    },
    {
     "name": "stderr",
     "output_type": "stream",
     "text": [
      "\r\u001b[32mRunning 10000 trials for 1 scenarios...  49%|██████      |  ETA: 0:22:55\u001b[39m\u001b[K"
     ]
    },
    {
     "name": "stderr",
     "output_type": "stream",
     "text": [
      "\r\u001b[32mRunning 10000 trials for 1 scenarios...  49%|██████      |  ETA: 0:22:57\u001b[39m\u001b[K"
     ]
    },
    {
     "name": "stderr",
     "output_type": "stream",
     "text": [
      "\r\u001b[32mRunning 10000 trials for 1 scenarios...  49%|██████      |  ETA: 0:22:56\u001b[39m\u001b[K"
     ]
    },
    {
     "name": "stderr",
     "output_type": "stream",
     "text": [
      "\r\u001b[32mRunning 10000 trials for 1 scenarios...  49%|██████      |  ETA: 0:22:57\u001b[39m\u001b[K"
     ]
    },
    {
     "name": "stderr",
     "output_type": "stream",
     "text": [
      "\r\u001b[32mRunning 10000 trials for 1 scenarios...  49%|██████      |  ETA: 0:22:58\u001b[39m\u001b[K"
     ]
    },
    {
     "name": "stderr",
     "output_type": "stream",
     "text": [
      "\r\u001b[32mRunning 10000 trials for 1 scenarios...  49%|██████      |  ETA: 0:23:00\u001b[39m\u001b[K"
     ]
    },
    {
     "name": "stderr",
     "output_type": "stream",
     "text": [
      "\r\u001b[32mRunning 10000 trials for 1 scenarios...  49%|██████      |  ETA: 0:23:00\u001b[39m\u001b[K"
     ]
    },
    {
     "name": "stderr",
     "output_type": "stream",
     "text": [
      "\r\u001b[32mRunning 10000 trials for 1 scenarios...  49%|██████      |  ETA: 0:23:00\u001b[39m\u001b[K"
     ]
    },
    {
     "name": "stderr",
     "output_type": "stream",
     "text": [
      "\r\u001b[32mRunning 10000 trials for 1 scenarios...  49%|██████      |  ETA: 0:23:02\u001b[39m\u001b[K"
     ]
    },
    {
     "name": "stderr",
     "output_type": "stream",
     "text": [
      "\r\u001b[32mRunning 10000 trials for 1 scenarios...  50%|██████      |  ETA: 0:23:01\u001b[39m\u001b[K"
     ]
    },
    {
     "name": "stderr",
     "output_type": "stream",
     "text": [
      "\r\u001b[32mRunning 10000 trials for 1 scenarios...  50%|██████      |  ETA: 0:23:02\u001b[39m\u001b[K"
     ]
    },
    {
     "name": "stderr",
     "output_type": "stream",
     "text": [
      "\r\u001b[32mRunning 10000 trials for 1 scenarios...  50%|██████      |  ETA: 0:23:03\u001b[39m\u001b[K"
     ]
    },
    {
     "name": "stderr",
     "output_type": "stream",
     "text": [
      "\r\u001b[32mRunning 10000 trials for 1 scenarios...  50%|██████      |  ETA: 0:23:04\u001b[39m\u001b[K"
     ]
    },
    {
     "name": "stderr",
     "output_type": "stream",
     "text": [
      "\r\u001b[32mRunning 10000 trials for 1 scenarios...  50%|███████     |  ETA: 0:23:05\u001b[39m\u001b[K"
     ]
    },
    {
     "name": "stderr",
     "output_type": "stream",
     "text": [
      "\r\u001b[32mRunning 10000 trials for 1 scenarios...  50%|███████     |  ETA: 0:23:06\u001b[39m\u001b[K"
     ]
    },
    {
     "name": "stderr",
     "output_type": "stream",
     "text": [
      "\r\u001b[32mRunning 10000 trials for 1 scenarios...  50%|███████     |  ETA: 0:23:05\u001b[39m\u001b[K"
     ]
    },
    {
     "name": "stderr",
     "output_type": "stream",
     "text": [
      "\r\u001b[32mRunning 10000 trials for 1 scenarios...  50%|███████     |  ETA: 0:23:06\u001b[39m\u001b[K"
     ]
    },
    {
     "name": "stderr",
     "output_type": "stream",
     "text": [
      "\r\u001b[32mRunning 10000 trials for 1 scenarios...  50%|███████     |  ETA: 0:23:07\u001b[39m\u001b[K"
     ]
    },
    {
     "name": "stderr",
     "output_type": "stream",
     "text": [
      "\r\u001b[32mRunning 10000 trials for 1 scenarios...  50%|███████     |  ETA: 0:23:08\u001b[39m\u001b[K"
     ]
    },
    {
     "name": "stderr",
     "output_type": "stream",
     "text": [
      "\r\u001b[32mRunning 10000 trials for 1 scenarios...  50%|███████     |  ETA: 0:23:08\u001b[39m\u001b[K"
     ]
    },
    {
     "name": "stderr",
     "output_type": "stream",
     "text": [
      "\r\u001b[32mRunning 10000 trials for 1 scenarios...  50%|███████     |  ETA: 0:23:08\u001b[39m\u001b[K"
     ]
    },
    {
     "name": "stderr",
     "output_type": "stream",
     "text": [
      "\r\u001b[32mRunning 10000 trials for 1 scenarios...  51%|███████     |  ETA: 0:23:09\u001b[39m\u001b[K"
     ]
    },
    {
     "name": "stderr",
     "output_type": "stream",
     "text": [
      "\r\u001b[32mRunning 10000 trials for 1 scenarios...  51%|███████     |  ETA: 0:23:09\u001b[39m\u001b[K"
     ]
    },
    {
     "name": "stderr",
     "output_type": "stream",
     "text": [
      "\r\u001b[32mRunning 10000 trials for 1 scenarios...  51%|███████     |  ETA: 0:23:09\u001b[39m\u001b[K"
     ]
    },
    {
     "name": "stderr",
     "output_type": "stream",
     "text": [
      "\r\u001b[32mRunning 10000 trials for 1 scenarios...  51%|███████     |  ETA: 0:23:10\u001b[39m\u001b[K"
     ]
    },
    {
     "name": "stderr",
     "output_type": "stream",
     "text": [
      "\r\u001b[32mRunning 10000 trials for 1 scenarios...  51%|███████     |  ETA: 0:23:11\u001b[39m\u001b[K"
     ]
    },
    {
     "name": "stderr",
     "output_type": "stream",
     "text": [
      "\r\u001b[32mRunning 10000 trials for 1 scenarios...  51%|███████     |  ETA: 0:23:11\u001b[39m\u001b[K"
     ]
    },
    {
     "name": "stderr",
     "output_type": "stream",
     "text": [
      "\r\u001b[32mRunning 10000 trials for 1 scenarios...  51%|███████     |  ETA: 0:23:11\u001b[39m\u001b[K"
     ]
    },
    {
     "name": "stderr",
     "output_type": "stream",
     "text": [
      "\r\u001b[32mRunning 10000 trials for 1 scenarios...  51%|███████     |  ETA: 0:23:13\u001b[39m\u001b[K"
     ]
    },
    {
     "name": "stderr",
     "output_type": "stream",
     "text": [
      "\r\u001b[32mRunning 10000 trials for 1 scenarios...  51%|███████     |  ETA: 0:23:12\u001b[39m\u001b[K"
     ]
    },
    {
     "name": "stderr",
     "output_type": "stream",
     "text": [
      "\r\u001b[32mRunning 10000 trials for 1 scenarios...  51%|███████     |  ETA: 0:23:13\u001b[39m\u001b[K"
     ]
    },
    {
     "name": "stderr",
     "output_type": "stream",
     "text": [
      "\r\u001b[32mRunning 10000 trials for 1 scenarios...  51%|███████     |  ETA: 0:23:14\u001b[39m\u001b[K"
     ]
    },
    {
     "name": "stderr",
     "output_type": "stream",
     "text": [
      "\r\u001b[32mRunning 10000 trials for 1 scenarios...  51%|███████     |  ETA: 0:23:15\u001b[39m\u001b[K"
     ]
    },
    {
     "name": "stderr",
     "output_type": "stream",
     "text": [
      "\r\u001b[32mRunning 10000 trials for 1 scenarios...  52%|███████     |  ETA: 0:23:14\u001b[39m\u001b[K"
     ]
    },
    {
     "name": "stderr",
     "output_type": "stream",
     "text": [
      "\r\u001b[32mRunning 10000 trials for 1 scenarios...  52%|███████     |  ETA: 0:23:15\u001b[39m\u001b[K"
     ]
    },
    {
     "name": "stderr",
     "output_type": "stream",
     "text": [
      "\r\u001b[32mRunning 10000 trials for 1 scenarios...  52%|███████     |  ETA: 0:23:16\u001b[39m\u001b[K"
     ]
    },
    {
     "name": "stderr",
     "output_type": "stream",
     "text": [
      "\r\u001b[32mRunning 10000 trials for 1 scenarios...  52%|███████     |  ETA: 0:23:15\u001b[39m\u001b[K"
     ]
    },
    {
     "name": "stderr",
     "output_type": "stream",
     "text": [
      "\r\u001b[32mRunning 10000 trials for 1 scenarios...  52%|███████     |  ETA: 0:23:15\u001b[39m\u001b[K"
     ]
    },
    {
     "name": "stderr",
     "output_type": "stream",
     "text": [
      "\r\u001b[32mRunning 10000 trials for 1 scenarios...  52%|███████     |  ETA: 0:23:16\u001b[39m\u001b[K"
     ]
    },
    {
     "name": "stderr",
     "output_type": "stream",
     "text": [
      "\r\u001b[32mRunning 10000 trials for 1 scenarios...  52%|███████     |  ETA: 0:23:17\u001b[39m\u001b[K"
     ]
    },
    {
     "name": "stderr",
     "output_type": "stream",
     "text": [
      "\r\u001b[32mRunning 10000 trials for 1 scenarios...  52%|███████     |  ETA: 0:23:17\u001b[39m\u001b[K"
     ]
    },
    {
     "name": "stderr",
     "output_type": "stream",
     "text": [
      "\r\u001b[32mRunning 10000 trials for 1 scenarios...  52%|███████     |  ETA: 0:23:17\u001b[39m\u001b[K"
     ]
    },
    {
     "name": "stderr",
     "output_type": "stream",
     "text": [
      "\r\u001b[32mRunning 10000 trials for 1 scenarios...  52%|███████     |  ETA: 0:23:18\u001b[39m\u001b[K"
     ]
    },
    {
     "name": "stderr",
     "output_type": "stream",
     "text": [
      "\r\u001b[32mRunning 10000 trials for 1 scenarios...  52%|███████     |  ETA: 0:23:17\u001b[39m\u001b[K"
     ]
    },
    {
     "name": "stderr",
     "output_type": "stream",
     "text": [
      "\r\u001b[32mRunning 10000 trials for 1 scenarios...  52%|███████     |  ETA: 0:23:18\u001b[39m\u001b[K"
     ]
    },
    {
     "name": "stderr",
     "output_type": "stream",
     "text": [
      "\r\u001b[32mRunning 10000 trials for 1 scenarios...  52%|███████     |  ETA: 0:23:19\u001b[39m\u001b[K"
     ]
    },
    {
     "name": "stderr",
     "output_type": "stream",
     "text": [
      "\r\u001b[32mRunning 10000 trials for 1 scenarios...  53%|███████     |  ETA: 0:23:19\u001b[39m\u001b[K"
     ]
    },
    {
     "name": "stderr",
     "output_type": "stream",
     "text": [
      "\r\u001b[32mRunning 10000 trials for 1 scenarios...  53%|███████     |  ETA: 0:23:19\u001b[39m\u001b[K"
     ]
    },
    {
     "name": "stderr",
     "output_type": "stream",
     "text": [
      "\r\u001b[32mRunning 10000 trials for 1 scenarios...  53%|███████     |  ETA: 0:23:19\u001b[39m\u001b[K"
     ]
    },
    {
     "name": "stderr",
     "output_type": "stream",
     "text": [
      "\r\u001b[32mRunning 10000 trials for 1 scenarios...  53%|███████     |  ETA: 0:23:20\u001b[39m\u001b[K"
     ]
    },
    {
     "name": "stderr",
     "output_type": "stream",
     "text": [
      "\r\u001b[32mRunning 10000 trials for 1 scenarios...  53%|███████     |  ETA: 0:23:19\u001b[39m\u001b[K"
     ]
    },
    {
     "name": "stderr",
     "output_type": "stream",
     "text": [
      "\r\u001b[32mRunning 10000 trials for 1 scenarios...  53%|███████     |  ETA: 0:23:19\u001b[39m\u001b[K"
     ]
    },
    {
     "name": "stderr",
     "output_type": "stream",
     "text": [
      "\r\u001b[32mRunning 10000 trials for 1 scenarios...  53%|███████     |  ETA: 0:23:20\u001b[39m\u001b[K"
     ]
    },
    {
     "name": "stderr",
     "output_type": "stream",
     "text": [
      "\r\u001b[32mRunning 10000 trials for 1 scenarios...  53%|███████     |  ETA: 0:23:21\u001b[39m\u001b[K"
     ]
    },
    {
     "name": "stderr",
     "output_type": "stream",
     "text": [
      "\r\u001b[32mRunning 10000 trials for 1 scenarios...  53%|███████     |  ETA: 0:23:20\u001b[39m\u001b[K"
     ]
    },
    {
     "name": "stderr",
     "output_type": "stream",
     "text": [
      "\r\u001b[32mRunning 10000 trials for 1 scenarios...  53%|███████     |  ETA: 0:23:21\u001b[39m\u001b[K"
     ]
    },
    {
     "name": "stderr",
     "output_type": "stream",
     "text": [
      "\r\u001b[32mRunning 10000 trials for 1 scenarios...  53%|███████     |  ETA: 0:23:21\u001b[39m\u001b[K"
     ]
    },
    {
     "name": "stderr",
     "output_type": "stream",
     "text": [
      "\r\u001b[32mRunning 10000 trials for 1 scenarios...  53%|███████     |  ETA: 0:23:20\u001b[39m\u001b[K"
     ]
    },
    {
     "name": "stderr",
     "output_type": "stream",
     "text": [
      "\r\u001b[32mRunning 10000 trials for 1 scenarios...  53%|███████     |  ETA: 0:23:21\u001b[39m\u001b[K"
     ]
    },
    {
     "name": "stderr",
     "output_type": "stream",
     "text": [
      "\r\u001b[32mRunning 10000 trials for 1 scenarios...  53%|███████     |  ETA: 0:23:21\u001b[39m\u001b[K"
     ]
    },
    {
     "name": "stderr",
     "output_type": "stream",
     "text": [
      "\r\u001b[32mRunning 10000 trials for 1 scenarios...  54%|███████     |  ETA: 0:23:22\u001b[39m\u001b[K"
     ]
    },
    {
     "name": "stderr",
     "output_type": "stream",
     "text": [
      "\r\u001b[32mRunning 10000 trials for 1 scenarios...  54%|███████     |  ETA: 0:23:21\u001b[39m\u001b[K"
     ]
    },
    {
     "name": "stderr",
     "output_type": "stream",
     "text": [
      "\r\u001b[32mRunning 10000 trials for 1 scenarios...  54%|███████     |  ETA: 0:23:22\u001b[39m\u001b[K"
     ]
    },
    {
     "name": "stderr",
     "output_type": "stream",
     "text": [
      "\r\u001b[32mRunning 10000 trials for 1 scenarios...  54%|███████     |  ETA: 0:23:22\u001b[39m\u001b[K"
     ]
    },
    {
     "name": "stderr",
     "output_type": "stream",
     "text": [
      "\r\u001b[32mRunning 10000 trials for 1 scenarios...  54%|███████     |  ETA: 0:23:21\u001b[39m\u001b[K"
     ]
    },
    {
     "name": "stderr",
     "output_type": "stream",
     "text": [
      "\r\u001b[32mRunning 10000 trials for 1 scenarios...  54%|███████     |  ETA: 0:23:22\u001b[39m\u001b[K"
     ]
    },
    {
     "name": "stderr",
     "output_type": "stream",
     "text": [
      "\r\u001b[32mRunning 10000 trials for 1 scenarios...  54%|███████     |  ETA: 0:23:22\u001b[39m\u001b[K"
     ]
    },
    {
     "name": "stderr",
     "output_type": "stream",
     "text": [
      "\r\u001b[32mRunning 10000 trials for 1 scenarios...  54%|███████     |  ETA: 0:23:23\u001b[39m\u001b[K"
     ]
    },
    {
     "name": "stderr",
     "output_type": "stream",
     "text": [
      "\r\u001b[32mRunning 10000 trials for 1 scenarios...  54%|███████     |  ETA: 0:23:22\u001b[39m\u001b[K"
     ]
    },
    {
     "name": "stderr",
     "output_type": "stream",
     "text": [
      "\r\u001b[32mRunning 10000 trials for 1 scenarios...  54%|███████     |  ETA: 0:23:22\u001b[39m\u001b[K"
     ]
    },
    {
     "name": "stderr",
     "output_type": "stream",
     "text": [
      "\r\u001b[32mRunning 10000 trials for 1 scenarios...  54%|███████     |  ETA: 0:23:22\u001b[39m\u001b[K"
     ]
    },
    {
     "name": "stderr",
     "output_type": "stream",
     "text": [
      "\r\u001b[32mRunning 10000 trials for 1 scenarios...  54%|███████     |  ETA: 0:23:21\u001b[39m\u001b[K"
     ]
    },
    {
     "name": "stderr",
     "output_type": "stream",
     "text": [
      "\r\u001b[32mRunning 10000 trials for 1 scenarios...  54%|███████     |  ETA: 0:23:22\u001b[39m\u001b[K"
     ]
    },
    {
     "name": "stderr",
     "output_type": "stream",
     "text": [
      "\r\u001b[32mRunning 10000 trials for 1 scenarios...  55%|███████     |  ETA: 0:23:22\u001b[39m\u001b[K"
     ]
    },
    {
     "name": "stderr",
     "output_type": "stream",
     "text": [
      "\r\u001b[32mRunning 10000 trials for 1 scenarios...  55%|███████     |  ETA: 0:23:23\u001b[39m\u001b[K"
     ]
    },
    {
     "name": "stderr",
     "output_type": "stream",
     "text": [
      "\r\u001b[32mRunning 10000 trials for 1 scenarios...  55%|███████     |  ETA: 0:23:22\u001b[39m\u001b[K"
     ]
    },
    {
     "name": "stderr",
     "output_type": "stream",
     "text": [
      "\r\u001b[32mRunning 10000 trials for 1 scenarios...  55%|███████     |  ETA: 0:23:22\u001b[39m\u001b[K"
     ]
    },
    {
     "name": "stderr",
     "output_type": "stream",
     "text": [
      "\r\u001b[32mRunning 10000 trials for 1 scenarios...  55%|███████     |  ETA: 0:23:22\u001b[39m\u001b[K"
     ]
    },
    {
     "name": "stderr",
     "output_type": "stream",
     "text": [
      "\r\u001b[32mRunning 10000 trials for 1 scenarios...  55%|███████     |  ETA: 0:23:21\u001b[39m\u001b[K"
     ]
    },
    {
     "name": "stderr",
     "output_type": "stream",
     "text": [
      "\r\u001b[32mRunning 10000 trials for 1 scenarios...  55%|███████     |  ETA: 0:23:22\u001b[39m\u001b[K"
     ]
    },
    {
     "name": "stderr",
     "output_type": "stream",
     "text": [
      "\r\u001b[32mRunning 10000 trials for 1 scenarios...  55%|███████     |  ETA: 0:23:22\u001b[39m\u001b[K"
     ]
    },
    {
     "name": "stderr",
     "output_type": "stream",
     "text": [
      "\r\u001b[32mRunning 10000 trials for 1 scenarios...  55%|███████     |  ETA: 0:23:22\u001b[39m\u001b[K"
     ]
    },
    {
     "name": "stderr",
     "output_type": "stream",
     "text": [
      "\r\u001b[32mRunning 10000 trials for 1 scenarios...  55%|███████     |  ETA: 0:23:21\u001b[39m\u001b[K"
     ]
    },
    {
     "name": "stderr",
     "output_type": "stream",
     "text": [
      "\r\u001b[32mRunning 10000 trials for 1 scenarios...  55%|███████     |  ETA: 0:23:22\u001b[39m\u001b[K"
     ]
    },
    {
     "name": "stderr",
     "output_type": "stream",
     "text": [
      "\r\u001b[32mRunning 10000 trials for 1 scenarios...  55%|███████     |  ETA: 0:23:22\u001b[39m\u001b[K"
     ]
    },
    {
     "name": "stderr",
     "output_type": "stream",
     "text": [
      "\r\u001b[32mRunning 10000 trials for 1 scenarios...  56%|███████     |  ETA: 0:23:21\u001b[39m\u001b[K"
     ]
    },
    {
     "name": "stderr",
     "output_type": "stream",
     "text": [
      "\r\u001b[32mRunning 10000 trials for 1 scenarios...  56%|███████     |  ETA: 0:23:21\u001b[39m\u001b[K"
     ]
    },
    {
     "name": "stderr",
     "output_type": "stream",
     "text": [
      "\r\u001b[32mRunning 10000 trials for 1 scenarios...  56%|███████     |  ETA: 0:23:21\u001b[39m\u001b[K"
     ]
    },
    {
     "name": "stderr",
     "output_type": "stream",
     "text": [
      "\r\u001b[32mRunning 10000 trials for 1 scenarios...  56%|███████     |  ETA: 0:23:22\u001b[39m\u001b[K"
     ]
    },
    {
     "name": "stderr",
     "output_type": "stream",
     "text": [
      "\r\u001b[32mRunning 10000 trials for 1 scenarios...  56%|███████     |  ETA: 0:23:21\u001b[39m\u001b[K"
     ]
    },
    {
     "name": "stderr",
     "output_type": "stream",
     "text": [
      "\r\u001b[32mRunning 10000 trials for 1 scenarios...  56%|███████     |  ETA: 0:23:21\u001b[39m\u001b[K"
     ]
    },
    {
     "name": "stderr",
     "output_type": "stream",
     "text": [
      "\r\u001b[32mRunning 10000 trials for 1 scenarios...  56%|███████     |  ETA: 0:23:21\u001b[39m\u001b[K"
     ]
    },
    {
     "name": "stderr",
     "output_type": "stream",
     "text": [
      "\r\u001b[32mRunning 10000 trials for 1 scenarios...  56%|███████     |  ETA: 0:23:20\u001b[39m\u001b[K"
     ]
    },
    {
     "name": "stderr",
     "output_type": "stream",
     "text": [
      "\r\u001b[32mRunning 10000 trials for 1 scenarios...  56%|███████     |  ETA: 0:23:20\u001b[39m\u001b[K"
     ]
    },
    {
     "name": "stderr",
     "output_type": "stream",
     "text": [
      "\r\u001b[32mRunning 10000 trials for 1 scenarios...  56%|███████     |  ETA: 0:23:20\u001b[39m\u001b[K"
     ]
    },
    {
     "name": "stderr",
     "output_type": "stream",
     "text": [
      "\r\u001b[32mRunning 10000 trials for 1 scenarios...  56%|███████     |  ETA: 0:23:20\u001b[39m\u001b[K"
     ]
    },
    {
     "name": "stderr",
     "output_type": "stream",
     "text": [
      "\r\u001b[32mRunning 10000 trials for 1 scenarios...  56%|███████     |  ETA: 0:23:19\u001b[39m\u001b[K"
     ]
    },
    {
     "name": "stderr",
     "output_type": "stream",
     "text": [
      "\r\u001b[32mRunning 10000 trials for 1 scenarios...  56%|███████     |  ETA: 0:23:19\u001b[39m\u001b[K"
     ]
    },
    {
     "name": "stderr",
     "output_type": "stream",
     "text": [
      "\r\u001b[32mRunning 10000 trials for 1 scenarios...  57%|███████     |  ETA: 0:23:20\u001b[39m\u001b[K"
     ]
    },
    {
     "name": "stderr",
     "output_type": "stream",
     "text": [
      "\r\u001b[32mRunning 10000 trials for 1 scenarios...  57%|███████     |  ETA: 0:23:18\u001b[39m\u001b[K"
     ]
    },
    {
     "name": "stderr",
     "output_type": "stream",
     "text": [
      "\r\u001b[32mRunning 10000 trials for 1 scenarios...  57%|███████     |  ETA: 0:23:19\u001b[39m\u001b[K"
     ]
    },
    {
     "name": "stderr",
     "output_type": "stream",
     "text": [
      "\r\u001b[32mRunning 10000 trials for 1 scenarios...  57%|███████     |  ETA: 0:23:19\u001b[39m\u001b[K"
     ]
    },
    {
     "name": "stderr",
     "output_type": "stream",
     "text": [
      "\r\u001b[32mRunning 10000 trials for 1 scenarios...  57%|███████     |  ETA: 0:23:19\u001b[39m\u001b[K"
     ]
    },
    {
     "name": "stderr",
     "output_type": "stream",
     "text": [
      "\r\u001b[32mRunning 10000 trials for 1 scenarios...  57%|███████     |  ETA: 0:23:17\u001b[39m\u001b[K"
     ]
    },
    {
     "name": "stderr",
     "output_type": "stream",
     "text": [
      "\r\u001b[32mRunning 10000 trials for 1 scenarios...  57%|███████     |  ETA: 0:23:18\u001b[39m\u001b[K"
     ]
    },
    {
     "name": "stderr",
     "output_type": "stream",
     "text": [
      "\r\u001b[32mRunning 10000 trials for 1 scenarios...  57%|███████     |  ETA: 0:23:18\u001b[39m\u001b[K"
     ]
    },
    {
     "name": "stderr",
     "output_type": "stream",
     "text": [
      "\r\u001b[32mRunning 10000 trials for 1 scenarios...  57%|███████     |  ETA: 0:23:16\u001b[39m\u001b[K"
     ]
    },
    {
     "name": "stderr",
     "output_type": "stream",
     "text": [
      "\r\u001b[32mRunning 10000 trials for 1 scenarios...  57%|███████     |  ETA: 0:23:17\u001b[39m\u001b[K"
     ]
    },
    {
     "name": "stderr",
     "output_type": "stream",
     "text": [
      "\r\u001b[32mRunning 10000 trials for 1 scenarios...  57%|███████     |  ETA: 0:23:17\u001b[39m\u001b[K"
     ]
    },
    {
     "name": "stderr",
     "output_type": "stream",
     "text": [
      "\r\u001b[32mRunning 10000 trials for 1 scenarios...  57%|███████     |  ETA: 0:23:17\u001b[39m\u001b[K"
     ]
    },
    {
     "name": "stderr",
     "output_type": "stream",
     "text": [
      "\r\u001b[32mRunning 10000 trials for 1 scenarios...  57%|███████     |  ETA: 0:23:15\u001b[39m\u001b[K"
     ]
    },
    {
     "name": "stderr",
     "output_type": "stream",
     "text": [
      "\r\u001b[32mRunning 10000 trials for 1 scenarios...  57%|███████     |  ETA: 0:23:15\u001b[39m\u001b[K"
     ]
    },
    {
     "name": "stderr",
     "output_type": "stream",
     "text": [
      "\r\u001b[32mRunning 10000 trials for 1 scenarios...  58%|███████     |  ETA: 0:23:15\u001b[39m\u001b[K"
     ]
    },
    {
     "name": "stderr",
     "output_type": "stream",
     "text": [
      "\r\u001b[32mRunning 10000 trials for 1 scenarios...  58%|███████     |  ETA: 0:23:14\u001b[39m\u001b[K"
     ]
    },
    {
     "name": "stderr",
     "output_type": "stream",
     "text": [
      "\r\u001b[32mRunning 10000 trials for 1 scenarios...  58%|███████     |  ETA: 0:23:14\u001b[39m\u001b[K"
     ]
    },
    {
     "name": "stderr",
     "output_type": "stream",
     "text": [
      "\r\u001b[32mRunning 10000 trials for 1 scenarios...  58%|███████     |  ETA: 0:23:14\u001b[39m\u001b[K"
     ]
    },
    {
     "name": "stderr",
     "output_type": "stream",
     "text": [
      "\r\u001b[32mRunning 10000 trials for 1 scenarios...  58%|███████     |  ETA: 0:23:14\u001b[39m\u001b[K"
     ]
    },
    {
     "name": "stderr",
     "output_type": "stream",
     "text": [
      "\r\u001b[32mRunning 10000 trials for 1 scenarios...  58%|███████     |  ETA: 0:23:12\u001b[39m\u001b[K"
     ]
    },
    {
     "name": "stderr",
     "output_type": "stream",
     "text": [
      "\r\u001b[32mRunning 10000 trials for 1 scenarios...  58%|███████     |  ETA: 0:23:12\u001b[39m\u001b[K"
     ]
    },
    {
     "name": "stderr",
     "output_type": "stream",
     "text": [
      "\r\u001b[32mRunning 10000 trials for 1 scenarios...  58%|███████     |  ETA: 0:23:12\u001b[39m\u001b[K"
     ]
    },
    {
     "name": "stderr",
     "output_type": "stream",
     "text": [
      "\r\u001b[32mRunning 10000 trials for 1 scenarios...  58%|███████     |  ETA: 0:23:10\u001b[39m\u001b[K"
     ]
    },
    {
     "name": "stderr",
     "output_type": "stream",
     "text": [
      "\r\u001b[32mRunning 10000 trials for 1 scenarios...  58%|███████     |  ETA: 0:23:11\u001b[39m\u001b[K"
     ]
    },
    {
     "name": "stderr",
     "output_type": "stream",
     "text": [
      "\r\u001b[32mRunning 10000 trials for 1 scenarios...  58%|████████    |  ETA: 0:23:10\u001b[39m\u001b[K"
     ]
    },
    {
     "name": "stderr",
     "output_type": "stream",
     "text": [
      "\r\u001b[32mRunning 10000 trials for 1 scenarios...  58%|████████    |  ETA: 0:23:10\u001b[39m\u001b[K"
     ]
    },
    {
     "name": "stderr",
     "output_type": "stream",
     "text": [
      "\r\u001b[32mRunning 10000 trials for 1 scenarios...  59%|████████    |  ETA: 0:23:08\u001b[39m\u001b[K"
     ]
    },
    {
     "name": "stderr",
     "output_type": "stream",
     "text": [
      "\r\u001b[32mRunning 10000 trials for 1 scenarios...  59%|████████    |  ETA: 0:23:09\u001b[39m\u001b[K"
     ]
    },
    {
     "name": "stderr",
     "output_type": "stream",
     "text": [
      "\r\u001b[32mRunning 10000 trials for 1 scenarios...  59%|████████    |  ETA: 0:23:08\u001b[39m\u001b[K"
     ]
    },
    {
     "name": "stderr",
     "output_type": "stream",
     "text": [
      "\r\u001b[32mRunning 10000 trials for 1 scenarios...  59%|████████    |  ETA: 0:23:07\u001b[39m\u001b[K"
     ]
    },
    {
     "name": "stderr",
     "output_type": "stream",
     "text": [
      "\r\u001b[32mRunning 10000 trials for 1 scenarios...  59%|████████    |  ETA: 0:23:07\u001b[39m\u001b[K"
     ]
    },
    {
     "name": "stderr",
     "output_type": "stream",
     "text": [
      "\r\u001b[32mRunning 10000 trials for 1 scenarios...  59%|████████    |  ETA: 0:23:07\u001b[39m\u001b[K"
     ]
    },
    {
     "name": "stderr",
     "output_type": "stream",
     "text": [
      "\r\u001b[32mRunning 10000 trials for 1 scenarios...  59%|████████    |  ETA: 0:23:06\u001b[39m\u001b[K"
     ]
    },
    {
     "name": "stderr",
     "output_type": "stream",
     "text": [
      "\r\u001b[32mRunning 10000 trials for 1 scenarios...  59%|████████    |  ETA: 0:23:05\u001b[39m\u001b[K"
     ]
    },
    {
     "name": "stderr",
     "output_type": "stream",
     "text": [
      "\r\u001b[32mRunning 10000 trials for 1 scenarios...  59%|████████    |  ETA: 0:23:05\u001b[39m\u001b[K"
     ]
    },
    {
     "name": "stderr",
     "output_type": "stream",
     "text": [
      "\r\u001b[32mRunning 10000 trials for 1 scenarios...  59%|████████    |  ETA: 0:23:04\u001b[39m\u001b[K"
     ]
    },
    {
     "name": "stderr",
     "output_type": "stream",
     "text": [
      "\r\u001b[32mRunning 10000 trials for 1 scenarios...  59%|████████    |  ETA: 0:23:03\u001b[39m\u001b[K"
     ]
    },
    {
     "name": "stderr",
     "output_type": "stream",
     "text": [
      "\r\u001b[32mRunning 10000 trials for 1 scenarios...  59%|████████    |  ETA: 0:23:03\u001b[39m\u001b[K"
     ]
    },
    {
     "name": "stderr",
     "output_type": "stream",
     "text": [
      "\r\u001b[32mRunning 10000 trials for 1 scenarios...  59%|████████    |  ETA: 0:23:02\u001b[39m\u001b[K"
     ]
    },
    {
     "name": "stderr",
     "output_type": "stream",
     "text": [
      "\r\u001b[32mRunning 10000 trials for 1 scenarios...  60%|████████    |  ETA: 0:23:02\u001b[39m\u001b[K"
     ]
    },
    {
     "name": "stderr",
     "output_type": "stream",
     "text": [
      "\r\u001b[32mRunning 10000 trials for 1 scenarios...  60%|████████    |  ETA: 0:23:00\u001b[39m\u001b[K"
     ]
    },
    {
     "name": "stderr",
     "output_type": "stream",
     "text": [
      "\r\u001b[32mRunning 10000 trials for 1 scenarios...  60%|████████    |  ETA: 0:23:00\u001b[39m\u001b[K"
     ]
    },
    {
     "name": "stderr",
     "output_type": "stream",
     "text": [
      "\r\u001b[32mRunning 10000 trials for 1 scenarios...  60%|████████    |  ETA: 0:23:00\u001b[39m\u001b[K"
     ]
    },
    {
     "name": "stderr",
     "output_type": "stream",
     "text": [
      "\r\u001b[32mRunning 10000 trials for 1 scenarios...  60%|████████    |  ETA: 0:22:58\u001b[39m\u001b[K"
     ]
    },
    {
     "name": "stderr",
     "output_type": "stream",
     "text": [
      "\r\u001b[32mRunning 10000 trials for 1 scenarios...  60%|████████    |  ETA: 0:22:58\u001b[39m\u001b[K"
     ]
    },
    {
     "name": "stderr",
     "output_type": "stream",
     "text": [
      "\r\u001b[32mRunning 10000 trials for 1 scenarios...  60%|████████    |  ETA: 0:22:58\u001b[39m\u001b[K"
     ]
    },
    {
     "name": "stderr",
     "output_type": "stream",
     "text": [
      "\r\u001b[32mRunning 10000 trials for 1 scenarios...  60%|████████    |  ETA: 0:22:57\u001b[39m\u001b[K"
     ]
    },
    {
     "name": "stderr",
     "output_type": "stream",
     "text": [
      "\r\u001b[32mRunning 10000 trials for 1 scenarios...  60%|████████    |  ETA: 0:22:56\u001b[39m\u001b[K"
     ]
    },
    {
     "name": "stderr",
     "output_type": "stream",
     "text": [
      "\r\u001b[32mRunning 10000 trials for 1 scenarios...  60%|████████    |  ETA: 0:22:56\u001b[39m\u001b[K"
     ]
    },
    {
     "name": "stderr",
     "output_type": "stream",
     "text": [
      "\r\u001b[32mRunning 10000 trials for 1 scenarios...  60%|████████    |  ETA: 0:22:55\u001b[39m\u001b[K"
     ]
    },
    {
     "name": "stderr",
     "output_type": "stream",
     "text": [
      "\r\u001b[32mRunning 10000 trials for 1 scenarios...  60%|████████    |  ETA: 0:22:53\u001b[39m\u001b[K"
     ]
    },
    {
     "name": "stderr",
     "output_type": "stream",
     "text": [
      "\r\u001b[32mRunning 10000 trials for 1 scenarios...  60%|████████    |  ETA: 0:22:53\u001b[39m\u001b[K"
     ]
    },
    {
     "name": "stderr",
     "output_type": "stream",
     "text": [
      "\r\u001b[32mRunning 10000 trials for 1 scenarios...  61%|████████    |  ETA: 0:22:53\u001b[39m\u001b[K"
     ]
    },
    {
     "name": "stderr",
     "output_type": "stream",
     "text": [
      "\r\u001b[32mRunning 10000 trials for 1 scenarios...  61%|████████    |  ETA: 0:22:52\u001b[39m\u001b[K"
     ]
    },
    {
     "name": "stderr",
     "output_type": "stream",
     "text": [
      "\r\u001b[32mRunning 10000 trials for 1 scenarios...  61%|████████    |  ETA: 0:22:50\u001b[39m\u001b[K"
     ]
    },
    {
     "name": "stderr",
     "output_type": "stream",
     "text": [
      "\r\u001b[32mRunning 10000 trials for 1 scenarios...  61%|████████    |  ETA: 0:22:50\u001b[39m\u001b[K"
     ]
    },
    {
     "name": "stderr",
     "output_type": "stream",
     "text": [
      "\r\u001b[32mRunning 10000 trials for 1 scenarios...  61%|████████    |  ETA: 0:22:50\u001b[39m\u001b[K"
     ]
    },
    {
     "name": "stderr",
     "output_type": "stream",
     "text": [
      "\r\u001b[32mRunning 10000 trials for 1 scenarios...  61%|████████    |  ETA: 0:22:48\u001b[39m\u001b[K"
     ]
    },
    {
     "name": "stderr",
     "output_type": "stream",
     "text": [
      "\r\u001b[32mRunning 10000 trials for 1 scenarios...  61%|████████    |  ETA: 0:22:48\u001b[39m\u001b[K"
     ]
    },
    {
     "name": "stderr",
     "output_type": "stream",
     "text": [
      "\r\u001b[32mRunning 10000 trials for 1 scenarios...  61%|████████    |  ETA: 0:22:47\u001b[39m\u001b[K"
     ]
    },
    {
     "name": "stderr",
     "output_type": "stream",
     "text": [
      "\r\u001b[32mRunning 10000 trials for 1 scenarios...  61%|████████    |  ETA: 0:22:47\u001b[39m\u001b[K"
     ]
    },
    {
     "name": "stderr",
     "output_type": "stream",
     "text": [
      "\r\u001b[32mRunning 10000 trials for 1 scenarios...  61%|████████    |  ETA: 0:22:45\u001b[39m\u001b[K"
     ]
    },
    {
     "name": "stderr",
     "output_type": "stream",
     "text": [
      "\r\u001b[32mRunning 10000 trials for 1 scenarios...  61%|████████    |  ETA: 0:22:45\u001b[39m\u001b[K"
     ]
    },
    {
     "name": "stderr",
     "output_type": "stream",
     "text": [
      "\r\u001b[32mRunning 10000 trials for 1 scenarios...  61%|████████    |  ETA: 0:22:44\u001b[39m\u001b[K"
     ]
    },
    {
     "name": "stderr",
     "output_type": "stream",
     "text": [
      "\r\u001b[32mRunning 10000 trials for 1 scenarios...  61%|████████    |  ETA: 0:22:42\u001b[39m\u001b[K"
     ]
    },
    {
     "name": "stderr",
     "output_type": "stream",
     "text": [
      "\r\u001b[32mRunning 10000 trials for 1 scenarios...  61%|████████    |  ETA: 0:22:42\u001b[39m\u001b[K"
     ]
    },
    {
     "name": "stderr",
     "output_type": "stream",
     "text": [
      "\r\u001b[32mRunning 10000 trials for 1 scenarios...  62%|████████    |  ETA: 0:22:42\u001b[39m\u001b[K"
     ]
    },
    {
     "name": "stderr",
     "output_type": "stream",
     "text": [
      "\r\u001b[32mRunning 10000 trials for 1 scenarios...  62%|████████    |  ETA: 0:22:41\u001b[39m\u001b[K"
     ]
    },
    {
     "name": "stderr",
     "output_type": "stream",
     "text": [
      "\r\u001b[32mRunning 10000 trials for 1 scenarios...  62%|████████    |  ETA: 0:22:39\u001b[39m\u001b[K"
     ]
    },
    {
     "name": "stderr",
     "output_type": "stream",
     "text": [
      "\r\u001b[32mRunning 10000 trials for 1 scenarios...  62%|████████    |  ETA: 0:22:39\u001b[39m\u001b[K"
     ]
    },
    {
     "name": "stderr",
     "output_type": "stream",
     "text": [
      "\r\u001b[32mRunning 10000 trials for 1 scenarios...  62%|████████    |  ETA: 0:22:38\u001b[39m\u001b[K"
     ]
    },
    {
     "name": "stderr",
     "output_type": "stream",
     "text": [
      "\r\u001b[32mRunning 10000 trials for 1 scenarios...  62%|████████    |  ETA: 0:22:36\u001b[39m\u001b[K"
     ]
    },
    {
     "name": "stderr",
     "output_type": "stream",
     "text": [
      "\r\u001b[32mRunning 10000 trials for 1 scenarios...  62%|████████    |  ETA: 0:22:37\u001b[39m\u001b[K"
     ]
    },
    {
     "name": "stderr",
     "output_type": "stream",
     "text": [
      "\r\u001b[32mRunning 10000 trials for 1 scenarios...  62%|████████    |  ETA: 0:22:36\u001b[39m\u001b[K"
     ]
    },
    {
     "name": "stderr",
     "output_type": "stream",
     "text": [
      "\r\u001b[32mRunning 10000 trials for 1 scenarios...  62%|████████    |  ETA: 0:22:35\u001b[39m\u001b[K"
     ]
    },
    {
     "name": "stderr",
     "output_type": "stream",
     "text": [
      "\r\u001b[32mRunning 10000 trials for 1 scenarios...  62%|████████    |  ETA: 0:22:33\u001b[39m\u001b[K"
     ]
    },
    {
     "name": "stderr",
     "output_type": "stream",
     "text": [
      "\r\u001b[32mRunning 10000 trials for 1 scenarios...  62%|████████    |  ETA: 0:22:33\u001b[39m\u001b[K"
     ]
    },
    {
     "name": "stderr",
     "output_type": "stream",
     "text": [
      "\r\u001b[32mRunning 10000 trials for 1 scenarios...  62%|████████    |  ETA: 0:23:37\u001b[39m\u001b[K"
     ]
    },
    {
     "name": "stderr",
     "output_type": "stream",
     "text": [
      "\r\u001b[32mRunning 10000 trials for 1 scenarios...  63%|████████    |  ETA: 0:23:36\u001b[39m\u001b[K"
     ]
    },
    {
     "name": "stderr",
     "output_type": "stream",
     "text": [
      "\r\u001b[32mRunning 10000 trials for 1 scenarios...  63%|████████    |  ETA: 0:23:34\u001b[39m\u001b[K"
     ]
    },
    {
     "name": "stderr",
     "output_type": "stream",
     "text": [
      "\r\u001b[32mRunning 10000 trials for 1 scenarios...  63%|████████    |  ETA: 0:23:34\u001b[39m\u001b[K"
     ]
    },
    {
     "name": "stderr",
     "output_type": "stream",
     "text": [
      "\r\u001b[32mRunning 10000 trials for 1 scenarios...  63%|████████    |  ETA: 0:23:34\u001b[39m\u001b[K"
     ]
    },
    {
     "name": "stderr",
     "output_type": "stream",
     "text": [
      "\r\u001b[32mRunning 10000 trials for 1 scenarios...  63%|████████    |  ETA: 0:23:32\u001b[39m\u001b[K"
     ]
    },
    {
     "name": "stderr",
     "output_type": "stream",
     "text": [
      "\r\u001b[32mRunning 10000 trials for 1 scenarios...  63%|████████    |  ETA: 0:23:32\u001b[39m\u001b[K"
     ]
    },
    {
     "name": "stderr",
     "output_type": "stream",
     "text": [
      "\r\u001b[32mRunning 10000 trials for 1 scenarios...  63%|████████    |  ETA: 0:23:31\u001b[39m\u001b[K"
     ]
    },
    {
     "name": "stderr",
     "output_type": "stream",
     "text": [
      "\r\u001b[32mRunning 10000 trials for 1 scenarios...  63%|████████    |  ETA: 0:23:28\u001b[39m\u001b[K"
     ]
    },
    {
     "name": "stderr",
     "output_type": "stream",
     "text": [
      "\r\u001b[32mRunning 10000 trials for 1 scenarios...  63%|████████    |  ETA: 0:23:28\u001b[39m\u001b[K"
     ]
    },
    {
     "name": "stderr",
     "output_type": "stream",
     "text": [
      "\r\u001b[32mRunning 10000 trials for 1 scenarios...  63%|████████    |  ETA: 0:23:29\u001b[39m\u001b[K"
     ]
    },
    {
     "name": "stderr",
     "output_type": "stream",
     "text": [
      "\r\u001b[32mRunning 10000 trials for 1 scenarios...  63%|████████    |  ETA: 0:23:26\u001b[39m\u001b[K"
     ]
    },
    {
     "name": "stderr",
     "output_type": "stream",
     "text": [
      "\r\u001b[32mRunning 10000 trials for 1 scenarios...  63%|████████    |  ETA: 0:23:26\u001b[39m\u001b[K"
     ]
    },
    {
     "name": "stderr",
     "output_type": "stream",
     "text": [
      "\r\u001b[32mRunning 10000 trials for 1 scenarios...  63%|████████    |  ETA: 0:23:25\u001b[39m\u001b[K"
     ]
    },
    {
     "name": "stderr",
     "output_type": "stream",
     "text": [
      "\r\u001b[32mRunning 10000 trials for 1 scenarios...  63%|████████    |  ETA: 0:23:23\u001b[39m\u001b[K"
     ]
    },
    {
     "name": "stderr",
     "output_type": "stream",
     "text": [
      "\r\u001b[32mRunning 10000 trials for 1 scenarios...  63%|████████    |  ETA: 0:23:23\u001b[39m\u001b[K"
     ]
    },
    {
     "name": "stderr",
     "output_type": "stream",
     "text": [
      "\r\u001b[32mRunning 10000 trials for 1 scenarios...  63%|████████    |  ETA: 0:23:23\u001b[39m\u001b[K"
     ]
    },
    {
     "name": "stderr",
     "output_type": "stream",
     "text": [
      "\r\u001b[32mRunning 10000 trials for 1 scenarios...  63%|████████    |  ETA: 0:23:21\u001b[39m\u001b[K"
     ]
    },
    {
     "name": "stderr",
     "output_type": "stream",
     "text": [
      "\r\u001b[32mRunning 10000 trials for 1 scenarios...  64%|████████    |  ETA: 0:23:21\u001b[39m\u001b[K"
     ]
    },
    {
     "name": "stderr",
     "output_type": "stream",
     "text": [
      "\r\u001b[32mRunning 10000 trials for 1 scenarios...  64%|████████    |  ETA: 0:23:19\u001b[39m\u001b[K"
     ]
    },
    {
     "name": "stderr",
     "output_type": "stream",
     "text": [
      "\r\u001b[32mRunning 10000 trials for 1 scenarios...  64%|████████    |  ETA: 0:23:17\u001b[39m\u001b[K"
     ]
    },
    {
     "name": "stderr",
     "output_type": "stream",
     "text": [
      "\r\u001b[32mRunning 10000 trials for 1 scenarios...  64%|████████    |  ETA: 0:23:17\u001b[39m\u001b[K"
     ]
    },
    {
     "name": "stderr",
     "output_type": "stream",
     "text": [
      "\r\u001b[32mRunning 10000 trials for 1 scenarios...  64%|████████    |  ETA: 0:23:15\u001b[39m\u001b[K"
     ]
    },
    {
     "name": "stderr",
     "output_type": "stream",
     "text": [
      "\r\u001b[32mRunning 10000 trials for 1 scenarios...  64%|████████    |  ETA: 0:23:14\u001b[39m\u001b[K"
     ]
    },
    {
     "name": "stderr",
     "output_type": "stream",
     "text": [
      "\r\u001b[32mRunning 10000 trials for 1 scenarios...  64%|████████    |  ETA: 0:23:11\u001b[39m\u001b[K"
     ]
    },
    {
     "name": "stderr",
     "output_type": "stream",
     "text": [
      "\r\u001b[32mRunning 10000 trials for 1 scenarios...  64%|████████    |  ETA: 0:23:11\u001b[39m\u001b[K"
     ]
    },
    {
     "name": "stderr",
     "output_type": "stream",
     "text": [
      "\r\u001b[32mRunning 10000 trials for 1 scenarios...  64%|████████    |  ETA: 0:23:10\u001b[39m\u001b[K"
     ]
    },
    {
     "name": "stderr",
     "output_type": "stream",
     "text": [
      "\r\u001b[32mRunning 10000 trials for 1 scenarios...  64%|████████    |  ETA: 0:23:07\u001b[39m\u001b[K"
     ]
    },
    {
     "name": "stderr",
     "output_type": "stream",
     "text": [
      "\r\u001b[32mRunning 10000 trials for 1 scenarios...  64%|████████    |  ETA: 0:23:07\u001b[39m\u001b[K"
     ]
    },
    {
     "name": "stderr",
     "output_type": "stream",
     "text": [
      "\r\u001b[32mRunning 10000 trials for 1 scenarios...  64%|████████    |  ETA: 0:23:06\u001b[39m\u001b[K"
     ]
    },
    {
     "name": "stderr",
     "output_type": "stream",
     "text": [
      "\r\u001b[32mRunning 10000 trials for 1 scenarios...  64%|████████    |  ETA: 0:23:05\u001b[39m\u001b[K"
     ]
    },
    {
     "name": "stderr",
     "output_type": "stream",
     "text": [
      "\r\u001b[32mRunning 10000 trials for 1 scenarios...  65%|████████    |  ETA: 0:23:02\u001b[39m\u001b[K"
     ]
    },
    {
     "name": "stderr",
     "output_type": "stream",
     "text": [
      "\r\u001b[32mRunning 10000 trials for 1 scenarios...  65%|████████    |  ETA: 0:23:02\u001b[39m\u001b[K"
     ]
    },
    {
     "name": "stderr",
     "output_type": "stream",
     "text": [
      "\r\u001b[32mRunning 10000 trials for 1 scenarios...  65%|████████    |  ETA: 0:23:00\u001b[39m\u001b[K"
     ]
    },
    {
     "name": "stderr",
     "output_type": "stream",
     "text": [
      "\r\u001b[32mRunning 10000 trials for 1 scenarios...  65%|████████    |  ETA: 0:22:58\u001b[39m\u001b[K"
     ]
    },
    {
     "name": "stderr",
     "output_type": "stream",
     "text": [
      "\r\u001b[32mRunning 10000 trials for 1 scenarios...  65%|████████    |  ETA: 0:22:58\u001b[39m\u001b[K"
     ]
    },
    {
     "name": "stderr",
     "output_type": "stream",
     "text": [
      "\r\u001b[32mRunning 10000 trials for 1 scenarios...  65%|████████    |  ETA: 0:22:56\u001b[39m\u001b[K"
     ]
    },
    {
     "name": "stderr",
     "output_type": "stream",
     "text": [
      "\r\u001b[32mRunning 10000 trials for 1 scenarios...  65%|████████    |  ETA: 0:22:55\u001b[39m\u001b[K"
     ]
    },
    {
     "name": "stderr",
     "output_type": "stream",
     "text": [
      "\r\u001b[32mRunning 10000 trials for 1 scenarios...  65%|████████    |  ETA: 0:22:52\u001b[39m\u001b[K"
     ]
    },
    {
     "name": "stderr",
     "output_type": "stream",
     "text": [
      "\r\u001b[32mRunning 10000 trials for 1 scenarios...  65%|████████    |  ETA: 0:22:52\u001b[39m\u001b[K"
     ]
    },
    {
     "name": "stderr",
     "output_type": "stream",
     "text": [
      "\r\u001b[32mRunning 10000 trials for 1 scenarios...  65%|████████    |  ETA: 0:22:50\u001b[39m\u001b[K"
     ]
    },
    {
     "name": "stderr",
     "output_type": "stream",
     "text": [
      "\r\u001b[32mRunning 10000 trials for 1 scenarios...  65%|████████    |  ETA: 0:22:48\u001b[39m\u001b[K"
     ]
    },
    {
     "name": "stderr",
     "output_type": "stream",
     "text": [
      "\r\u001b[32mRunning 10000 trials for 1 scenarios...  65%|████████    |  ETA: 0:22:48\u001b[39m\u001b[K"
     ]
    },
    {
     "name": "stderr",
     "output_type": "stream",
     "text": [
      "\r\u001b[32mRunning 10000 trials for 1 scenarios...  65%|████████    |  ETA: 0:22:46\u001b[39m\u001b[K"
     ]
    },
    {
     "name": "stderr",
     "output_type": "stream",
     "text": [
      "\r\u001b[32mRunning 10000 trials for 1 scenarios...  66%|████████    |  ETA: 0:22:44\u001b[39m\u001b[K"
     ]
    },
    {
     "name": "stderr",
     "output_type": "stream",
     "text": [
      "\r\u001b[32mRunning 10000 trials for 1 scenarios...  66%|████████    |  ETA: 0:22:42\u001b[39m\u001b[K"
     ]
    },
    {
     "name": "stderr",
     "output_type": "stream",
     "text": [
      "\r\u001b[32mRunning 10000 trials for 1 scenarios...  66%|████████    |  ETA: 0:22:42\u001b[39m\u001b[K"
     ]
    },
    {
     "name": "stderr",
     "output_type": "stream",
     "text": [
      "\r\u001b[32mRunning 10000 trials for 1 scenarios...  66%|████████    |  ETA: 0:22:40\u001b[39m\u001b[K"
     ]
    },
    {
     "name": "stderr",
     "output_type": "stream",
     "text": [
      "\r\u001b[32mRunning 10000 trials for 1 scenarios...  66%|████████    |  ETA: 0:22:37\u001b[39m\u001b[K"
     ]
    },
    {
     "name": "stderr",
     "output_type": "stream",
     "text": [
      "\r\u001b[32mRunning 10000 trials for 1 scenarios...  66%|████████    |  ETA: 0:22:37\u001b[39m\u001b[K"
     ]
    },
    {
     "name": "stderr",
     "output_type": "stream",
     "text": [
      "\r\u001b[32mRunning 10000 trials for 1 scenarios...  66%|████████    |  ETA: 0:22:35\u001b[39m\u001b[K"
     ]
    },
    {
     "name": "stderr",
     "output_type": "stream",
     "text": [
      "\r\u001b[32mRunning 10000 trials for 1 scenarios...  66%|████████    |  ETA: 0:22:34\u001b[39m\u001b[K"
     ]
    },
    {
     "name": "stderr",
     "output_type": "stream",
     "text": [
      "\r\u001b[32mRunning 10000 trials for 1 scenarios...  66%|████████    |  ETA: 0:22:31\u001b[39m\u001b[K"
     ]
    },
    {
     "name": "stderr",
     "output_type": "stream",
     "text": [
      "\r\u001b[32mRunning 10000 trials for 1 scenarios...  66%|████████    |  ETA: 0:22:31\u001b[39m\u001b[K"
     ]
    },
    {
     "name": "stderr",
     "output_type": "stream",
     "text": [
      "\r\u001b[32mRunning 10000 trials for 1 scenarios...  66%|████████    |  ETA: 0:22:29\u001b[39m\u001b[K"
     ]
    },
    {
     "name": "stderr",
     "output_type": "stream",
     "text": [
      "\r\u001b[32mRunning 10000 trials for 1 scenarios...  66%|████████    |  ETA: 0:22:26\u001b[39m\u001b[K"
     ]
    },
    {
     "name": "stderr",
     "output_type": "stream",
     "text": [
      "\r\u001b[32mRunning 10000 trials for 1 scenarios...  66%|████████    |  ETA: 0:22:26\u001b[39m\u001b[K"
     ]
    },
    {
     "name": "stderr",
     "output_type": "stream",
     "text": [
      "\r\u001b[32mRunning 10000 trials for 1 scenarios...  67%|████████    |  ETA: 0:22:25\u001b[39m\u001b[K"
     ]
    },
    {
     "name": "stderr",
     "output_type": "stream",
     "text": [
      "\r\u001b[32mRunning 10000 trials for 1 scenarios...  67%|████████    |  ETA: 0:22:23\u001b[39m\u001b[K"
     ]
    },
    {
     "name": "stderr",
     "output_type": "stream",
     "text": [
      "\r\u001b[32mRunning 10000 trials for 1 scenarios...  67%|█████████   |  ETA: 0:22:20\u001b[39m\u001b[K"
     ]
    },
    {
     "name": "stderr",
     "output_type": "stream",
     "text": [
      "\r\u001b[32mRunning 10000 trials for 1 scenarios...  67%|█████████   |  ETA: 0:22:20\u001b[39m\u001b[K"
     ]
    },
    {
     "name": "stderr",
     "output_type": "stream",
     "text": [
      "\r\u001b[32mRunning 10000 trials for 1 scenarios...  67%|█████████   |  ETA: 0:22:18\u001b[39m\u001b[K"
     ]
    },
    {
     "name": "stderr",
     "output_type": "stream",
     "text": [
      "\r\u001b[32mRunning 10000 trials for 1 scenarios...  67%|█████████   |  ETA: 0:22:15\u001b[39m\u001b[K"
     ]
    },
    {
     "name": "stderr",
     "output_type": "stream",
     "text": [
      "\r\u001b[32mRunning 10000 trials for 1 scenarios...  67%|█████████   |  ETA: 0:22:15\u001b[39m\u001b[K"
     ]
    },
    {
     "name": "stderr",
     "output_type": "stream",
     "text": [
      "\r\u001b[32mRunning 10000 trials for 1 scenarios...  67%|█████████   |  ETA: 0:22:13\u001b[39m\u001b[K"
     ]
    },
    {
     "name": "stderr",
     "output_type": "stream",
     "text": [
      "\r\u001b[32mRunning 10000 trials for 1 scenarios...  67%|█████████   |  ETA: 0:22:11\u001b[39m\u001b[K"
     ]
    },
    {
     "name": "stderr",
     "output_type": "stream",
     "text": [
      "\r\u001b[32mRunning 10000 trials for 1 scenarios...  67%|█████████   |  ETA: 0:22:09\u001b[39m\u001b[K"
     ]
    },
    {
     "name": "stderr",
     "output_type": "stream",
     "text": [
      "\r\u001b[32mRunning 10000 trials for 1 scenarios...  67%|█████████   |  ETA: 0:22:08\u001b[39m\u001b[K"
     ]
    },
    {
     "name": "stderr",
     "output_type": "stream",
     "text": [
      "\r\u001b[32mRunning 10000 trials for 1 scenarios...  67%|█████████   |  ETA: 0:22:07\u001b[39m\u001b[K"
     ]
    },
    {
     "name": "stderr",
     "output_type": "stream",
     "text": [
      "\r\u001b[32mRunning 10000 trials for 1 scenarios...  67%|█████████   |  ETA: 0:22:04\u001b[39m\u001b[K"
     ]
    },
    {
     "name": "stderr",
     "output_type": "stream",
     "text": [
      "\r\u001b[32mRunning 10000 trials for 1 scenarios...  68%|█████████   |  ETA: 0:22:04\u001b[39m\u001b[K"
     ]
    },
    {
     "name": "stderr",
     "output_type": "stream",
     "text": [
      "\r\u001b[32mRunning 10000 trials for 1 scenarios...  68%|█████████   |  ETA: 0:22:02\u001b[39m\u001b[K"
     ]
    },
    {
     "name": "stderr",
     "output_type": "stream",
     "text": [
      "\r\u001b[32mRunning 10000 trials for 1 scenarios...  68%|█████████   |  ETA: 0:22:00\u001b[39m\u001b[K"
     ]
    },
    {
     "name": "stderr",
     "output_type": "stream",
     "text": [
      "\r\u001b[32mRunning 10000 trials for 1 scenarios...  68%|█████████   |  ETA: 0:21:57\u001b[39m\u001b[K"
     ]
    },
    {
     "name": "stderr",
     "output_type": "stream",
     "text": [
      "\r\u001b[32mRunning 10000 trials for 1 scenarios...  68%|█████████   |  ETA: 0:21:57\u001b[39m\u001b[K"
     ]
    },
    {
     "name": "stderr",
     "output_type": "stream",
     "text": [
      "\r\u001b[32mRunning 10000 trials for 1 scenarios...  68%|█████████   |  ETA: 0:21:55\u001b[39m\u001b[K"
     ]
    },
    {
     "name": "stderr",
     "output_type": "stream",
     "text": [
      "\r\u001b[32mRunning 10000 trials for 1 scenarios...  68%|█████████   |  ETA: 0:21:52\u001b[39m\u001b[K"
     ]
    },
    {
     "name": "stderr",
     "output_type": "stream",
     "text": [
      "\r\u001b[32mRunning 10000 trials for 1 scenarios...  68%|█████████   |  ETA: 0:21:52\u001b[39m\u001b[K"
     ]
    },
    {
     "name": "stderr",
     "output_type": "stream",
     "text": [
      "\r\u001b[32mRunning 10000 trials for 1 scenarios...  68%|█████████   |  ETA: 0:21:50\u001b[39m\u001b[K"
     ]
    },
    {
     "name": "stderr",
     "output_type": "stream",
     "text": [
      "\r\u001b[32mRunning 10000 trials for 1 scenarios...  68%|█████████   |  ETA: 0:21:48\u001b[39m\u001b[K"
     ]
    },
    {
     "name": "stderr",
     "output_type": "stream",
     "text": [
      "\r\u001b[32mRunning 10000 trials for 1 scenarios...  68%|█████████   |  ETA: 0:21:45\u001b[39m\u001b[K"
     ]
    },
    {
     "name": "stderr",
     "output_type": "stream",
     "text": [
      "\r\u001b[32mRunning 10000 trials for 1 scenarios...  68%|█████████   |  ETA: 0:21:45\u001b[39m\u001b[K"
     ]
    },
    {
     "name": "stderr",
     "output_type": "stream",
     "text": [
      "\r\u001b[32mRunning 10000 trials for 1 scenarios...  68%|█████████   |  ETA: 0:21:43\u001b[39m\u001b[K"
     ]
    },
    {
     "name": "stderr",
     "output_type": "stream",
     "text": [
      "\r\u001b[32mRunning 10000 trials for 1 scenarios...  69%|█████████   |  ETA: 0:21:40\u001b[39m\u001b[K"
     ]
    },
    {
     "name": "stderr",
     "output_type": "stream",
     "text": [
      "\r\u001b[32mRunning 10000 trials for 1 scenarios...  69%|█████████   |  ETA: 0:21:39\u001b[39m\u001b[K"
     ]
    },
    {
     "name": "stderr",
     "output_type": "stream",
     "text": [
      "\r\u001b[32mRunning 10000 trials for 1 scenarios...  69%|█████████   |  ETA: 0:21:37\u001b[39m\u001b[K"
     ]
    },
    {
     "name": "stderr",
     "output_type": "stream",
     "text": [
      "\r\u001b[32mRunning 10000 trials for 1 scenarios...  69%|█████████   |  ETA: 0:21:35\u001b[39m\u001b[K"
     ]
    },
    {
     "name": "stderr",
     "output_type": "stream",
     "text": [
      "\r\u001b[32mRunning 10000 trials for 1 scenarios...  69%|█████████   |  ETA: 0:21:32\u001b[39m\u001b[K"
     ]
    },
    {
     "name": "stderr",
     "output_type": "stream",
     "text": [
      "\r\u001b[32mRunning 10000 trials for 1 scenarios...  69%|█████████   |  ETA: 0:21:32\u001b[39m\u001b[K"
     ]
    },
    {
     "name": "stderr",
     "output_type": "stream",
     "text": [
      "\r\u001b[32mRunning 10000 trials for 1 scenarios...  69%|█████████   |  ETA: 0:21:30\u001b[39m\u001b[K"
     ]
    },
    {
     "name": "stderr",
     "output_type": "stream",
     "text": [
      "\r\u001b[32mRunning 10000 trials for 1 scenarios...  69%|█████████   |  ETA: 0:21:27\u001b[39m\u001b[K"
     ]
    },
    {
     "name": "stderr",
     "output_type": "stream",
     "text": [
      "\r\u001b[32mRunning 10000 trials for 1 scenarios...  69%|█████████   |  ETA: 0:21:27\u001b[39m\u001b[K"
     ]
    },
    {
     "name": "stderr",
     "output_type": "stream",
     "text": [
      "\r\u001b[32mRunning 10000 trials for 1 scenarios...  69%|█████████   |  ETA: 0:21:24\u001b[39m\u001b[K"
     ]
    },
    {
     "name": "stderr",
     "output_type": "stream",
     "text": [
      "\r\u001b[32mRunning 10000 trials for 1 scenarios...  69%|█████████   |  ETA: 0:21:25\u001b[39m\u001b[K"
     ]
    },
    {
     "name": "stderr",
     "output_type": "stream",
     "text": [
      "\r\u001b[32mRunning 10000 trials for 1 scenarios...  69%|█████████   |  ETA: 0:21:23\u001b[39m\u001b[K"
     ]
    },
    {
     "name": "stderr",
     "output_type": "stream",
     "text": [
      "\r\u001b[32mRunning 10000 trials for 1 scenarios...  69%|█████████   |  ETA: 0:21:19\u001b[39m\u001b[K"
     ]
    },
    {
     "name": "stderr",
     "output_type": "stream",
     "text": [
      "\r\u001b[32mRunning 10000 trials for 1 scenarios...  69%|█████████   |  ETA: 0:21:20\u001b[39m\u001b[K"
     ]
    },
    {
     "name": "stderr",
     "output_type": "stream",
     "text": [
      "\r\u001b[32mRunning 10000 trials for 1 scenarios...  70%|█████████   |  ETA: 0:21:17\u001b[39m\u001b[K"
     ]
    },
    {
     "name": "stderr",
     "output_type": "stream",
     "text": [
      "\r\u001b[32mRunning 10000 trials for 1 scenarios...  70%|█████████   |  ETA: 0:21:17\u001b[39m\u001b[K"
     ]
    },
    {
     "name": "stderr",
     "output_type": "stream",
     "text": [
      "\r\u001b[32mRunning 10000 trials for 1 scenarios...  70%|█████████   |  ETA: 0:21:14\u001b[39m\u001b[K"
     ]
    },
    {
     "name": "stderr",
     "output_type": "stream",
     "text": [
      "\r\u001b[32mRunning 10000 trials for 1 scenarios...  70%|█████████   |  ETA: 0:21:14\u001b[39m\u001b[K"
     ]
    },
    {
     "name": "stderr",
     "output_type": "stream",
     "text": [
      "\r\u001b[32mRunning 10000 trials for 1 scenarios...  70%|█████████   |  ETA: 0:21:11\u001b[39m\u001b[K"
     ]
    },
    {
     "name": "stderr",
     "output_type": "stream",
     "text": [
      "\r\u001b[32mRunning 10000 trials for 1 scenarios...  70%|█████████   |  ETA: 0:21:12\u001b[39m\u001b[K"
     ]
    },
    {
     "name": "stderr",
     "output_type": "stream",
     "text": [
      "\r\u001b[32mRunning 10000 trials for 1 scenarios...  70%|█████████   |  ETA: 0:21:09\u001b[39m\u001b[K"
     ]
    },
    {
     "name": "stderr",
     "output_type": "stream",
     "text": [
      "\r\u001b[32mRunning 10000 trials for 1 scenarios...  70%|█████████   |  ETA: 0:21:06\u001b[39m\u001b[K"
     ]
    },
    {
     "name": "stderr",
     "output_type": "stream",
     "text": [
      "\r\u001b[32mRunning 10000 trials for 1 scenarios...  70%|█████████   |  ETA: 0:21:07\u001b[39m\u001b[K"
     ]
    },
    {
     "name": "stderr",
     "output_type": "stream",
     "text": [
      "\r\u001b[32mRunning 10000 trials for 1 scenarios...  70%|█████████   |  ETA: 0:21:04\u001b[39m\u001b[K"
     ]
    },
    {
     "name": "stderr",
     "output_type": "stream",
     "text": [
      "\r\u001b[32mRunning 10000 trials for 1 scenarios...  70%|█████████   |  ETA: 0:21:04\u001b[39m\u001b[K"
     ]
    },
    {
     "name": "stderr",
     "output_type": "stream",
     "text": [
      "\r\u001b[32mRunning 10000 trials for 1 scenarios...  70%|█████████   |  ETA: 0:21:01\u001b[39m\u001b[K"
     ]
    },
    {
     "name": "stderr",
     "output_type": "stream",
     "text": [
      "\r\u001b[32mRunning 10000 trials for 1 scenarios...  70%|█████████   |  ETA: 0:21:02\u001b[39m\u001b[K"
     ]
    },
    {
     "name": "stderr",
     "output_type": "stream",
     "text": [
      "\r\u001b[32mRunning 10000 trials for 1 scenarios...  70%|█████████   |  ETA: 0:20:59\u001b[39m\u001b[K"
     ]
    },
    {
     "name": "stderr",
     "output_type": "stream",
     "text": [
      "\r\u001b[32mRunning 10000 trials for 1 scenarios...  70%|█████████   |  ETA: 0:20:59\u001b[39m\u001b[K"
     ]
    },
    {
     "name": "stderr",
     "output_type": "stream",
     "text": [
      "\r\u001b[32mRunning 10000 trials for 1 scenarios...  70%|█████████   |  ETA: 0:20:57\u001b[39m\u001b[K"
     ]
    },
    {
     "name": "stderr",
     "output_type": "stream",
     "text": [
      "\r\u001b[32mRunning 10000 trials for 1 scenarios...  70%|█████████   |  ETA: 0:20:54\u001b[39m\u001b[K"
     ]
    },
    {
     "name": "stderr",
     "output_type": "stream",
     "text": [
      "\r\u001b[32mRunning 10000 trials for 1 scenarios...  71%|█████████   |  ETA: 0:20:54\u001b[39m\u001b[K"
     ]
    },
    {
     "name": "stderr",
     "output_type": "stream",
     "text": [
      "\r\u001b[32mRunning 10000 trials for 1 scenarios...  71%|█████████   |  ETA: 0:20:51\u001b[39m\u001b[K"
     ]
    },
    {
     "name": "stderr",
     "output_type": "stream",
     "text": [
      "\r\u001b[32mRunning 10000 trials for 1 scenarios...  71%|█████████   |  ETA: 0:20:51\u001b[39m\u001b[K"
     ]
    },
    {
     "name": "stderr",
     "output_type": "stream",
     "text": [
      "\r\u001b[32mRunning 10000 trials for 1 scenarios...  71%|█████████   |  ETA: 0:20:48\u001b[39m\u001b[K"
     ]
    },
    {
     "name": "stderr",
     "output_type": "stream",
     "text": [
      "\r\u001b[32mRunning 10000 trials for 1 scenarios...  71%|█████████   |  ETA: 0:20:48\u001b[39m\u001b[K"
     ]
    },
    {
     "name": "stderr",
     "output_type": "stream",
     "text": [
      "\r\u001b[32mRunning 10000 trials for 1 scenarios...  71%|█████████   |  ETA: 0:20:45\u001b[39m\u001b[K"
     ]
    },
    {
     "name": "stderr",
     "output_type": "stream",
     "text": [
      "\r\u001b[32mRunning 10000 trials for 1 scenarios...  71%|█████████   |  ETA: 0:20:46\u001b[39m\u001b[K"
     ]
    },
    {
     "name": "stderr",
     "output_type": "stream",
     "text": [
      "\r\u001b[32mRunning 10000 trials for 1 scenarios...  71%|█████████   |  ETA: 0:20:43\u001b[39m\u001b[K"
     ]
    },
    {
     "name": "stderr",
     "output_type": "stream",
     "text": [
      "\r\u001b[32mRunning 10000 trials for 1 scenarios...  71%|█████████   |  ETA: 0:20:40\u001b[39m\u001b[K"
     ]
    },
    {
     "name": "stderr",
     "output_type": "stream",
     "text": [
      "\r\u001b[32mRunning 10000 trials for 1 scenarios...  71%|█████████   |  ETA: 0:20:40\u001b[39m\u001b[K"
     ]
    },
    {
     "name": "stderr",
     "output_type": "stream",
     "text": [
      "\r\u001b[32mRunning 10000 trials for 1 scenarios...  71%|█████████   |  ETA: 0:20:37\u001b[39m\u001b[K"
     ]
    },
    {
     "name": "stderr",
     "output_type": "stream",
     "text": [
      "\r\u001b[32mRunning 10000 trials for 1 scenarios...  71%|█████████   |  ETA: 0:20:38\u001b[39m\u001b[K"
     ]
    },
    {
     "name": "stderr",
     "output_type": "stream",
     "text": [
      "\r\u001b[32mRunning 10000 trials for 1 scenarios...  71%|█████████   |  ETA: 0:20:34\u001b[39m\u001b[K"
     ]
    },
    {
     "name": "stderr",
     "output_type": "stream",
     "text": [
      "\r\u001b[32mRunning 10000 trials for 1 scenarios...  71%|█████████   |  ETA: 0:20:35\u001b[39m\u001b[K"
     ]
    },
    {
     "name": "stderr",
     "output_type": "stream",
     "text": [
      "\r\u001b[32mRunning 10000 trials for 1 scenarios...  71%|█████████   |  ETA: 0:20:31\u001b[39m\u001b[K"
     ]
    },
    {
     "name": "stderr",
     "output_type": "stream",
     "text": [
      "\r\u001b[32mRunning 10000 trials for 1 scenarios...  71%|█████████   |  ETA: 0:20:32\u001b[39m\u001b[K"
     ]
    },
    {
     "name": "stderr",
     "output_type": "stream",
     "text": [
      "\r\u001b[32mRunning 10000 trials for 1 scenarios...  71%|█████████   |  ETA: 0:20:29\u001b[39m\u001b[K"
     ]
    },
    {
     "name": "stderr",
     "output_type": "stream",
     "text": [
      "\r\u001b[32mRunning 10000 trials for 1 scenarios...  72%|█████████   |  ETA: 0:20:26\u001b[39m\u001b[K"
     ]
    },
    {
     "name": "stderr",
     "output_type": "stream",
     "text": [
      "\r\u001b[32mRunning 10000 trials for 1 scenarios...  72%|█████████   |  ETA: 0:20:26\u001b[39m\u001b[K"
     ]
    },
    {
     "name": "stderr",
     "output_type": "stream",
     "text": [
      "\r\u001b[32mRunning 10000 trials for 1 scenarios...  72%|█████████   |  ETA: 0:20:23\u001b[39m\u001b[K"
     ]
    },
    {
     "name": "stderr",
     "output_type": "stream",
     "text": [
      "\r\u001b[32mRunning 10000 trials for 1 scenarios...  72%|█████████   |  ETA: 0:20:23\u001b[39m\u001b[K"
     ]
    },
    {
     "name": "stderr",
     "output_type": "stream",
     "text": [
      "\r\u001b[32mRunning 10000 trials for 1 scenarios...  72%|█████████   |  ETA: 0:20:20\u001b[39m\u001b[K"
     ]
    },
    {
     "name": "stderr",
     "output_type": "stream",
     "text": [
      "\r\u001b[32mRunning 10000 trials for 1 scenarios...  72%|█████████   |  ETA: 0:20:20\u001b[39m\u001b[K"
     ]
    },
    {
     "name": "stderr",
     "output_type": "stream",
     "text": [
      "\r\u001b[32mRunning 10000 trials for 1 scenarios...  72%|█████████   |  ETA: 0:20:17\u001b[39m\u001b[K"
     ]
    },
    {
     "name": "stderr",
     "output_type": "stream",
     "text": [
      "\r\u001b[32mRunning 10000 trials for 1 scenarios...  72%|█████████   |  ETA: 0:20:17\u001b[39m\u001b[K"
     ]
    },
    {
     "name": "stderr",
     "output_type": "stream",
     "text": [
      "\r\u001b[32mRunning 10000 trials for 1 scenarios...  72%|█████████   |  ETA: 0:20:15\u001b[39m\u001b[K"
     ]
    },
    {
     "name": "stderr",
     "output_type": "stream",
     "text": [
      "\r\u001b[32mRunning 10000 trials for 1 scenarios...  72%|█████████   |  ETA: 0:20:12\u001b[39m\u001b[K"
     ]
    },
    {
     "name": "stderr",
     "output_type": "stream",
     "text": [
      "\r\u001b[32mRunning 10000 trials for 1 scenarios...  72%|█████████   |  ETA: 0:20:12\u001b[39m\u001b[K"
     ]
    },
    {
     "name": "stderr",
     "output_type": "stream",
     "text": [
      "\r\u001b[32mRunning 10000 trials for 1 scenarios...  72%|█████████   |  ETA: 0:20:09\u001b[39m\u001b[K"
     ]
    },
    {
     "name": "stderr",
     "output_type": "stream",
     "text": [
      "\r\u001b[32mRunning 10000 trials for 1 scenarios...  72%|█████████   |  ETA: 0:20:09\u001b[39m\u001b[K"
     ]
    },
    {
     "name": "stderr",
     "output_type": "stream",
     "text": [
      "\r\u001b[32mRunning 10000 trials for 1 scenarios...  72%|█████████   |  ETA: 0:20:06\u001b[39m\u001b[K"
     ]
    },
    {
     "name": "stderr",
     "output_type": "stream",
     "text": [
      "\r\u001b[32mRunning 10000 trials for 1 scenarios...  72%|█████████   |  ETA: 0:20:06\u001b[39m\u001b[K"
     ]
    },
    {
     "name": "stderr",
     "output_type": "stream",
     "text": [
      "\r\u001b[32mRunning 10000 trials for 1 scenarios...  72%|█████████   |  ETA: 0:20:03\u001b[39m\u001b[K"
     ]
    },
    {
     "name": "stderr",
     "output_type": "stream",
     "text": [
      "\r\u001b[32mRunning 10000 trials for 1 scenarios...  72%|█████████   |  ETA: 0:20:03\u001b[39m\u001b[K"
     ]
    },
    {
     "name": "stderr",
     "output_type": "stream",
     "text": [
      "\r\u001b[32mRunning 10000 trials for 1 scenarios...  73%|█████████   |  ETA: 0:20:00\u001b[39m\u001b[K"
     ]
    },
    {
     "name": "stderr",
     "output_type": "stream",
     "text": [
      "\r\u001b[32mRunning 10000 trials for 1 scenarios...  73%|█████████   |  ETA: 0:19:57\u001b[39m\u001b[K"
     ]
    },
    {
     "name": "stderr",
     "output_type": "stream",
     "text": [
      "\r\u001b[32mRunning 10000 trials for 1 scenarios...  73%|█████████   |  ETA: 0:19:57\u001b[39m\u001b[K"
     ]
    },
    {
     "name": "stderr",
     "output_type": "stream",
     "text": [
      "\r\u001b[32mRunning 10000 trials for 1 scenarios...  73%|█████████   |  ETA: 0:19:54\u001b[39m\u001b[K"
     ]
    },
    {
     "name": "stderr",
     "output_type": "stream",
     "text": [
      "\r\u001b[32mRunning 10000 trials for 1 scenarios...  73%|█████████   |  ETA: 0:19:54\u001b[39m\u001b[K"
     ]
    },
    {
     "name": "stderr",
     "output_type": "stream",
     "text": [
      "\r\u001b[32mRunning 10000 trials for 1 scenarios...  73%|█████████   |  ETA: 0:19:51\u001b[39m\u001b[K"
     ]
    },
    {
     "name": "stderr",
     "output_type": "stream",
     "text": [
      "\r\u001b[32mRunning 10000 trials for 1 scenarios...  73%|█████████   |  ETA: 0:19:51\u001b[39m\u001b[K"
     ]
    },
    {
     "name": "stderr",
     "output_type": "stream",
     "text": [
      "\r\u001b[32mRunning 10000 trials for 1 scenarios...  73%|█████████   |  ETA: 0:19:48\u001b[39m\u001b[K"
     ]
    },
    {
     "name": "stderr",
     "output_type": "stream",
     "text": [
      "\r\u001b[32mRunning 10000 trials for 1 scenarios...  73%|█████████   |  ETA: 0:19:48\u001b[39m\u001b[K"
     ]
    },
    {
     "name": "stderr",
     "output_type": "stream",
     "text": [
      "\r\u001b[32mRunning 10000 trials for 1 scenarios...  73%|█████████   |  ETA: 0:19:45\u001b[39m\u001b[K"
     ]
    },
    {
     "name": "stderr",
     "output_type": "stream",
     "text": [
      "\r\u001b[32mRunning 10000 trials for 1 scenarios...  73%|█████████   |  ETA: 0:19:42\u001b[39m\u001b[K"
     ]
    },
    {
     "name": "stderr",
     "output_type": "stream",
     "text": [
      "\r\u001b[32mRunning 10000 trials for 1 scenarios...  73%|█████████   |  ETA: 0:19:42\u001b[39m\u001b[K"
     ]
    },
    {
     "name": "stderr",
     "output_type": "stream",
     "text": [
      "\r\u001b[32mRunning 10000 trials for 1 scenarios...  73%|█████████   |  ETA: 0:19:38\u001b[39m\u001b[K"
     ]
    },
    {
     "name": "stderr",
     "output_type": "stream",
     "text": [
      "\r\u001b[32mRunning 10000 trials for 1 scenarios...  73%|█████████   |  ETA: 0:19:39\u001b[39m\u001b[K"
     ]
    },
    {
     "name": "stderr",
     "output_type": "stream",
     "text": [
      "\r\u001b[32mRunning 10000 trials for 1 scenarios...  73%|█████████   |  ETA: 0:19:35\u001b[39m\u001b[K"
     ]
    },
    {
     "name": "stderr",
     "output_type": "stream",
     "text": [
      "\r\u001b[32mRunning 10000 trials for 1 scenarios...  73%|█████████   |  ETA: 0:19:35\u001b[39m\u001b[K"
     ]
    },
    {
     "name": "stderr",
     "output_type": "stream",
     "text": [
      "\r\u001b[32mRunning 10000 trials for 1 scenarios...  74%|█████████   |  ETA: 0:19:32\u001b[39m\u001b[K"
     ]
    },
    {
     "name": "stderr",
     "output_type": "stream",
     "text": [
      "\r\u001b[32mRunning 10000 trials for 1 scenarios...  74%|█████████   |  ETA: 0:19:32\u001b[39m\u001b[K"
     ]
    },
    {
     "name": "stderr",
     "output_type": "stream",
     "text": [
      "\r\u001b[32mRunning 10000 trials for 1 scenarios...  74%|█████████   |  ETA: 0:19:30\u001b[39m\u001b[K"
     ]
    },
    {
     "name": "stderr",
     "output_type": "stream",
     "text": [
      "\r\u001b[32mRunning 10000 trials for 1 scenarios...  74%|█████████   |  ETA: 0:19:26\u001b[39m"
     ]
    },
    {
     "name": "stderr",
     "output_type": "stream",
     "text": [
      "\u001b[K"
     ]
    },
    {
     "name": "stderr",
     "output_type": "stream",
     "text": [
      "\r\u001b[32mRunning 10000 trials for 1 scenarios...  74%|█████████   |  ETA: 0:19:26\u001b[39m\u001b[K"
     ]
    },
    {
     "name": "stderr",
     "output_type": "stream",
     "text": [
      "\r\u001b[32mRunning 10000 trials for 1 scenarios...  74%|█████████   |  ETA: 0:19:23\u001b[39m\u001b[K"
     ]
    },
    {
     "name": "stderr",
     "output_type": "stream",
     "text": [
      "\r\u001b[32mRunning 10000 trials for 1 scenarios...  74%|█████████   |  ETA: 0:19:23\u001b[39m\u001b[K"
     ]
    },
    {
     "name": "stderr",
     "output_type": "stream",
     "text": [
      "\r\u001b[32mRunning 10000 trials for 1 scenarios...  74%|█████████   |  ETA: 0:19:19\u001b[39m\u001b[K"
     ]
    },
    {
     "name": "stderr",
     "output_type": "stream",
     "text": [
      "\r\u001b[32mRunning 10000 trials for 1 scenarios...  74%|█████████   |  ETA: 0:19:20\u001b[39m\u001b[K"
     ]
    },
    {
     "name": "stderr",
     "output_type": "stream",
     "text": [
      "\r\u001b[32mRunning 10000 trials for 1 scenarios...  74%|█████████   |  ETA: 0:19:16\u001b[39m\u001b[K"
     ]
    },
    {
     "name": "stderr",
     "output_type": "stream",
     "text": [
      "\r\u001b[32mRunning 10000 trials for 1 scenarios...  74%|█████████   |  ETA: 0:19:16\u001b[39m\u001b[K"
     ]
    },
    {
     "name": "stderr",
     "output_type": "stream",
     "text": [
      "\r\u001b[32mRunning 10000 trials for 1 scenarios...  74%|█████████   |  ETA: 0:19:14\u001b[39m\u001b[K"
     ]
    },
    {
     "name": "stderr",
     "output_type": "stream",
     "text": [
      "\r\u001b[32mRunning 10000 trials for 1 scenarios...  74%|█████████   |  ETA: 0:19:10\u001b[39m\u001b[K"
     ]
    },
    {
     "name": "stderr",
     "output_type": "stream",
     "text": [
      "\r\u001b[32mRunning 10000 trials for 1 scenarios...  74%|█████████   |  ETA: 0:19:10\u001b[39m\u001b[K"
     ]
    },
    {
     "name": "stderr",
     "output_type": "stream",
     "text": [
      "\r\u001b[32mRunning 10000 trials for 1 scenarios...  74%|█████████   |  ETA: 0:19:07\u001b[39m\u001b[K"
     ]
    },
    {
     "name": "stderr",
     "output_type": "stream",
     "text": [
      "\r\u001b[32mRunning 10000 trials for 1 scenarios...  74%|█████████   |  ETA: 0:19:07\u001b[39m\u001b[K"
     ]
    },
    {
     "name": "stderr",
     "output_type": "stream",
     "text": [
      "\r\u001b[32mRunning 10000 trials for 1 scenarios...  74%|█████████   |  ETA: 0:19:03\u001b[39m\u001b[K"
     ]
    },
    {
     "name": "stderr",
     "output_type": "stream",
     "text": [
      "\r\u001b[32mRunning 10000 trials for 1 scenarios...  75%|█████████   |  ETA: 0:19:03\u001b[39m\u001b[K"
     ]
    },
    {
     "name": "stderr",
     "output_type": "stream",
     "text": [
      "\r\u001b[32mRunning 10000 trials for 1 scenarios...  75%|█████████   |  ETA: 0:19:00\u001b[39m\u001b[K"
     ]
    },
    {
     "name": "stderr",
     "output_type": "stream",
     "text": [
      "\r\u001b[32mRunning 10000 trials for 1 scenarios...  75%|█████████   |  ETA: 0:19:00\u001b[39m\u001b[K"
     ]
    },
    {
     "name": "stderr",
     "output_type": "stream",
     "text": [
      "\r\u001b[32mRunning 10000 trials for 1 scenarios...  75%|█████████   |  ETA: 0:18:57\u001b[39m\u001b[K"
     ]
    },
    {
     "name": "stderr",
     "output_type": "stream",
     "text": [
      "\r\u001b[32mRunning 10000 trials for 1 scenarios...  75%|█████████   |  ETA: 0:18:54\u001b[39m\u001b[K"
     ]
    },
    {
     "name": "stderr",
     "output_type": "stream",
     "text": [
      "\r\u001b[32mRunning 10000 trials for 1 scenarios...  75%|█████████   |  ETA: 0:18:54\u001b[39m\u001b[K"
     ]
    },
    {
     "name": "stderr",
     "output_type": "stream",
     "text": [
      "\r\u001b[32mRunning 10000 trials for 1 scenarios...  75%|█████████   |  ETA: 0:18:50\u001b[39m\u001b[K"
     ]
    },
    {
     "name": "stderr",
     "output_type": "stream",
     "text": [
      "\r\u001b[32mRunning 10000 trials for 1 scenarios...  75%|█████████   |  ETA: 0:18:50\u001b[39m\u001b[K"
     ]
    },
    {
     "name": "stderr",
     "output_type": "stream",
     "text": [
      "\r\u001b[32mRunning 10000 trials for 1 scenarios...  75%|██████████  |  ETA: 0:18:47\u001b[39m\u001b[K"
     ]
    },
    {
     "name": "stderr",
     "output_type": "stream",
     "text": [
      "\r\u001b[32mRunning 10000 trials for 1 scenarios...  75%|██████████  |  ETA: 0:18:47\u001b[39m\u001b[K"
     ]
    },
    {
     "name": "stderr",
     "output_type": "stream",
     "text": [
      "\r\u001b[32mRunning 10000 trials for 1 scenarios...  75%|██████████  |  ETA: 0:18:43\u001b[39m\u001b[K"
     ]
    },
    {
     "name": "stderr",
     "output_type": "stream",
     "text": [
      "\r\u001b[32mRunning 10000 trials for 1 scenarios...  75%|██████████  |  ETA: 0:18:44\u001b[39m\u001b[K"
     ]
    },
    {
     "name": "stderr",
     "output_type": "stream",
     "text": [
      "\r\u001b[32mRunning 10000 trials for 1 scenarios...  75%|██████████  |  ETA: 0:18:41\u001b[39m\u001b[K"
     ]
    },
    {
     "name": "stderr",
     "output_type": "stream",
     "text": [
      "\r\u001b[32mRunning 10000 trials for 1 scenarios...  75%|██████████  |  ETA: 0:18:37\u001b[39m\u001b[K"
     ]
    },
    {
     "name": "stderr",
     "output_type": "stream",
     "text": [
      "\r\u001b[32mRunning 10000 trials for 1 scenarios...  75%|██████████  |  ETA: 0:18:37\u001b[39m\u001b[K"
     ]
    },
    {
     "name": "stderr",
     "output_type": "stream",
     "text": [
      "\r\u001b[32mRunning 10000 trials for 1 scenarios...  75%|██████████  |  ETA: 0:18:34\u001b[39m\u001b[K"
     ]
    },
    {
     "name": "stderr",
     "output_type": "stream",
     "text": [
      "\r\u001b[32mRunning 10000 trials for 1 scenarios...  75%|██████████  |  ETA: 0:18:34\u001b[39m\u001b[K"
     ]
    },
    {
     "name": "stderr",
     "output_type": "stream",
     "text": [
      "\r\u001b[32mRunning 10000 trials for 1 scenarios...  76%|██████████  |  ETA: 0:18:30\u001b[39m\u001b[K"
     ]
    },
    {
     "name": "stderr",
     "output_type": "stream",
     "text": [
      "\r\u001b[32mRunning 10000 trials for 1 scenarios...  76%|██████████  |  ETA: 0:18:30\u001b[39m\u001b[K"
     ]
    },
    {
     "name": "stderr",
     "output_type": "stream",
     "text": [
      "\r\u001b[32mRunning 10000 trials for 1 scenarios...  76%|██████████  |  ETA: 0:18:27\u001b[39m\u001b[K"
     ]
    },
    {
     "name": "stderr",
     "output_type": "stream",
     "text": [
      "\r\u001b[32mRunning 10000 trials for 1 scenarios...  76%|██████████  |  ETA: 0:18:27\u001b[39m\u001b[K"
     ]
    },
    {
     "name": "stderr",
     "output_type": "stream",
     "text": [
      "\r\u001b[32mRunning 10000 trials for 1 scenarios...  76%|██████████  |  ETA: 0:18:24\u001b[39m\u001b[K"
     ]
    },
    {
     "name": "stderr",
     "output_type": "stream",
     "text": [
      "\r\u001b[32mRunning 10000 trials for 1 scenarios...  76%|██████████  |  ETA: 0:18:20\u001b[39m\u001b[K"
     ]
    },
    {
     "name": "stderr",
     "output_type": "stream",
     "text": [
      "\r\u001b[32mRunning 10000 trials for 1 scenarios...  76%|██████████  |  ETA: 0:18:20\u001b[39m\u001b[K"
     ]
    },
    {
     "name": "stderr",
     "output_type": "stream",
     "text": [
      "\r\u001b[32mRunning 10000 trials for 1 scenarios...  76%|██████████  |  ETA: 0:18:17\u001b[39m\u001b[K"
     ]
    },
    {
     "name": "stderr",
     "output_type": "stream",
     "text": [
      "\r\u001b[32mRunning 10000 trials for 1 scenarios...  76%|██████████  |  ETA: 0:18:17\u001b[39m\u001b[K"
     ]
    },
    {
     "name": "stderr",
     "output_type": "stream",
     "text": [
      "\r\u001b[32mRunning 10000 trials for 1 scenarios...  76%|██████████  |  ETA: 0:18:13\u001b[39m\u001b[K"
     ]
    },
    {
     "name": "stderr",
     "output_type": "stream",
     "text": [
      "\r\u001b[32mRunning 10000 trials for 1 scenarios...  76%|██████████  |  ETA: 0:18:13\u001b[39m\u001b[K"
     ]
    },
    {
     "name": "stderr",
     "output_type": "stream",
     "text": [
      "\r\u001b[32mRunning 10000 trials for 1 scenarios...  76%|██████████  |  ETA: 0:18:09\u001b[39m\u001b[K"
     ]
    },
    {
     "name": "stderr",
     "output_type": "stream",
     "text": [
      "\r\u001b[32mRunning 10000 trials for 1 scenarios...  76%|██████████  |  ETA: 0:18:09\u001b[39m\u001b[K"
     ]
    },
    {
     "name": "stderr",
     "output_type": "stream",
     "text": [
      "\r\u001b[32mRunning 10000 trials for 1 scenarios...  76%|██████████  |  ETA: 0:18:06\u001b[39m\u001b[K"
     ]
    },
    {
     "name": "stderr",
     "output_type": "stream",
     "text": [
      "\r\u001b[32mRunning 10000 trials for 1 scenarios...  76%|██████████  |  ETA: 0:18:03\u001b[39m\u001b[K"
     ]
    },
    {
     "name": "stderr",
     "output_type": "stream",
     "text": [
      "\r\u001b[32mRunning 10000 trials for 1 scenarios...  76%|██████████  |  ETA: 0:18:03\u001b[39m\u001b[K"
     ]
    },
    {
     "name": "stderr",
     "output_type": "stream",
     "text": [
      "\r\u001b[32mRunning 10000 trials for 1 scenarios...  77%|██████████  |  ETA: 0:17:59\u001b[39m\u001b[K"
     ]
    },
    {
     "name": "stderr",
     "output_type": "stream",
     "text": [
      "\r\u001b[32mRunning 10000 trials for 1 scenarios...  77%|██████████  |  ETA: 0:17:59\u001b[39m\u001b[K"
     ]
    },
    {
     "name": "stderr",
     "output_type": "stream",
     "text": [
      "\r\u001b[32mRunning 10000 trials for 1 scenarios...  77%|██████████  |  ETA: 0:17:56\u001b[39m\u001b[K"
     ]
    },
    {
     "name": "stderr",
     "output_type": "stream",
     "text": [
      "\r\u001b[32mRunning 10000 trials for 1 scenarios...  77%|██████████  |  ETA: 0:17:56\u001b[39m\u001b[K"
     ]
    },
    {
     "name": "stderr",
     "output_type": "stream",
     "text": [
      "\r\u001b[32mRunning 10000 trials for 1 scenarios...  77%|██████████  |  ETA: 0:17:52\u001b[39m\u001b[K"
     ]
    },
    {
     "name": "stderr",
     "output_type": "stream",
     "text": [
      "\r\u001b[32mRunning 10000 trials for 1 scenarios...  77%|██████████  |  ETA: 0:17:52\u001b[39m\u001b[K"
     ]
    },
    {
     "name": "stderr",
     "output_type": "stream",
     "text": [
      "\r\u001b[32mRunning 10000 trials for 1 scenarios...  77%|██████████  |  ETA: 0:17:49\u001b[39m\u001b[K"
     ]
    },
    {
     "name": "stderr",
     "output_type": "stream",
     "text": [
      "\r\u001b[32mRunning 10000 trials for 1 scenarios...  77%|██████████  |  ETA: 0:17:45\u001b[39m\u001b[K"
     ]
    },
    {
     "name": "stderr",
     "output_type": "stream",
     "text": [
      "\r\u001b[32mRunning 10000 trials for 1 scenarios...  77%|██████████  |  ETA: 0:17:45\u001b[39m\u001b[K"
     ]
    },
    {
     "name": "stderr",
     "output_type": "stream",
     "text": [
      "\r\u001b[32mRunning 10000 trials for 1 scenarios...  77%|██████████  |  ETA: 0:17:42\u001b[39m\u001b[K"
     ]
    },
    {
     "name": "stderr",
     "output_type": "stream",
     "text": [
      "\r\u001b[32mRunning 10000 trials for 1 scenarios...  77%|██████████  |  ETA: 0:17:42\u001b[39m\u001b[K"
     ]
    },
    {
     "name": "stderr",
     "output_type": "stream",
     "text": [
      "\r\u001b[32mRunning 10000 trials for 1 scenarios...  77%|██████████  |  ETA: 0:17:38\u001b[39m\u001b[K"
     ]
    },
    {
     "name": "stderr",
     "output_type": "stream",
     "text": [
      "\r\u001b[32mRunning 10000 trials for 1 scenarios...  77%|██████████  |  ETA: 0:17:38\u001b[39m\u001b[K"
     ]
    },
    {
     "name": "stderr",
     "output_type": "stream",
     "text": [
      "\r\u001b[32mRunning 10000 trials for 1 scenarios...  77%|██████████  |  ETA: 0:17:34\u001b[39m\u001b[K"
     ]
    },
    {
     "name": "stderr",
     "output_type": "stream",
     "text": [
      "\r\u001b[32mRunning 10000 trials for 1 scenarios...  77%|██████████  |  ETA: 0:17:34\u001b[39m\u001b[K"
     ]
    },
    {
     "name": "stderr",
     "output_type": "stream",
     "text": [
      "\r\u001b[32mRunning 10000 trials for 1 scenarios...  77%|██████████  |  ETA: 0:17:31\u001b[39m\u001b[K"
     ]
    },
    {
     "name": "stderr",
     "output_type": "stream",
     "text": [
      "\r\u001b[32mRunning 10000 trials for 1 scenarios...  78%|██████████  |  ETA: 0:17:27\u001b[39m\u001b[K"
     ]
    },
    {
     "name": "stderr",
     "output_type": "stream",
     "text": [
      "\r\u001b[32mRunning 10000 trials for 1 scenarios...  78%|██████████  |  ETA: 0:17:27\u001b[39m\u001b[K"
     ]
    },
    {
     "name": "stderr",
     "output_type": "stream",
     "text": [
      "\r\u001b[32mRunning 10000 trials for 1 scenarios...  78%|██████████  |  ETA: 0:17:23\u001b[39m\u001b[K"
     ]
    },
    {
     "name": "stderr",
     "output_type": "stream",
     "text": [
      "\r\u001b[32mRunning 10000 trials for 1 scenarios...  78%|██████████  |  ETA: 0:17:23\u001b[39m\u001b[K"
     ]
    },
    {
     "name": "stderr",
     "output_type": "stream",
     "text": [
      "\r\u001b[32mRunning 10000 trials for 1 scenarios...  78%|██████████  |  ETA: 0:17:20\u001b[39m\u001b[K"
     ]
    },
    {
     "name": "stderr",
     "output_type": "stream",
     "text": [
      "\r\u001b[32mRunning 10000 trials for 1 scenarios...  78%|██████████  |  ETA: 0:17:20\u001b[39m\u001b[K"
     ]
    },
    {
     "name": "stderr",
     "output_type": "stream",
     "text": [
      "\r\u001b[32mRunning 10000 trials for 1 scenarios...  78%|██████████  |  ETA: 0:17:16\u001b[39m\u001b[K"
     ]
    },
    {
     "name": "stderr",
     "output_type": "stream",
     "text": [
      "\r\u001b[32mRunning 10000 trials for 1 scenarios...  78%|██████████  |  ETA: 0:17:16\u001b[39m\u001b[K"
     ]
    },
    {
     "name": "stderr",
     "output_type": "stream",
     "text": [
      "\r\u001b[32mRunning 10000 trials for 1 scenarios...  78%|██████████  |  ETA: 0:17:13\u001b[39m\u001b[K"
     ]
    },
    {
     "name": "stderr",
     "output_type": "stream",
     "text": [
      "\r\u001b[32mRunning 10000 trials for 1 scenarios...  78%|██████████  |  ETA: 0:17:09\u001b[39m\u001b[K"
     ]
    },
    {
     "name": "stderr",
     "output_type": "stream",
     "text": [
      "\r\u001b[32mRunning 10000 trials for 1 scenarios...  78%|██████████  |  ETA: 0:17:09\u001b[39m\u001b[K"
     ]
    },
    {
     "name": "stderr",
     "output_type": "stream",
     "text": [
      "\r\u001b[32mRunning 10000 trials for 1 scenarios...  78%|██████████  |  ETA: 0:17:05\u001b[39m\u001b[K"
     ]
    },
    {
     "name": "stderr",
     "output_type": "stream",
     "text": [
      "\r\u001b[32mRunning 10000 trials for 1 scenarios...  78%|██████████  |  ETA: 0:17:05\u001b[39m\u001b[K"
     ]
    },
    {
     "name": "stderr",
     "output_type": "stream",
     "text": [
      "\r\u001b[32mRunning 10000 trials for 1 scenarios...  78%|██████████  |  ETA: 0:17:01\u001b[39m\u001b[K"
     ]
    },
    {
     "name": "stderr",
     "output_type": "stream",
     "text": [
      "\r\u001b[32mRunning 10000 trials for 1 scenarios...  78%|██████████  |  ETA: 0:17:01\u001b[39m\u001b[K"
     ]
    },
    {
     "name": "stderr",
     "output_type": "stream",
     "text": [
      "\r\u001b[32mRunning 10000 trials for 1 scenarios...  78%|██████████  |  ETA: 0:16:57\u001b[39m\u001b[K"
     ]
    },
    {
     "name": "stderr",
     "output_type": "stream",
     "text": [
      "\r\u001b[32mRunning 10000 trials for 1 scenarios...  78%|██████████  |  ETA: 0:16:57\u001b[39m\u001b[K"
     ]
    },
    {
     "name": "stderr",
     "output_type": "stream",
     "text": [
      "\r\u001b[32mRunning 10000 trials for 1 scenarios...  78%|██████████  |  ETA: 0:16:54\u001b[39m\u001b[K"
     ]
    },
    {
     "name": "stderr",
     "output_type": "stream",
     "text": [
      "\r\u001b[32mRunning 10000 trials for 1 scenarios...  79%|██████████  |  ETA: 0:16:50\u001b[39m\u001b[K"
     ]
    },
    {
     "name": "stderr",
     "output_type": "stream",
     "text": [
      "\r\u001b[32mRunning 10000 trials for 1 scenarios...  79%|██████████  |  ETA: 0:16:50\u001b[39m\u001b[K"
     ]
    },
    {
     "name": "stderr",
     "output_type": "stream",
     "text": [
      "\r\u001b[32mRunning 10000 trials for 1 scenarios...  79%|██████████  |  ETA: 0:16:46\u001b[39m\u001b[K"
     ]
    },
    {
     "name": "stderr",
     "output_type": "stream",
     "text": [
      "\r\u001b[32mRunning 10000 trials for 1 scenarios...  79%|██████████  |  ETA: 0:16:46\u001b[39m\u001b[K"
     ]
    },
    {
     "name": "stderr",
     "output_type": "stream",
     "text": [
      "\r\u001b[32mRunning 10000 trials for 1 scenarios...  79%|██████████  |  ETA: 0:16:42\u001b[39m\u001b[K"
     ]
    },
    {
     "name": "stderr",
     "output_type": "stream",
     "text": [
      "\r\u001b[32mRunning 10000 trials for 1 scenarios...  79%|██████████  |  ETA: 0:16:43\u001b[39m\u001b[K"
     ]
    },
    {
     "name": "stderr",
     "output_type": "stream",
     "text": [
      "\r\u001b[32mRunning 10000 trials for 1 scenarios...  79%|██████████  |  ETA: 0:16:39\u001b[39m\u001b[K"
     ]
    },
    {
     "name": "stderr",
     "output_type": "stream",
     "text": [
      "\r\u001b[32mRunning 10000 trials for 1 scenarios...  79%|██████████  |  ETA: 0:16:39\u001b[39m\u001b[K"
     ]
    },
    {
     "name": "stderr",
     "output_type": "stream",
     "text": [
      "\r\u001b[32mRunning 10000 trials for 1 scenarios...  79%|██████████  |  ETA: 0:16:35\u001b[39m\u001b[K"
     ]
    },
    {
     "name": "stderr",
     "output_type": "stream",
     "text": [
      "\r\u001b[32mRunning 10000 trials for 1 scenarios...  79%|██████████  |  ETA: 0:16:31\u001b[39m\u001b[K"
     ]
    },
    {
     "name": "stderr",
     "output_type": "stream",
     "text": [
      "\r\u001b[32mRunning 10000 trials for 1 scenarios...  79%|██████████  |  ETA: 0:16:31\u001b[39m\u001b[K"
     ]
    },
    {
     "name": "stderr",
     "output_type": "stream",
     "text": [
      "\r\u001b[32mRunning 10000 trials for 1 scenarios...  79%|██████████  |  ETA: 0:16:27\u001b[39m\u001b[K"
     ]
    },
    {
     "name": "stderr",
     "output_type": "stream",
     "text": [
      "\r\u001b[32mRunning 10000 trials for 1 scenarios...  79%|██████████  |  ETA: 0:16:27\u001b[39m\u001b[K"
     ]
    },
    {
     "name": "stderr",
     "output_type": "stream",
     "text": [
      "\r\u001b[32mRunning 10000 trials for 1 scenarios...  79%|██████████  |  ETA: 0:16:23\u001b[39m\u001b[K"
     ]
    },
    {
     "name": "stderr",
     "output_type": "stream",
     "text": [
      "\r\u001b[32mRunning 10000 trials for 1 scenarios...  79%|██████████  |  ETA: 0:16:23\u001b[39m\u001b[K"
     ]
    },
    {
     "name": "stderr",
     "output_type": "stream",
     "text": [
      "\r\u001b[32mRunning 10000 trials for 1 scenarios...  79%|██████████  |  ETA: 0:16:19\u001b[39m\u001b[K"
     ]
    },
    {
     "name": "stderr",
     "output_type": "stream",
     "text": [
      "\r\u001b[32mRunning 10000 trials for 1 scenarios...  79%|██████████  |  ETA: 0:16:19\u001b[39m\u001b[K"
     ]
    },
    {
     "name": "stderr",
     "output_type": "stream",
     "text": [
      "\r\u001b[32mRunning 10000 trials for 1 scenarios...  80%|██████████  |  ETA: 0:16:16\u001b[39m\u001b[K"
     ]
    },
    {
     "name": "stderr",
     "output_type": "stream",
     "text": [
      "\r\u001b[32mRunning 10000 trials for 1 scenarios...  80%|██████████  |  ETA: 0:16:12\u001b[39m\u001b[K"
     ]
    },
    {
     "name": "stderr",
     "output_type": "stream",
     "text": [
      "\r\u001b[32mRunning 10000 trials for 1 scenarios...  80%|██████████  |  ETA: 0:16:12\u001b[39m\u001b[K"
     ]
    },
    {
     "name": "stderr",
     "output_type": "stream",
     "text": [
      "\r\u001b[32mRunning 10000 trials for 1 scenarios...  80%|██████████  |  ETA: 0:16:08\u001b[39m\u001b[K"
     ]
    },
    {
     "name": "stderr",
     "output_type": "stream",
     "text": [
      "\r\u001b[32mRunning 10000 trials for 1 scenarios...  80%|██████████  |  ETA: 0:16:08\u001b[39m\u001b[K"
     ]
    },
    {
     "name": "stderr",
     "output_type": "stream",
     "text": [
      "\r\u001b[32mRunning 10000 trials for 1 scenarios...  80%|██████████  |  ETA: 0:16:04\u001b[39m\u001b[K"
     ]
    },
    {
     "name": "stderr",
     "output_type": "stream",
     "text": [
      "\r\u001b[32mRunning 10000 trials for 1 scenarios...  80%|██████████  |  ETA: 0:16:04\u001b[39m\u001b[K"
     ]
    },
    {
     "name": "stderr",
     "output_type": "stream",
     "text": [
      "\r\u001b[32mRunning 10000 trials for 1 scenarios...  80%|██████████  |  ETA: 0:16:00\u001b[39m\u001b[K"
     ]
    },
    {
     "name": "stderr",
     "output_type": "stream",
     "text": [
      "\r\u001b[32mRunning 10000 trials for 1 scenarios...  80%|██████████  |  ETA: 0:16:00\u001b[39m\u001b[K"
     ]
    },
    {
     "name": "stderr",
     "output_type": "stream",
     "text": [
      "\r\u001b[32mRunning 10000 trials for 1 scenarios...  80%|██████████  |  ETA: 0:15:56\u001b[39m\u001b[K"
     ]
    },
    {
     "name": "stderr",
     "output_type": "stream",
     "text": [
      "\r\u001b[32mRunning 10000 trials for 1 scenarios...  80%|██████████  |  ETA: 0:15:52\u001b[39m\u001b[K"
     ]
    },
    {
     "name": "stderr",
     "output_type": "stream",
     "text": [
      "\r\u001b[32mRunning 10000 trials for 1 scenarios...  80%|██████████  |  ETA: 0:15:52\u001b[39m\u001b[K"
     ]
    },
    {
     "name": "stderr",
     "output_type": "stream",
     "text": [
      "\r\u001b[32mRunning 10000 trials for 1 scenarios...  80%|██████████  |  ETA: 0:15:48\u001b[39m\u001b[K"
     ]
    },
    {
     "name": "stderr",
     "output_type": "stream",
     "text": [
      "\r\u001b[32mRunning 10000 trials for 1 scenarios...  80%|██████████  |  ETA: 0:15:48\u001b[39m\u001b[K"
     ]
    },
    {
     "name": "stderr",
     "output_type": "stream",
     "text": [
      "\r\u001b[32mRunning 10000 trials for 1 scenarios...  80%|██████████  |  ETA: 0:15:44\u001b[39m\u001b[K"
     ]
    },
    {
     "name": "stderr",
     "output_type": "stream",
     "text": [
      "\r\u001b[32mRunning 10000 trials for 1 scenarios...  80%|██████████  |  ETA: 0:15:44\u001b[39m\u001b[K"
     ]
    },
    {
     "name": "stderr",
     "output_type": "stream",
     "text": [
      "\r\u001b[32mRunning 10000 trials for 1 scenarios...  81%|██████████  |  ETA: 0:15:40\u001b[39m\u001b[K"
     ]
    },
    {
     "name": "stderr",
     "output_type": "stream",
     "text": [
      "\r\u001b[32mRunning 10000 trials for 1 scenarios...  81%|██████████  |  ETA: 0:15:40\u001b[39m\u001b[K"
     ]
    },
    {
     "name": "stderr",
     "output_type": "stream",
     "text": [
      "\r\u001b[32mRunning 10000 trials for 1 scenarios...  81%|██████████  |  ETA: 0:15:36\u001b[39m\u001b[K"
     ]
    },
    {
     "name": "stderr",
     "output_type": "stream",
     "text": [
      "\r\u001b[32mRunning 10000 trials for 1 scenarios...  81%|██████████  |  ETA: 0:15:32\u001b[39m\u001b[K"
     ]
    },
    {
     "name": "stderr",
     "output_type": "stream",
     "text": [
      "\r\u001b[32mRunning 10000 trials for 1 scenarios...  81%|██████████  |  ETA: 0:15:32\u001b[39m\u001b[K"
     ]
    },
    {
     "name": "stderr",
     "output_type": "stream",
     "text": [
      "\r\u001b[32mRunning 10000 trials for 1 scenarios...  81%|██████████  |  ETA: 0:15:28\u001b[39m\u001b[K"
     ]
    },
    {
     "name": "stderr",
     "output_type": "stream",
     "text": [
      "\r\u001b[32mRunning 10000 trials for 1 scenarios...  81%|██████████  |  ETA: 0:15:28\u001b[39m\u001b[K"
     ]
    },
    {
     "name": "stderr",
     "output_type": "stream",
     "text": [
      "\r\u001b[32mRunning 10000 trials for 1 scenarios...  81%|██████████  |  ETA: 0:15:24\u001b[39m\u001b[K"
     ]
    },
    {
     "name": "stderr",
     "output_type": "stream",
     "text": [
      "\r\u001b[32mRunning 10000 trials for 1 scenarios...  81%|██████████  |  ETA: 0:15:24\u001b[39m\u001b[K"
     ]
    },
    {
     "name": "stderr",
     "output_type": "stream",
     "text": [
      "\r\u001b[32mRunning 10000 trials for 1 scenarios...  81%|██████████  |  ETA: 0:15:19\u001b[39m\u001b[K"
     ]
    },
    {
     "name": "stderr",
     "output_type": "stream",
     "text": [
      "\r\u001b[32mRunning 10000 trials for 1 scenarios...  81%|██████████  |  ETA: 0:15:19\u001b[39m\u001b[K"
     ]
    },
    {
     "name": "stderr",
     "output_type": "stream",
     "text": [
      "\r\u001b[32mRunning 10000 trials for 1 scenarios...  81%|██████████  |  ETA: 0:15:16\u001b[39m\u001b[K"
     ]
    },
    {
     "name": "stderr",
     "output_type": "stream",
     "text": [
      "\r\u001b[32mRunning 10000 trials for 1 scenarios...  81%|██████████  |  ETA: 0:15:11\u001b[39m\u001b[K"
     ]
    },
    {
     "name": "stderr",
     "output_type": "stream",
     "text": [
      "\r\u001b[32mRunning 10000 trials for 1 scenarios...  81%|██████████  |  ETA: 0:15:11\u001b[39m\u001b[K"
     ]
    },
    {
     "name": "stderr",
     "output_type": "stream",
     "text": [
      "\r\u001b[32mRunning 10000 trials for 1 scenarios...  81%|██████████  |  ETA: 0:15:07\u001b[39m\u001b[K"
     ]
    },
    {
     "name": "stderr",
     "output_type": "stream",
     "text": [
      "\r\u001b[32mRunning 10000 trials for 1 scenarios...  81%|██████████  |  ETA: 0:15:07\u001b[39m\u001b[K"
     ]
    },
    {
     "name": "stderr",
     "output_type": "stream",
     "text": [
      "\r\u001b[32mRunning 10000 trials for 1 scenarios...  82%|██████████  |  ETA: 0:15:03\u001b[39m\u001b[K"
     ]
    },
    {
     "name": "stderr",
     "output_type": "stream",
     "text": [
      "\r\u001b[32mRunning 10000 trials for 1 scenarios...  82%|██████████  |  ETA: 0:15:03\u001b[39m\u001b[K"
     ]
    },
    {
     "name": "stderr",
     "output_type": "stream",
     "text": [
      "\r\u001b[32mRunning 10000 trials for 1 scenarios...  82%|██████████  |  ETA: 0:14:59\u001b[39m\u001b[K"
     ]
    },
    {
     "name": "stderr",
     "output_type": "stream",
     "text": [
      "\r\u001b[32mRunning 10000 trials for 1 scenarios...  82%|██████████  |  ETA: 0:14:59\u001b[39m\u001b[K"
     ]
    },
    {
     "name": "stderr",
     "output_type": "stream",
     "text": [
      "\r\u001b[32mRunning 10000 trials for 1 scenarios...  82%|██████████  |  ETA: 0:14:55\u001b[39m\u001b[K"
     ]
    },
    {
     "name": "stderr",
     "output_type": "stream",
     "text": [
      "\r\u001b[32mRunning 10000 trials for 1 scenarios...  82%|██████████  |  ETA: 0:14:51\u001b[39m\u001b[K"
     ]
    },
    {
     "name": "stderr",
     "output_type": "stream",
     "text": [
      "\r\u001b[32mRunning 10000 trials for 1 scenarios...  82%|██████████  |  ETA: 0:14:51\u001b[39m\u001b[K"
     ]
    },
    {
     "name": "stderr",
     "output_type": "stream",
     "text": [
      "\r\u001b[32mRunning 10000 trials for 1 scenarios...  82%|██████████  |  ETA: 0:14:46\u001b[39m\u001b[K"
     ]
    },
    {
     "name": "stderr",
     "output_type": "stream",
     "text": [
      "\r\u001b[32mRunning 10000 trials for 1 scenarios...  82%|██████████  |  ETA: 0:14:46\u001b[39m\u001b[K"
     ]
    },
    {
     "name": "stderr",
     "output_type": "stream",
     "text": [
      "\r\u001b[32mRunning 10000 trials for 1 scenarios...  82%|██████████  |  ETA: 0:14:42\u001b[39m\u001b[K"
     ]
    },
    {
     "name": "stderr",
     "output_type": "stream",
     "text": [
      "\r\u001b[32mRunning 10000 trials for 1 scenarios...  82%|██████████  |  ETA: 0:14:42\u001b[39m\u001b[K"
     ]
    },
    {
     "name": "stderr",
     "output_type": "stream",
     "text": [
      "\r\u001b[32mRunning 10000 trials for 1 scenarios...  82%|██████████  |  ETA: 0:14:38\u001b[39m\u001b[K"
     ]
    },
    {
     "name": "stderr",
     "output_type": "stream",
     "text": [
      "\r\u001b[32mRunning 10000 trials for 1 scenarios...  82%|██████████  |  ETA: 0:14:38\u001b[39m\u001b[K"
     ]
    },
    {
     "name": "stderr",
     "output_type": "stream",
     "text": [
      "\r\u001b[32mRunning 10000 trials for 1 scenarios...  82%|██████████  |  ETA: 0:14:34\u001b[39m\u001b[K"
     ]
    },
    {
     "name": "stderr",
     "output_type": "stream",
     "text": [
      "\r\u001b[32mRunning 10000 trials for 1 scenarios...  82%|██████████  |  ETA: 0:14:30\u001b[39m\u001b[K"
     ]
    },
    {
     "name": "stderr",
     "output_type": "stream",
     "text": [
      "\r\u001b[32mRunning 10000 trials for 1 scenarios...  82%|██████████  |  ETA: 0:14:30\u001b[39m\u001b[K"
     ]
    },
    {
     "name": "stderr",
     "output_type": "stream",
     "text": [
      "\r\u001b[32mRunning 10000 trials for 1 scenarios...  82%|██████████  |  ETA: 0:14:25\u001b[39m\u001b[K"
     ]
    },
    {
     "name": "stderr",
     "output_type": "stream",
     "text": [
      "\r\u001b[32mRunning 10000 trials for 1 scenarios...  82%|██████████  |  ETA: 0:14:25\u001b[39m\u001b[K"
     ]
    },
    {
     "name": "stderr",
     "output_type": "stream",
     "text": [
      "\r\u001b[32mRunning 10000 trials for 1 scenarios...  83%|██████████  |  ETA: 0:14:21\u001b[39m\u001b[K"
     ]
    },
    {
     "name": "stderr",
     "output_type": "stream",
     "text": [
      "\r\u001b[32mRunning 10000 trials for 1 scenarios...  83%|██████████  |  ETA: 0:14:21\u001b[39m\u001b[K"
     ]
    },
    {
     "name": "stderr",
     "output_type": "stream",
     "text": [
      "\r\u001b[32mRunning 10000 trials for 1 scenarios...  83%|██████████  |  ETA: 0:14:16\u001b[39m\u001b[K"
     ]
    },
    {
     "name": "stderr",
     "output_type": "stream",
     "text": [
      "\r\u001b[32mRunning 10000 trials for 1 scenarios...  83%|██████████  |  ETA: 0:14:16\u001b[39m\u001b[K"
     ]
    },
    {
     "name": "stderr",
     "output_type": "stream",
     "text": [
      "\r\u001b[32mRunning 10000 trials for 1 scenarios...  83%|██████████  |  ETA: 0:14:12\u001b[39m\u001b[K"
     ]
    },
    {
     "name": "stderr",
     "output_type": "stream",
     "text": [
      "\r\u001b[32mRunning 10000 trials for 1 scenarios...  83%|██████████  |  ETA: 0:14:08\u001b[39m\u001b[K"
     ]
    },
    {
     "name": "stderr",
     "output_type": "stream",
     "text": [
      "\r\u001b[32mRunning 10000 trials for 1 scenarios...  83%|██████████  |  ETA: 0:14:08\u001b[39m\u001b[K"
     ]
    },
    {
     "name": "stderr",
     "output_type": "stream",
     "text": [
      "\r\u001b[32mRunning 10000 trials for 1 scenarios...  83%|██████████  |  ETA: 0:14:04\u001b[39m\u001b[K"
     ]
    },
    {
     "name": "stderr",
     "output_type": "stream",
     "text": [
      "\r\u001b[32mRunning 10000 trials for 1 scenarios...  83%|██████████  |  ETA: 0:14:04\u001b[39m\u001b[K"
     ]
    },
    {
     "name": "stderr",
     "output_type": "stream",
     "text": [
      "\r\u001b[32mRunning 10000 trials for 1 scenarios...  83%|██████████  |  ETA: 0:13:59\u001b[39m\u001b[K"
     ]
    },
    {
     "name": "stderr",
     "output_type": "stream",
     "text": [
      "\r\u001b[32mRunning 10000 trials for 1 scenarios...  83%|██████████  |  ETA: 0:13:59\u001b[39m\u001b[K"
     ]
    },
    {
     "name": "stderr",
     "output_type": "stream",
     "text": [
      "\r\u001b[32mRunning 10000 trials for 1 scenarios...  83%|██████████  |  ETA: 0:13:55\u001b[39m\u001b[K"
     ]
    },
    {
     "name": "stderr",
     "output_type": "stream",
     "text": [
      "\r\u001b[32mRunning 10000 trials for 1 scenarios...  83%|██████████  |  ETA: 0:13:55\u001b[39m\u001b[K"
     ]
    },
    {
     "name": "stderr",
     "output_type": "stream",
     "text": [
      "\r\u001b[32mRunning 10000 trials for 1 scenarios...  83%|███████████ |  ETA: 0:13:51\u001b[39m\u001b[K"
     ]
    },
    {
     "name": "stderr",
     "output_type": "stream",
     "text": [
      "\r\u001b[32mRunning 10000 trials for 1 scenarios...  83%|███████████ |  ETA: 0:13:46\u001b[39m\u001b[K"
     ]
    },
    {
     "name": "stderr",
     "output_type": "stream",
     "text": [
      "\r\u001b[32mRunning 10000 trials for 1 scenarios...  83%|███████████ |  ETA: 0:13:46\u001b[39m\u001b[K"
     ]
    },
    {
     "name": "stderr",
     "output_type": "stream",
     "text": [
      "\r\u001b[32mRunning 10000 trials for 1 scenarios...  84%|███████████ |  ETA: 0:13:42\u001b[39m\u001b[K"
     ]
    },
    {
     "name": "stderr",
     "output_type": "stream",
     "text": [
      "\r\u001b[32mRunning 10000 trials for 1 scenarios...  84%|███████████ |  ETA: 0:13:42\u001b[39m\u001b[K"
     ]
    },
    {
     "name": "stderr",
     "output_type": "stream",
     "text": [
      "\r\u001b[32mRunning 10000 trials for 1 scenarios...  84%|███████████ |  ETA: 0:13:37\u001b[39m\u001b[K"
     ]
    },
    {
     "name": "stderr",
     "output_type": "stream",
     "text": [
      "\r\u001b[32mRunning 10000 trials for 1 scenarios...  84%|███████████ |  ETA: 0:13:37\u001b[39m\u001b[K"
     ]
    },
    {
     "name": "stderr",
     "output_type": "stream",
     "text": [
      "\r\u001b[32mRunning 10000 trials for 1 scenarios...  84%|███████████ |  ETA: 0:13:33\u001b[39m\u001b[K"
     ]
    },
    {
     "name": "stderr",
     "output_type": "stream",
     "text": [
      "\r\u001b[32mRunning 10000 trials for 1 scenarios...  84%|███████████ |  ETA: 0:13:33\u001b[39m\u001b[K"
     ]
    },
    {
     "name": "stderr",
     "output_type": "stream",
     "text": [
      "\r\u001b[32mRunning 10000 trials for 1 scenarios...  84%|███████████ |  ETA: 0:13:29\u001b[39m\u001b[K"
     ]
    },
    {
     "name": "stderr",
     "output_type": "stream",
     "text": [
      "\r\u001b[32mRunning 10000 trials for 1 scenarios...  84%|███████████ |  ETA: 0:13:24\u001b[39m\u001b[K"
     ]
    },
    {
     "name": "stderr",
     "output_type": "stream",
     "text": [
      "\r\u001b[32mRunning 10000 trials for 1 scenarios...  84%|███████████ |  ETA: 0:13:24\u001b[39m\u001b[K"
     ]
    },
    {
     "name": "stderr",
     "output_type": "stream",
     "text": [
      "\r\u001b[32mRunning 10000 trials for 1 scenarios...  84%|███████████ |  ETA: 0:13:20\u001b[39m\u001b[K"
     ]
    },
    {
     "name": "stderr",
     "output_type": "stream",
     "text": [
      "\r\u001b[32mRunning 10000 trials for 1 scenarios...  84%|███████████ |  ETA: 0:13:20\u001b[39m\u001b[K"
     ]
    },
    {
     "name": "stderr",
     "output_type": "stream",
     "text": [
      "\r\u001b[32mRunning 10000 trials for 1 scenarios...  84%|███████████ |  ETA: 0:13:15\u001b[39m\u001b[K"
     ]
    },
    {
     "name": "stderr",
     "output_type": "stream",
     "text": [
      "\r\u001b[32mRunning 10000 trials for 1 scenarios...  84%|███████████ |  ETA: 0:13:15\u001b[39m\u001b[K"
     ]
    },
    {
     "name": "stderr",
     "output_type": "stream",
     "text": [
      "\r\u001b[32mRunning 10000 trials for 1 scenarios...  84%|███████████ |  ETA: 0:13:11\u001b[39m\u001b[K"
     ]
    },
    {
     "name": "stderr",
     "output_type": "stream",
     "text": [
      "\r\u001b[32mRunning 10000 trials for 1 scenarios...  84%|███████████ |  ETA: 0:13:11\u001b[39m\u001b[K"
     ]
    },
    {
     "name": "stderr",
     "output_type": "stream",
     "text": [
      "\r\u001b[32mRunning 10000 trials for 1 scenarios...  84%|███████████ |  ETA: 0:13:07\u001b[39m\u001b[K"
     ]
    },
    {
     "name": "stderr",
     "output_type": "stream",
     "text": [
      "\r\u001b[32mRunning 10000 trials for 1 scenarios...  85%|███████████ |  ETA: 0:13:02\u001b[39m\u001b[K"
     ]
    },
    {
     "name": "stderr",
     "output_type": "stream",
     "text": [
      "\r\u001b[32mRunning 10000 trials for 1 scenarios...  85%|███████████ |  ETA: 0:13:02\u001b[39m\u001b[K"
     ]
    },
    {
     "name": "stderr",
     "output_type": "stream",
     "text": [
      "\r\u001b[32mRunning 10000 trials for 1 scenarios...  85%|███████████ |  ETA: 0:12:58\u001b[39m\u001b[K"
     ]
    },
    {
     "name": "stderr",
     "output_type": "stream",
     "text": [
      "\r\u001b[32mRunning 10000 trials for 1 scenarios...  85%|███████████ |  ETA: 0:12:57\u001b[39m\u001b[K"
     ]
    },
    {
     "name": "stderr",
     "output_type": "stream",
     "text": [
      "\r\u001b[32mRunning 10000 trials for 1 scenarios...  85%|███████████ |  ETA: 0:12:53\u001b[39m\u001b[K"
     ]
    },
    {
     "name": "stderr",
     "output_type": "stream",
     "text": [
      "\r\u001b[32mRunning 10000 trials for 1 scenarios...  85%|███████████ |  ETA: 0:12:53\u001b[39m\u001b[K"
     ]
    },
    {
     "name": "stderr",
     "output_type": "stream",
     "text": [
      "\r\u001b[32mRunning 10000 trials for 1 scenarios...  85%|███████████ |  ETA: 0:12:48\u001b[39m\u001b[K"
     ]
    },
    {
     "name": "stderr",
     "output_type": "stream",
     "text": [
      "\r\u001b[32mRunning 10000 trials for 1 scenarios...  85%|███████████ |  ETA: 0:12:48\u001b[39m\u001b[K"
     ]
    },
    {
     "name": "stderr",
     "output_type": "stream",
     "text": [
      "\r\u001b[32mRunning 10000 trials for 1 scenarios...  85%|███████████ |  ETA: 0:12:44\u001b[39m\u001b[K"
     ]
    },
    {
     "name": "stderr",
     "output_type": "stream",
     "text": [
      "\r\u001b[32mRunning 10000 trials for 1 scenarios...  85%|███████████ |  ETA: 0:12:39\u001b[39m\u001b[K"
     ]
    },
    {
     "name": "stderr",
     "output_type": "stream",
     "text": [
      "\r\u001b[32mRunning 10000 trials for 1 scenarios...  85%|███████████ |  ETA: 0:12:39\u001b[39m\u001b[K"
     ]
    },
    {
     "name": "stderr",
     "output_type": "stream",
     "text": [
      "\r\u001b[32mRunning 10000 trials for 1 scenarios...  85%|███████████ |  ETA: 0:12:35\u001b[39m\u001b[K"
     ]
    },
    {
     "name": "stderr",
     "output_type": "stream",
     "text": [
      "\r\u001b[32mRunning 10000 trials for 1 scenarios...  85%|███████████ |  ETA: 0:12:34\u001b[39m\u001b[K"
     ]
    },
    {
     "name": "stderr",
     "output_type": "stream",
     "text": [
      "\r\u001b[32mRunning 10000 trials for 1 scenarios...  85%|███████████ |  ETA: 0:12:30\u001b[39m\u001b[K"
     ]
    },
    {
     "name": "stderr",
     "output_type": "stream",
     "text": [
      "\r\u001b[32mRunning 10000 trials for 1 scenarios...  85%|███████████ |  ETA: 0:12:30\u001b[39m\u001b[K"
     ]
    },
    {
     "name": "stderr",
     "output_type": "stream",
     "text": [
      "\r\u001b[32mRunning 10000 trials for 1 scenarios...  85%|███████████ |  ETA: 0:12:25\u001b[39m\u001b[K"
     ]
    },
    {
     "name": "stderr",
     "output_type": "stream",
     "text": [
      "\r\u001b[32mRunning 10000 trials for 1 scenarios...  85%|███████████ |  ETA: 0:12:25\u001b[39m\u001b[K"
     ]
    },
    {
     "name": "stderr",
     "output_type": "stream",
     "text": [
      "\r\u001b[32mRunning 10000 trials for 1 scenarios...  86%|███████████ |  ETA: 0:12:21\u001b[39m\u001b[K"
     ]
    },
    {
     "name": "stderr",
     "output_type": "stream",
     "text": [
      "\r\u001b[32mRunning 10000 trials for 1 scenarios...  86%|███████████ |  ETA: 0:12:17\u001b[39m\u001b[K"
     ]
    },
    {
     "name": "stderr",
     "output_type": "stream",
     "text": [
      "\r\u001b[32mRunning 10000 trials for 1 scenarios...  86%|███████████ |  ETA: 0:12:16\u001b[39m\u001b[K"
     ]
    },
    {
     "name": "stderr",
     "output_type": "stream",
     "text": [
      "\r\u001b[32mRunning 10000 trials for 1 scenarios...  86%|███████████ |  ETA: 0:12:12\u001b[39m\u001b[K"
     ]
    },
    {
     "name": "stderr",
     "output_type": "stream",
     "text": [
      "\r\u001b[32mRunning 10000 trials for 1 scenarios...  86%|███████████ |  ETA: 0:12:12\u001b[39m\u001b[K"
     ]
    },
    {
     "name": "stderr",
     "output_type": "stream",
     "text": [
      "\r\u001b[32mRunning 10000 trials for 1 scenarios...  86%|███████████ |  ETA: 0:12:07\u001b[39m\u001b[K"
     ]
    },
    {
     "name": "stderr",
     "output_type": "stream",
     "text": [
      "\r\u001b[32mRunning 10000 trials for 1 scenarios...  86%|███████████ |  ETA: 0:12:07\u001b[39m\u001b[K"
     ]
    },
    {
     "name": "stderr",
     "output_type": "stream",
     "text": [
      "\r\u001b[32mRunning 10000 trials for 1 scenarios...  86%|███████████ |  ETA: 0:12:02\u001b[39m\u001b[K"
     ]
    },
    {
     "name": "stderr",
     "output_type": "stream",
     "text": [
      "\r\u001b[32mRunning 10000 trials for 1 scenarios...  86%|███████████ |  ETA: 0:12:02\u001b[39m\u001b[K"
     ]
    },
    {
     "name": "stderr",
     "output_type": "stream",
     "text": [
      "\r\u001b[32mRunning 10000 trials for 1 scenarios...  86%|███████████ |  ETA: 0:11:58\u001b[39m\u001b[K"
     ]
    },
    {
     "name": "stderr",
     "output_type": "stream",
     "text": [
      "\r\u001b[32mRunning 10000 trials for 1 scenarios...  86%|███████████ |  ETA: 0:11:53\u001b[39m\u001b[K"
     ]
    },
    {
     "name": "stderr",
     "output_type": "stream",
     "text": [
      "\r\u001b[32mRunning 10000 trials for 1 scenarios...  86%|███████████ |  ETA: 0:11:53\u001b[39m\u001b[K"
     ]
    },
    {
     "name": "stderr",
     "output_type": "stream",
     "text": [
      "\r\u001b[32mRunning 10000 trials for 1 scenarios...  86%|███████████ |  ETA: 0:11:48\u001b[39m\u001b[K"
     ]
    },
    {
     "name": "stderr",
     "output_type": "stream",
     "text": [
      "\r\u001b[32mRunning 10000 trials for 1 scenarios...  86%|███████████ |  ETA: 0:11:48\u001b[39m\u001b[K"
     ]
    },
    {
     "name": "stderr",
     "output_type": "stream",
     "text": [
      "\r\u001b[32mRunning 10000 trials for 1 scenarios...  86%|███████████ |  ETA: 0:11:43\u001b[39m\u001b[K"
     ]
    },
    {
     "name": "stderr",
     "output_type": "stream",
     "text": [
      "\r\u001b[32mRunning 10000 trials for 1 scenarios...  86%|███████████ |  ETA: 0:11:43\u001b[39m\u001b[K"
     ]
    },
    {
     "name": "stderr",
     "output_type": "stream",
     "text": [
      "\r\u001b[32mRunning 10000 trials for 1 scenarios...  86%|███████████ |  ETA: 0:11:38\u001b[39m\u001b[K"
     ]
    },
    {
     "name": "stderr",
     "output_type": "stream",
     "text": [
      "\r\u001b[32mRunning 10000 trials for 1 scenarios...  86%|███████████ |  ETA: 0:11:38\u001b[39m\u001b[K"
     ]
    },
    {
     "name": "stderr",
     "output_type": "stream",
     "text": [
      "\r\u001b[32mRunning 10000 trials for 1 scenarios...  87%|███████████ |  ETA: 0:11:34\u001b[39m\u001b[K"
     ]
    },
    {
     "name": "stderr",
     "output_type": "stream",
     "text": [
      "\r\u001b[32mRunning 10000 trials for 1 scenarios...  87%|███████████ |  ETA: 0:11:29\u001b[39m\u001b[K"
     ]
    },
    {
     "name": "stderr",
     "output_type": "stream",
     "text": [
      "\r\u001b[32mRunning 10000 trials for 1 scenarios...  87%|███████████ |  ETA: 0:11:29\u001b[39m\u001b[K"
     ]
    },
    {
     "name": "stderr",
     "output_type": "stream",
     "text": [
      "\r\u001b[32mRunning 10000 trials for 1 scenarios...  87%|███████████ |  ETA: 0:11:24\u001b[39m\u001b[K"
     ]
    },
    {
     "name": "stderr",
     "output_type": "stream",
     "text": [
      "\r\u001b[32mRunning 10000 trials for 1 scenarios...  87%|███████████ |  ETA: 0:11:24\u001b[39m\u001b[K"
     ]
    },
    {
     "name": "stderr",
     "output_type": "stream",
     "text": [
      "\r\u001b[32mRunning 10000 trials for 1 scenarios...  87%|███████████ |  ETA: 0:11:20\u001b[39m\u001b[K"
     ]
    },
    {
     "name": "stderr",
     "output_type": "stream",
     "text": [
      "\r\u001b[32mRunning 10000 trials for 1 scenarios...  87%|███████████ |  ETA: 0:11:19\u001b[39m\u001b[K"
     ]
    },
    {
     "name": "stderr",
     "output_type": "stream",
     "text": [
      "\r\u001b[32mRunning 10000 trials for 1 scenarios...  87%|███████████ |  ETA: 0:11:15\u001b[39m\u001b[K"
     ]
    },
    {
     "name": "stderr",
     "output_type": "stream",
     "text": [
      "\r\u001b[32mRunning 10000 trials for 1 scenarios...  87%|███████████ |  ETA: 0:11:14\u001b[39m\u001b[K"
     ]
    },
    {
     "name": "stderr",
     "output_type": "stream",
     "text": [
      "\r\u001b[32mRunning 10000 trials for 1 scenarios...  87%|███████████ |  ETA: 0:11:10\u001b[39m\u001b[K"
     ]
    },
    {
     "name": "stderr",
     "output_type": "stream",
     "text": [
      "\r\u001b[32mRunning 10000 trials for 1 scenarios...  87%|███████████ |  ETA: 0:11:05\u001b[39m\u001b[K"
     ]
    },
    {
     "name": "stderr",
     "output_type": "stream",
     "text": [
      "\r\u001b[32mRunning 10000 trials for 1 scenarios...  87%|███████████ |  ETA: 0:11:05\u001b[39m\u001b[K"
     ]
    },
    {
     "name": "stderr",
     "output_type": "stream",
     "text": [
      "\r\u001b[32mRunning 10000 trials for 1 scenarios...  87%|███████████ |  ETA: 0:11:00\u001b[39m\u001b[K"
     ]
    },
    {
     "name": "stderr",
     "output_type": "stream",
     "text": [
      "\r\u001b[32mRunning 10000 trials for 1 scenarios...  87%|███████████ |  ETA: 0:11:00\u001b[39m\u001b[K"
     ]
    },
    {
     "name": "stderr",
     "output_type": "stream",
     "text": [
      "\r\u001b[32mRunning 10000 trials for 1 scenarios...  87%|███████████ |  ETA: 0:10:55\u001b[39m\u001b[K"
     ]
    },
    {
     "name": "stderr",
     "output_type": "stream",
     "text": [
      "\r\u001b[32mRunning 10000 trials for 1 scenarios...  87%|███████████ |  ETA: 0:10:55\u001b[39m\u001b[K"
     ]
    },
    {
     "name": "stderr",
     "output_type": "stream",
     "text": [
      "\r\u001b[32mRunning 10000 trials for 1 scenarios...  88%|███████████ |  ETA: 0:10:50\u001b[39m\u001b[K"
     ]
    },
    {
     "name": "stderr",
     "output_type": "stream",
     "text": [
      "\r\u001b[32mRunning 10000 trials for 1 scenarios...  88%|███████████ |  ETA: 0:10:50\u001b[39m\u001b[K"
     ]
    },
    {
     "name": "stderr",
     "output_type": "stream",
     "text": [
      "\r\u001b[32mRunning 10000 trials for 1 scenarios...  88%|███████████ |  ETA: 0:10:46\u001b[39m\u001b[K"
     ]
    },
    {
     "name": "stderr",
     "output_type": "stream",
     "text": [
      "\r\u001b[32mRunning 10000 trials for 1 scenarios...  88%|███████████ |  ETA: 0:10:41\u001b[39m\u001b[K"
     ]
    },
    {
     "name": "stderr",
     "output_type": "stream",
     "text": [
      "\r\u001b[32mRunning 10000 trials for 1 scenarios...  88%|███████████ |  ETA: 0:10:41\u001b[39m\u001b[K"
     ]
    },
    {
     "name": "stderr",
     "output_type": "stream",
     "text": [
      "\r\u001b[32mRunning 10000 trials for 1 scenarios...  88%|███████████ |  ETA: 0:10:36\u001b[39m\u001b[K"
     ]
    },
    {
     "name": "stderr",
     "output_type": "stream",
     "text": [
      "\r\u001b[32mRunning 10000 trials for 1 scenarios...  88%|███████████ |  ETA: 0:10:35\u001b[39m\u001b[K"
     ]
    },
    {
     "name": "stderr",
     "output_type": "stream",
     "text": [
      "\r\u001b[32mRunning 10000 trials for 1 scenarios...  88%|███████████ |  ETA: 0:10:31\u001b[39m\u001b[K"
     ]
    },
    {
     "name": "stderr",
     "output_type": "stream",
     "text": [
      "\r\u001b[32mRunning 10000 trials for 1 scenarios...  88%|███████████ |  ETA: 0:10:30\u001b[39m\u001b[K"
     ]
    },
    {
     "name": "stderr",
     "output_type": "stream",
     "text": [
      "\r\u001b[32mRunning 10000 trials for 1 scenarios...  88%|███████████ |  ETA: 0:10:26\u001b[39m\u001b[K"
     ]
    },
    {
     "name": "stderr",
     "output_type": "stream",
     "text": [
      "\r\u001b[32mRunning 10000 trials for 1 scenarios...  88%|███████████ |  ETA: 0:10:25\u001b[39m\u001b[K"
     ]
    },
    {
     "name": "stderr",
     "output_type": "stream",
     "text": [
      "\r\u001b[32mRunning 10000 trials for 1 scenarios...  88%|███████████ |  ETA: 0:10:21\u001b[39m\u001b[K"
     ]
    },
    {
     "name": "stderr",
     "output_type": "stream",
     "text": [
      "\r\u001b[32mRunning 10000 trials for 1 scenarios...  88%|███████████ |  ETA: 0:10:16\u001b[39m\u001b[K"
     ]
    },
    {
     "name": "stderr",
     "output_type": "stream",
     "text": [
      "\r\u001b[32mRunning 10000 trials for 1 scenarios...  88%|███████████ |  ETA: 0:10:16\u001b[39m\u001b[K"
     ]
    },
    {
     "name": "stderr",
     "output_type": "stream",
     "text": [
      "\r\u001b[32mRunning 10000 trials for 1 scenarios...  88%|███████████ |  ETA: 0:10:11\u001b[39m\u001b[K"
     ]
    },
    {
     "name": "stderr",
     "output_type": "stream",
     "text": [
      "\r\u001b[32mRunning 10000 trials for 1 scenarios...  88%|███████████ |  ETA: 0:10:11\u001b[39m\u001b[K"
     ]
    },
    {
     "name": "stderr",
     "output_type": "stream",
     "text": [
      "\r\u001b[32mRunning 10000 trials for 1 scenarios...  89%|███████████ |  ETA: 0:10:06\u001b[39m\u001b[K"
     ]
    },
    {
     "name": "stderr",
     "output_type": "stream",
     "text": [
      "\r\u001b[32mRunning 10000 trials for 1 scenarios...  89%|███████████ |  ETA: 0:10:05\u001b[39m\u001b[K"
     ]
    },
    {
     "name": "stderr",
     "output_type": "stream",
     "text": [
      "\r\u001b[32mRunning 10000 trials for 1 scenarios...  89%|███████████ |  ETA: 0:10:01\u001b[39m\u001b[K"
     ]
    },
    {
     "name": "stderr",
     "output_type": "stream",
     "text": [
      "\r\u001b[32mRunning 10000 trials for 1 scenarios...  89%|███████████ |  ETA: 0:10:00\u001b[39m\u001b[K"
     ]
    },
    {
     "name": "stderr",
     "output_type": "stream",
     "text": [
      "\r\u001b[32mRunning 10000 trials for 1 scenarios...  89%|███████████ |  ETA: 0:09:56\u001b[39m\u001b[K"
     ]
    },
    {
     "name": "stderr",
     "output_type": "stream",
     "text": [
      "\r\u001b[32mRunning 10000 trials for 1 scenarios...  89%|███████████ |  ETA: 0:09:51\u001b[39m\u001b[K"
     ]
    },
    {
     "name": "stderr",
     "output_type": "stream",
     "text": [
      "\r\u001b[32mRunning 10000 trials for 1 scenarios...  89%|███████████ |  ETA: 0:09:51\u001b[39m\u001b[K"
     ]
    },
    {
     "name": "stderr",
     "output_type": "stream",
     "text": [
      "\r\u001b[32mRunning 10000 trials for 1 scenarios...  89%|███████████ |  ETA: 0:09:46\u001b[39m\u001b[K"
     ]
    },
    {
     "name": "stderr",
     "output_type": "stream",
     "text": [
      "\r\u001b[32mRunning 10000 trials for 1 scenarios...  89%|███████████ |  ETA: 0:09:45\u001b[39m\u001b[K"
     ]
    },
    {
     "name": "stderr",
     "output_type": "stream",
     "text": [
      "\r\u001b[32mRunning 10000 trials for 1 scenarios...  89%|███████████ |  ETA: 0:09:40\u001b[39m\u001b[K"
     ]
    },
    {
     "name": "stderr",
     "output_type": "stream",
     "text": [
      "\r\u001b[32mRunning 10000 trials for 1 scenarios...  89%|███████████ |  ETA: 0:09:40\u001b[39m\u001b[K"
     ]
    },
    {
     "name": "stderr",
     "output_type": "stream",
     "text": [
      "\r\u001b[32mRunning 10000 trials for 1 scenarios...  89%|███████████ |  ETA: 0:09:35\u001b[39m\u001b[K"
     ]
    },
    {
     "name": "stderr",
     "output_type": "stream",
     "text": [
      "\r\u001b[32mRunning 10000 trials for 1 scenarios...  89%|███████████ |  ETA: 0:09:35\u001b[39m\u001b[K"
     ]
    },
    {
     "name": "stderr",
     "output_type": "stream",
     "text": [
      "\r\u001b[32mRunning 10000 trials for 1 scenarios...  89%|███████████ |  ETA: 0:09:30\u001b[39m\u001b[K"
     ]
    },
    {
     "name": "stderr",
     "output_type": "stream",
     "text": [
      "\r\u001b[32mRunning 10000 trials for 1 scenarios...  89%|███████████ |  ETA: 0:09:25\u001b[39m\u001b[K"
     ]
    },
    {
     "name": "stderr",
     "output_type": "stream",
     "text": [
      "\r\u001b[32mRunning 10000 trials for 1 scenarios...  89%|███████████ |  ETA: 0:09:25\u001b[39m\u001b[K"
     ]
    },
    {
     "name": "stderr",
     "output_type": "stream",
     "text": [
      "\r\u001b[32mRunning 10000 trials for 1 scenarios...  90%|███████████ |  ETA: 0:09:20\u001b[39m\u001b[K"
     ]
    },
    {
     "name": "stderr",
     "output_type": "stream",
     "text": [
      "\r\u001b[32mRunning 10000 trials for 1 scenarios...  90%|███████████ |  ETA: 0:09:20\u001b[39m\u001b[K"
     ]
    },
    {
     "name": "stderr",
     "output_type": "stream",
     "text": [
      "\r\u001b[32mRunning 10000 trials for 1 scenarios...  90%|███████████ |  ETA: 0:09:15\u001b[39m\u001b[K"
     ]
    },
    {
     "name": "stderr",
     "output_type": "stream",
     "text": [
      "\r\u001b[32mRunning 10000 trials for 1 scenarios...  90%|███████████ |  ETA: 0:09:15\u001b[39m\u001b[K"
     ]
    },
    {
     "name": "stderr",
     "output_type": "stream",
     "text": [
      "\r\u001b[32mRunning 10000 trials for 1 scenarios...  90%|███████████ |  ETA: 0:09:10\u001b[39m\u001b[K"
     ]
    },
    {
     "name": "stderr",
     "output_type": "stream",
     "text": [
      "\r\u001b[32mRunning 10000 trials for 1 scenarios...  90%|███████████ |  ETA: 0:09:10\u001b[39m\u001b[K"
     ]
    },
    {
     "name": "stderr",
     "output_type": "stream",
     "text": [
      "\r\u001b[32mRunning 10000 trials for 1 scenarios...  90%|███████████ |  ETA: 0:09:05\u001b[39m\u001b[K"
     ]
    },
    {
     "name": "stderr",
     "output_type": "stream",
     "text": [
      "\r\u001b[32mRunning 10000 trials for 1 scenarios...  90%|███████████ |  ETA: 0:09:00\u001b[39m\u001b[K"
     ]
    },
    {
     "name": "stderr",
     "output_type": "stream",
     "text": [
      "\r\u001b[32mRunning 10000 trials for 1 scenarios...  90%|███████████ |  ETA: 0:09:00\u001b[39m\u001b[K"
     ]
    },
    {
     "name": "stderr",
     "output_type": "stream",
     "text": [
      "\r\u001b[32mRunning 10000 trials for 1 scenarios...  90%|███████████ |  ETA: 0:08:55\u001b[39m\u001b[K"
     ]
    },
    {
     "name": "stderr",
     "output_type": "stream",
     "text": [
      "\r\u001b[32mRunning 10000 trials for 1 scenarios...  90%|███████████ |  ETA: 0:08:54\u001b[39m\u001b[K"
     ]
    },
    {
     "name": "stderr",
     "output_type": "stream",
     "text": [
      "\r\u001b[32mRunning 10000 trials for 1 scenarios...  90%|███████████ |  ETA: 0:08:49\u001b[39m\u001b[K"
     ]
    },
    {
     "name": "stderr",
     "output_type": "stream",
     "text": [
      "\r\u001b[32mRunning 10000 trials for 1 scenarios...  90%|███████████ |  ETA: 0:08:49\u001b[39m\u001b[K"
     ]
    },
    {
     "name": "stderr",
     "output_type": "stream",
     "text": [
      "\r\u001b[32mRunning 10000 trials for 1 scenarios...  90%|███████████ |  ETA: 0:08:44\u001b[39m\u001b[K"
     ]
    },
    {
     "name": "stderr",
     "output_type": "stream",
     "text": [
      "\r\u001b[32mRunning 10000 trials for 1 scenarios...  90%|███████████ |  ETA: 0:08:44\u001b[39m\u001b[K"
     ]
    },
    {
     "name": "stderr",
     "output_type": "stream",
     "text": [
      "\r\u001b[32mRunning 10000 trials for 1 scenarios...  90%|███████████ |  ETA: 0:08:39\u001b[39m\u001b[K"
     ]
    },
    {
     "name": "stderr",
     "output_type": "stream",
     "text": [
      "\r\u001b[32mRunning 10000 trials for 1 scenarios...  90%|███████████ |  ETA: 0:08:34\u001b[39m\u001b[K"
     ]
    },
    {
     "name": "stderr",
     "output_type": "stream",
     "text": [
      "\r\u001b[32mRunning 10000 trials for 1 scenarios...  90%|███████████ |  ETA: 0:08:33\u001b[39m\u001b[K"
     ]
    },
    {
     "name": "stderr",
     "output_type": "stream",
     "text": [
      "\r\u001b[32mRunning 10000 trials for 1 scenarios...  91%|███████████ |  ETA: 0:08:28\u001b[39m\u001b[K"
     ]
    },
    {
     "name": "stderr",
     "output_type": "stream",
     "text": [
      "\r\u001b[32mRunning 10000 trials for 1 scenarios...  91%|███████████ |  ETA: 0:08:28\u001b[39m\u001b[K"
     ]
    },
    {
     "name": "stderr",
     "output_type": "stream",
     "text": [
      "\r\u001b[32mRunning 10000 trials for 1 scenarios...  91%|███████████ |  ETA: 0:08:23\u001b[39m\u001b[K"
     ]
    },
    {
     "name": "stderr",
     "output_type": "stream",
     "text": [
      "\r\u001b[32mRunning 10000 trials for 1 scenarios...  91%|███████████ |  ETA: 0:08:23\u001b[39m\u001b[K"
     ]
    },
    {
     "name": "stderr",
     "output_type": "stream",
     "text": [
      "\r\u001b[32mRunning 10000 trials for 1 scenarios...  91%|███████████ |  ETA: 0:08:18\u001b[39m\u001b[K"
     ]
    },
    {
     "name": "stderr",
     "output_type": "stream",
     "text": [
      "\r\u001b[32mRunning 10000 trials for 1 scenarios...  91%|███████████ |  ETA: 0:08:17\u001b[39m\u001b[K"
     ]
    },
    {
     "name": "stderr",
     "output_type": "stream",
     "text": [
      "\r\u001b[32mRunning 10000 trials for 1 scenarios...  91%|███████████ |  ETA: 0:08:12\u001b[39m\u001b[K"
     ]
    },
    {
     "name": "stderr",
     "output_type": "stream",
     "text": [
      "\r\u001b[32mRunning 10000 trials for 1 scenarios...  91%|███████████ |  ETA: 0:08:07\u001b[39m\u001b[K"
     ]
    },
    {
     "name": "stderr",
     "output_type": "stream",
     "text": [
      "\r\u001b[32mRunning 10000 trials for 1 scenarios...  91%|███████████ |  ETA: 0:08:07\u001b[39m\u001b[K"
     ]
    },
    {
     "name": "stderr",
     "output_type": "stream",
     "text": [
      "\r\u001b[32mRunning 10000 trials for 1 scenarios...  91%|███████████ |  ETA: 0:08:02\u001b[39m\u001b[K"
     ]
    },
    {
     "name": "stderr",
     "output_type": "stream",
     "text": [
      "\r\u001b[32mRunning 10000 trials for 1 scenarios...  91%|███████████ |  ETA: 0:08:02\u001b[39m\u001b[K"
     ]
    },
    {
     "name": "stderr",
     "output_type": "stream",
     "text": [
      "\r\u001b[32mRunning 10000 trials for 1 scenarios...  91%|███████████ |  ETA: 0:07:56\u001b[39m\u001b[K"
     ]
    },
    {
     "name": "stderr",
     "output_type": "stream",
     "text": [
      "\r\u001b[32mRunning 10000 trials for 1 scenarios...  91%|███████████ |  ETA: 0:07:56\u001b[39m\u001b[K"
     ]
    },
    {
     "name": "stderr",
     "output_type": "stream",
     "text": [
      "\r\u001b[32mRunning 10000 trials for 1 scenarios...  91%|███████████ |  ETA: 0:07:51\u001b[39m\u001b[K"
     ]
    },
    {
     "name": "stderr",
     "output_type": "stream",
     "text": [
      "\r\u001b[32mRunning 10000 trials for 1 scenarios...  91%|███████████ |  ETA: 0:07:51\u001b[39m\u001b[K"
     ]
    },
    {
     "name": "stderr",
     "output_type": "stream",
     "text": [
      "\r\u001b[32mRunning 10000 trials for 1 scenarios...  91%|███████████ |  ETA: 0:07:46\u001b[39m\u001b[K"
     ]
    },
    {
     "name": "stderr",
     "output_type": "stream",
     "text": [
      "\r\u001b[32mRunning 10000 trials for 1 scenarios...  92%|███████████ |  ETA: 0:07:41\u001b[39m\u001b[K"
     ]
    },
    {
     "name": "stderr",
     "output_type": "stream",
     "text": [
      "\r\u001b[32mRunning 10000 trials for 1 scenarios...  92%|███████████ |  ETA: 0:07:40\u001b[39m\u001b[K"
     ]
    },
    {
     "name": "stderr",
     "output_type": "stream",
     "text": [
      "\r\u001b[32mRunning 10000 trials for 1 scenarios...  92%|████████████|  ETA: 0:07:35\u001b[39m\u001b[K"
     ]
    },
    {
     "name": "stderr",
     "output_type": "stream",
     "text": [
      "\r\u001b[32mRunning 10000 trials for 1 scenarios...  92%|████████████|  ETA: 0:07:35\u001b[39m\u001b[K"
     ]
    },
    {
     "name": "stderr",
     "output_type": "stream",
     "text": [
      "\r\u001b[32mRunning 10000 trials for 1 scenarios...  92%|████████████|  ETA: 0:07:29\u001b[39m\u001b[K"
     ]
    },
    {
     "name": "stderr",
     "output_type": "stream",
     "text": [
      "\r\u001b[32mRunning 10000 trials for 1 scenarios...  92%|████████████|  ETA: 0:07:29\u001b[39m\u001b[K"
     ]
    },
    {
     "name": "stderr",
     "output_type": "stream",
     "text": [
      "\r\u001b[32mRunning 10000 trials for 1 scenarios...  92%|████████████|  ETA: 0:07:24\u001b[39m\u001b[K"
     ]
    },
    {
     "name": "stderr",
     "output_type": "stream",
     "text": [
      "\r\u001b[32mRunning 10000 trials for 1 scenarios...  92%|████████████|  ETA: 0:07:24\u001b[39m\u001b[K"
     ]
    },
    {
     "name": "stderr",
     "output_type": "stream",
     "text": [
      "\r\u001b[32mRunning 10000 trials for 1 scenarios...  92%|████████████|  ETA: 0:07:19\u001b[39m\u001b[K"
     ]
    },
    {
     "name": "stderr",
     "output_type": "stream",
     "text": [
      "\r\u001b[32mRunning 10000 trials for 1 scenarios...  92%|████████████|  ETA: 0:07:13\u001b[39m\u001b[K"
     ]
    },
    {
     "name": "stderr",
     "output_type": "stream",
     "text": [
      "\r\u001b[32mRunning 10000 trials for 1 scenarios...  92%|████████████|  ETA: 0:07:13\u001b[39m\u001b[K"
     ]
    },
    {
     "name": "stderr",
     "output_type": "stream",
     "text": [
      "\r\u001b[32mRunning 10000 trials for 1 scenarios...  92%|████████████|  ETA: 0:07:08\u001b[39m\u001b[K"
     ]
    },
    {
     "name": "stderr",
     "output_type": "stream",
     "text": [
      "\r\u001b[32mRunning 10000 trials for 1 scenarios...  92%|████████████|  ETA: 0:07:07\u001b[39m\u001b[K"
     ]
    },
    {
     "name": "stderr",
     "output_type": "stream",
     "text": [
      "\r\u001b[32mRunning 10000 trials for 1 scenarios...  92%|████████████|  ETA: 0:07:02\u001b[39m\u001b[K"
     ]
    },
    {
     "name": "stderr",
     "output_type": "stream",
     "text": [
      "\r\u001b[32mRunning 10000 trials for 1 scenarios...  92%|████████████|  ETA: 0:07:02\u001b[39m\u001b[K"
     ]
    },
    {
     "name": "stderr",
     "output_type": "stream",
     "text": [
      "\r\u001b[32mRunning 10000 trials for 1 scenarios...  92%|████████████|  ETA: 0:06:57\u001b[39m\u001b[K"
     ]
    },
    {
     "name": "stderr",
     "output_type": "stream",
     "text": [
      "\r\u001b[32mRunning 10000 trials for 1 scenarios...  92%|████████████|  ETA: 0:06:56\u001b[39m\u001b[K"
     ]
    },
    {
     "name": "stderr",
     "output_type": "stream",
     "text": [
      "\r\u001b[32mRunning 10000 trials for 1 scenarios...  93%|████████████|  ETA: 0:06:51\u001b[39m\u001b[K"
     ]
    },
    {
     "name": "stderr",
     "output_type": "stream",
     "text": [
      "\r\u001b[32mRunning 10000 trials for 1 scenarios...  93%|████████████|  ETA: 0:06:46\u001b[39m\u001b[K"
     ]
    },
    {
     "name": "stderr",
     "output_type": "stream",
     "text": [
      "\r\u001b[32mRunning 10000 trials for 1 scenarios...  93%|████████████|  ETA: 0:06:46\u001b[39m\u001b[K"
     ]
    },
    {
     "name": "stderr",
     "output_type": "stream",
     "text": [
      "\r\u001b[32mRunning 10000 trials for 1 scenarios...  93%|████████████|  ETA: 0:06:40\u001b[39m\u001b[K"
     ]
    },
    {
     "name": "stderr",
     "output_type": "stream",
     "text": [
      "\r\u001b[32mRunning 10000 trials for 1 scenarios...  93%|████████████|  ETA: 0:06:40\u001b[39m\u001b[K"
     ]
    },
    {
     "name": "stderr",
     "output_type": "stream",
     "text": [
      "\r\u001b[32mRunning 10000 trials for 1 scenarios...  93%|████████████|  ETA: 0:06:35\u001b[39m\u001b[K"
     ]
    },
    {
     "name": "stderr",
     "output_type": "stream",
     "text": [
      "\r\u001b[32mRunning 10000 trials for 1 scenarios...  93%|████████████|  ETA: 0:06:34\u001b[39m\u001b[K"
     ]
    },
    {
     "name": "stderr",
     "output_type": "stream",
     "text": [
      "\r\u001b[32mRunning 10000 trials for 1 scenarios...  93%|████████████|  ETA: 0:06:29\u001b[39m\u001b[K"
     ]
    },
    {
     "name": "stderr",
     "output_type": "stream",
     "text": [
      "\r\u001b[32mRunning 10000 trials for 1 scenarios...  93%|████████████|  ETA: 0:06:29\u001b[39m\u001b[K"
     ]
    },
    {
     "name": "stderr",
     "output_type": "stream",
     "text": [
      "\r\u001b[32mRunning 10000 trials for 1 scenarios...  93%|████████████|  ETA: 0:06:24\u001b[39m\u001b[K"
     ]
    },
    {
     "name": "stderr",
     "output_type": "stream",
     "text": [
      "\r\u001b[32mRunning 10000 trials for 1 scenarios...  93%|████████████|  ETA: 0:06:18\u001b[39m\u001b[K"
     ]
    },
    {
     "name": "stderr",
     "output_type": "stream",
     "text": [
      "\r\u001b[32mRunning 10000 trials for 1 scenarios...  93%|████████████|  ETA: 0:06:18\u001b[39m\u001b[K"
     ]
    },
    {
     "name": "stderr",
     "output_type": "stream",
     "text": [
      "\r\u001b[32mRunning 10000 trials for 1 scenarios...  93%|████████████|  ETA: 0:06:13\u001b[39m\u001b[K"
     ]
    },
    {
     "name": "stderr",
     "output_type": "stream",
     "text": [
      "\r\u001b[32mRunning 10000 trials for 1 scenarios...  93%|████████████|  ETA: 0:06:12\u001b[39m\u001b[K"
     ]
    },
    {
     "name": "stderr",
     "output_type": "stream",
     "text": [
      "\r\u001b[32mRunning 10000 trials for 1 scenarios...  93%|████████████|  ETA: 0:06:07\u001b[39m\u001b[K"
     ]
    },
    {
     "name": "stderr",
     "output_type": "stream",
     "text": [
      "\r\u001b[32mRunning 10000 trials for 1 scenarios...  93%|████████████|  ETA: 0:06:06\u001b[39m\u001b[K"
     ]
    },
    {
     "name": "stderr",
     "output_type": "stream",
     "text": [
      "\r\u001b[32mRunning 10000 trials for 1 scenarios...  94%|████████████|  ETA: 0:06:01\u001b[39m\u001b[K"
     ]
    },
    {
     "name": "stderr",
     "output_type": "stream",
     "text": [
      "\r\u001b[32mRunning 10000 trials for 1 scenarios...  94%|████████████|  ETA: 0:06:01\u001b[39m\u001b[K"
     ]
    },
    {
     "name": "stderr",
     "output_type": "stream",
     "text": [
      "\r\u001b[32mRunning 10000 trials for 1 scenarios...  94%|████████████|  ETA: 0:05:56\u001b[39m\u001b[K"
     ]
    },
    {
     "name": "stderr",
     "output_type": "stream",
     "text": [
      "\r\u001b[32mRunning 10000 trials for 1 scenarios...  94%|████████████|  ETA: 0:05:50\u001b[39m\u001b[K"
     ]
    },
    {
     "name": "stderr",
     "output_type": "stream",
     "text": [
      "\r\u001b[32mRunning 10000 trials for 1 scenarios...  94%|████████████|  ETA: 0:05:50\u001b[39m\u001b[K"
     ]
    },
    {
     "name": "stderr",
     "output_type": "stream",
     "text": [
      "\r\u001b[32mRunning 10000 trials for 1 scenarios...  94%|████████████|  ETA: 0:05:44\u001b[39m\u001b[K"
     ]
    },
    {
     "name": "stderr",
     "output_type": "stream",
     "text": [
      "\r\u001b[32mRunning 10000 trials for 1 scenarios...  94%|████████████|  ETA: 0:05:44\u001b[39m\u001b[K"
     ]
    },
    {
     "name": "stderr",
     "output_type": "stream",
     "text": [
      "\r\u001b[32mRunning 10000 trials for 1 scenarios...  94%|████████████|  ETA: 0:05:39\u001b[39m\u001b[K"
     ]
    },
    {
     "name": "stderr",
     "output_type": "stream",
     "text": [
      "\r\u001b[32mRunning 10000 trials for 1 scenarios...  94%|████████████|  ETA: 0:05:38\u001b[39m\u001b[K"
     ]
    },
    {
     "name": "stderr",
     "output_type": "stream",
     "text": [
      "\r\u001b[32mRunning 10000 trials for 1 scenarios...  94%|████████████|  ETA: 0:05:33\u001b[39m\u001b[K"
     ]
    },
    {
     "name": "stderr",
     "output_type": "stream",
     "text": [
      "\r\u001b[32mRunning 10000 trials for 1 scenarios...  94%|████████████|  ETA: 0:05:32\u001b[39m\u001b[K"
     ]
    },
    {
     "name": "stderr",
     "output_type": "stream",
     "text": [
      "\r\u001b[32mRunning 10000 trials for 1 scenarios...  94%|████████████|  ETA: 0:05:27\u001b[39m\u001b[K"
     ]
    },
    {
     "name": "stderr",
     "output_type": "stream",
     "text": [
      "\r\u001b[32mRunning 10000 trials for 1 scenarios...  94%|████████████|  ETA: 0:05:22\u001b[39m\u001b[K"
     ]
    },
    {
     "name": "stderr",
     "output_type": "stream",
     "text": [
      "\r\u001b[32mRunning 10000 trials for 1 scenarios...  94%|████████████|  ETA: 0:05:21\u001b[39m\u001b[K"
     ]
    },
    {
     "name": "stderr",
     "output_type": "stream",
     "text": [
      "\r\u001b[32mRunning 10000 trials for 1 scenarios...  94%|████████████|  ETA: 0:05:16\u001b[39m\u001b[K"
     ]
    },
    {
     "name": "stderr",
     "output_type": "stream",
     "text": [
      "\r\u001b[32mRunning 10000 trials for 1 scenarios...  94%|████████████|  ETA: 0:05:15\u001b[39m\u001b[K"
     ]
    },
    {
     "name": "stderr",
     "output_type": "stream",
     "text": [
      "\r\u001b[32mRunning 10000 trials for 1 scenarios...  94%|████████████|  ETA: 0:05:10\u001b[39m\u001b[K"
     ]
    },
    {
     "name": "stderr",
     "output_type": "stream",
     "text": [
      "\r\u001b[32mRunning 10000 trials for 1 scenarios...  94%|████████████|  ETA: 0:05:10\u001b[39m\u001b[K"
     ]
    },
    {
     "name": "stderr",
     "output_type": "stream",
     "text": [
      "\r\u001b[32mRunning 10000 trials for 1 scenarios...  95%|████████████|  ETA: 0:05:04\u001b[39m\u001b[K"
     ]
    },
    {
     "name": "stderr",
     "output_type": "stream",
     "text": [
      "\r\u001b[32mRunning 10000 trials for 1 scenarios...  95%|████████████|  ETA: 0:05:04\u001b[39m\u001b[K"
     ]
    },
    {
     "name": "stderr",
     "output_type": "stream",
     "text": [
      "\r\u001b[32mRunning 10000 trials for 1 scenarios...  95%|████████████|  ETA: 0:04:58\u001b[39m\u001b[K"
     ]
    },
    {
     "name": "stderr",
     "output_type": "stream",
     "text": [
      "\r\u001b[32mRunning 10000 trials for 1 scenarios...  95%|████████████|  ETA: 0:04:53\u001b[39m\u001b[K"
     ]
    },
    {
     "name": "stderr",
     "output_type": "stream",
     "text": [
      "\r\u001b[32mRunning 10000 trials for 1 scenarios...  95%|████████████|  ETA: 0:04:53\u001b[39m\u001b[K"
     ]
    },
    {
     "name": "stderr",
     "output_type": "stream",
     "text": [
      "\r\u001b[32mRunning 10000 trials for 1 scenarios...  95%|████████████|  ETA: 0:04:47\u001b[39m\u001b[K"
     ]
    },
    {
     "name": "stderr",
     "output_type": "stream",
     "text": [
      "\r\u001b[32mRunning 10000 trials for 1 scenarios...  95%|████████████|  ETA: 0:04:47\u001b[39m\u001b[K"
     ]
    },
    {
     "name": "stderr",
     "output_type": "stream",
     "text": [
      "\r\u001b[32mRunning 10000 trials for 1 scenarios...  95%|████████████|  ETA: 0:04:41\u001b[39m\u001b[K"
     ]
    },
    {
     "name": "stderr",
     "output_type": "stream",
     "text": [
      "\r\u001b[32mRunning 10000 trials for 1 scenarios...  95%|████████████|  ETA: 0:04:41\u001b[39m\u001b[K"
     ]
    },
    {
     "name": "stderr",
     "output_type": "stream",
     "text": [
      "\r\u001b[32mRunning 10000 trials for 1 scenarios...  95%|████████████|  ETA: 0:04:35\u001b[39m\u001b[K"
     ]
    },
    {
     "name": "stderr",
     "output_type": "stream",
     "text": [
      "\r\u001b[32mRunning 10000 trials for 1 scenarios...  95%|████████████|  ETA: 0:04:35\u001b[39m\u001b[K"
     ]
    },
    {
     "name": "stderr",
     "output_type": "stream",
     "text": [
      "\r\u001b[32mRunning 10000 trials for 1 scenarios...  95%|████████████|  ETA: 0:04:29\u001b[39m\u001b[K"
     ]
    },
    {
     "name": "stderr",
     "output_type": "stream",
     "text": [
      "\r\u001b[32mRunning 10000 trials for 1 scenarios...  95%|████████████|  ETA: 0:04:24\u001b[39m\u001b[K"
     ]
    },
    {
     "name": "stderr",
     "output_type": "stream",
     "text": [
      "\r\u001b[32mRunning 10000 trials for 1 scenarios...  95%|████████████|  ETA: 0:04:24\u001b[39m\u001b[K"
     ]
    },
    {
     "name": "stderr",
     "output_type": "stream",
     "text": [
      "\r\u001b[32mRunning 10000 trials for 1 scenarios...  95%|████████████|  ETA: 0:04:18\u001b[39m\u001b[K"
     ]
    },
    {
     "name": "stderr",
     "output_type": "stream",
     "text": [
      "\r\u001b[32mRunning 10000 trials for 1 scenarios...  95%|████████████|  ETA: 0:04:18\u001b[39m\u001b[K"
     ]
    },
    {
     "name": "stderr",
     "output_type": "stream",
     "text": [
      "\r\u001b[32mRunning 10000 trials for 1 scenarios...  96%|████████████|  ETA: 0:04:12\u001b[39m\u001b[K"
     ]
    },
    {
     "name": "stderr",
     "output_type": "stream",
     "text": [
      "\r\u001b[32mRunning 10000 trials for 1 scenarios...  96%|████████████|  ETA: 0:04:12\u001b[39m\u001b[K"
     ]
    },
    {
     "name": "stderr",
     "output_type": "stream",
     "text": [
      "\r\u001b[32mRunning 10000 trials for 1 scenarios...  96%|████████████|  ETA: 0:04:06\u001b[39m\u001b[K"
     ]
    },
    {
     "name": "stderr",
     "output_type": "stream",
     "text": [
      "\r\u001b[32mRunning 10000 trials for 1 scenarios...  96%|████████████|  ETA: 0:04:06\u001b[39m\u001b[K"
     ]
    },
    {
     "name": "stderr",
     "output_type": "stream",
     "text": [
      "\r\u001b[32mRunning 10000 trials for 1 scenarios...  96%|████████████|  ETA: 0:04:00\u001b[39m\u001b[K"
     ]
    },
    {
     "name": "stderr",
     "output_type": "stream",
     "text": [
      "\r\u001b[32mRunning 10000 trials for 1 scenarios...  96%|████████████|  ETA: 0:03:55\u001b[39m\u001b[K"
     ]
    },
    {
     "name": "stderr",
     "output_type": "stream",
     "text": [
      "\r\u001b[32mRunning 10000 trials for 1 scenarios...  96%|████████████|  ETA: 0:03:54\u001b[39m\u001b[K"
     ]
    },
    {
     "name": "stderr",
     "output_type": "stream",
     "text": [
      "\r\u001b[32mRunning 10000 trials for 1 scenarios...  96%|████████████|  ETA: 0:03:49\u001b[39m\u001b[K"
     ]
    },
    {
     "name": "stderr",
     "output_type": "stream",
     "text": [
      "\r\u001b[32mRunning 10000 trials for 1 scenarios...  96%|████████████|  ETA: 0:03:48\u001b[39m\u001b[K"
     ]
    },
    {
     "name": "stderr",
     "output_type": "stream",
     "text": [
      "\r\u001b[32mRunning 10000 trials for 1 scenarios...  96%|████████████|  ETA: 0:03:43\u001b[39m\u001b[K"
     ]
    },
    {
     "name": "stderr",
     "output_type": "stream",
     "text": [
      "\r\u001b[32mRunning 10000 trials for 1 scenarios...  96%|████████████|  ETA: 0:03:42\u001b[39m\u001b[K"
     ]
    },
    {
     "name": "stderr",
     "output_type": "stream",
     "text": [
      "\r\u001b[32mRunning 10000 trials for 1 scenarios...  96%|████████████|  ETA: 0:03:37\u001b[39m\u001b[K"
     ]
    },
    {
     "name": "stderr",
     "output_type": "stream",
     "text": [
      "\r\u001b[32mRunning 10000 trials for 1 scenarios...  96%|████████████|  ETA: 0:03:36\u001b[39m\u001b[K"
     ]
    },
    {
     "name": "stderr",
     "output_type": "stream",
     "text": [
      "\r\u001b[32mRunning 10000 trials for 1 scenarios...  96%|████████████|  ETA: 0:03:31\u001b[39m\u001b[K"
     ]
    },
    {
     "name": "stderr",
     "output_type": "stream",
     "text": [
      "\r\u001b[32mRunning 10000 trials for 1 scenarios...  96%|████████████|  ETA: 0:03:25\u001b[39m\u001b[K"
     ]
    },
    {
     "name": "stderr",
     "output_type": "stream",
     "text": [
      "\r\u001b[32mRunning 10000 trials for 1 scenarios...  96%|████████████|  ETA: 0:03:24\u001b[39m\u001b[K"
     ]
    },
    {
     "name": "stderr",
     "output_type": "stream",
     "text": [
      "\r\u001b[32mRunning 10000 trials for 1 scenarios...  97%|████████████|  ETA: 0:03:19\u001b[39m\u001b[K"
     ]
    },
    {
     "name": "stderr",
     "output_type": "stream",
     "text": [
      "\r\u001b[32mRunning 10000 trials for 1 scenarios...  97%|████████████|  ETA: 0:03:18\u001b[39m\u001b[K"
     ]
    },
    {
     "name": "stderr",
     "output_type": "stream",
     "text": [
      "\r\u001b[32mRunning 10000 trials for 1 scenarios...  97%|████████████|  ETA: 0:03:13\u001b[39m\u001b[K"
     ]
    },
    {
     "name": "stderr",
     "output_type": "stream",
     "text": [
      "\r\u001b[32mRunning 10000 trials for 1 scenarios...  97%|████████████|  ETA: 0:03:21\u001b[39m\u001b[K"
     ]
    },
    {
     "name": "stderr",
     "output_type": "stream",
     "text": [
      "\r\u001b[32mRunning 10000 trials for 1 scenarios...  97%|████████████|  ETA: 0:03:16\u001b[39m\u001b[K"
     ]
    },
    {
     "name": "stderr",
     "output_type": "stream",
     "text": [
      "\r\u001b[32mRunning 10000 trials for 1 scenarios...  97%|████████████|  ETA: 0:03:15\u001b[39m\u001b[K"
     ]
    },
    {
     "name": "stderr",
     "output_type": "stream",
     "text": [
      "\r\u001b[32mRunning 10000 trials for 1 scenarios...  97%|████████████|  ETA: 0:03:09\u001b[39m\u001b[K"
     ]
    },
    {
     "name": "stderr",
     "output_type": "stream",
     "text": [
      "\r\u001b[32mRunning 10000 trials for 1 scenarios...  97%|████████████|  ETA: 0:03:09\u001b[39m\u001b[K"
     ]
    },
    {
     "name": "stderr",
     "output_type": "stream",
     "text": [
      "\r\u001b[32mRunning 10000 trials for 1 scenarios...  97%|████████████|  ETA: 0:03:03\u001b[39m\u001b[K"
     ]
    },
    {
     "name": "stderr",
     "output_type": "stream",
     "text": [
      "\r\u001b[32mRunning 10000 trials for 1 scenarios...  97%|████████████|  ETA: 0:03:02\u001b[39m\u001b[K"
     ]
    },
    {
     "name": "stderr",
     "output_type": "stream",
     "text": [
      "\r\u001b[32mRunning 10000 trials for 1 scenarios...  97%|████████████|  ETA: 0:02:56\u001b[39m\u001b[K"
     ]
    },
    {
     "name": "stderr",
     "output_type": "stream",
     "text": [
      "\r\u001b[32mRunning 10000 trials for 1 scenarios...  97%|████████████|  ETA: 0:02:56\u001b[39m\u001b[K"
     ]
    },
    {
     "name": "stderr",
     "output_type": "stream",
     "text": [
      "\r\u001b[32mRunning 10000 trials for 1 scenarios...  97%|████████████|  ETA: 0:02:50\u001b[39m\u001b[K"
     ]
    },
    {
     "name": "stderr",
     "output_type": "stream",
     "text": [
      "\r\u001b[32mRunning 10000 trials for 1 scenarios...  97%|████████████|  ETA: 0:02:49\u001b[39m\u001b[K"
     ]
    },
    {
     "name": "stderr",
     "output_type": "stream",
     "text": [
      "\r\u001b[32mRunning 10000 trials for 1 scenarios...  97%|████████████|  ETA: 0:02:43\u001b[39m\u001b[K"
     ]
    },
    {
     "name": "stderr",
     "output_type": "stream",
     "text": [
      "\r\u001b[32mRunning 10000 trials for 1 scenarios...  97%|████████████|  ETA: 0:02:37\u001b[39m\u001b[K"
     ]
    },
    {
     "name": "stderr",
     "output_type": "stream",
     "text": [
      "\r\u001b[32mRunning 10000 trials for 1 scenarios...  97%|████████████|  ETA: 0:02:37\u001b[39m\u001b[K"
     ]
    },
    {
     "name": "stderr",
     "output_type": "stream",
     "text": [
      "\r\u001b[32mRunning 10000 trials for 1 scenarios...  98%|████████████|  ETA: 0:02:31\u001b[39m\u001b[K"
     ]
    },
    {
     "name": "stderr",
     "output_type": "stream",
     "text": [
      "\r\u001b[32mRunning 10000 trials for 1 scenarios...  98%|████████████|  ETA: 0:02:30\u001b[39m\u001b[K"
     ]
    },
    {
     "name": "stderr",
     "output_type": "stream",
     "text": [
      "\r\u001b[32mRunning 10000 trials for 1 scenarios...  98%|████████████|  ETA: 0:02:24\u001b[39m\u001b[K"
     ]
    },
    {
     "name": "stderr",
     "output_type": "stream",
     "text": [
      "\r\u001b[32mRunning 10000 trials for 1 scenarios...  98%|████████████|  ETA: 0:02:24\u001b[39m\u001b[K"
     ]
    },
    {
     "name": "stderr",
     "output_type": "stream",
     "text": [
      "\r\u001b[32mRunning 10000 trials for 1 scenarios...  98%|████████████|  ETA: 0:02:18\u001b[39m\u001b[K"
     ]
    },
    {
     "name": "stderr",
     "output_type": "stream",
     "text": [
      "\r\u001b[32mRunning 10000 trials for 1 scenarios...  98%|████████████|  ETA: 0:02:17\u001b[39m\u001b[K"
     ]
    },
    {
     "name": "stderr",
     "output_type": "stream",
     "text": [
      "\r\u001b[32mRunning 10000 trials for 1 scenarios...  98%|████████████|  ETA: 0:02:11\u001b[39m\u001b[K"
     ]
    },
    {
     "name": "stderr",
     "output_type": "stream",
     "text": [
      "\r\u001b[32mRunning 10000 trials for 1 scenarios...  98%|████████████|  ETA: 0:02:05\u001b[39m\u001b[K"
     ]
    },
    {
     "name": "stderr",
     "output_type": "stream",
     "text": [
      "\r\u001b[32mRunning 10000 trials for 1 scenarios...  98%|████████████|  ETA: 0:02:05\u001b[39m\u001b[K"
     ]
    },
    {
     "name": "stderr",
     "output_type": "stream",
     "text": [
      "\r\u001b[32mRunning 10000 trials for 1 scenarios...  98%|████████████|  ETA: 0:01:59\u001b[39m\u001b[K"
     ]
    },
    {
     "name": "stderr",
     "output_type": "stream",
     "text": [
      "\r\u001b[32mRunning 10000 trials for 1 scenarios...  98%|████████████|  ETA: 0:01:58\u001b[39m\u001b[K"
     ]
    },
    {
     "name": "stderr",
     "output_type": "stream",
     "text": [
      "\r\u001b[32mRunning 10000 trials for 1 scenarios...  98%|████████████|  ETA: 0:01:52\u001b[39m\u001b[K"
     ]
    },
    {
     "name": "stderr",
     "output_type": "stream",
     "text": [
      "\r\u001b[32mRunning 10000 trials for 1 scenarios...  98%|████████████|  ETA: 0:01:52\u001b[39m\u001b[K"
     ]
    },
    {
     "name": "stderr",
     "output_type": "stream",
     "text": [
      "\r\u001b[32mRunning 10000 trials for 1 scenarios...  98%|████████████|  ETA: 0:01:45\u001b[39m\u001b[K"
     ]
    },
    {
     "name": "stderr",
     "output_type": "stream",
     "text": [
      "\r\u001b[32mRunning 10000 trials for 1 scenarios...  98%|████████████|  ETA: 0:01:45\u001b[39m\u001b[K"
     ]
    },
    {
     "name": "stderr",
     "output_type": "stream",
     "text": [
      "\r\u001b[32mRunning 10000 trials for 1 scenarios...  98%|████████████|  ETA: 0:01:39\u001b[39m\u001b[K"
     ]
    },
    {
     "name": "stderr",
     "output_type": "stream",
     "text": [
      "\r\u001b[32mRunning 10000 trials for 1 scenarios...  98%|████████████|  ETA: 0:01:33\u001b[39m\u001b[K"
     ]
    },
    {
     "name": "stderr",
     "output_type": "stream",
     "text": [
      "\r\u001b[32mRunning 10000 trials for 1 scenarios...  98%|████████████|  ETA: 0:01:32\u001b[39m\u001b[K"
     ]
    },
    {
     "name": "stderr",
     "output_type": "stream",
     "text": [
      "\r\u001b[32mRunning 10000 trials for 1 scenarios...  99%|████████████|  ETA: 0:01:26\u001b[39m\u001b[K"
     ]
    },
    {
     "name": "stderr",
     "output_type": "stream",
     "text": [
      "\r\u001b[32mRunning 10000 trials for 1 scenarios...  99%|████████████|  ETA: 0:01:26\u001b[39m\u001b[K"
     ]
    },
    {
     "name": "stderr",
     "output_type": "stream",
     "text": [
      "\r\u001b[32mRunning 10000 trials for 1 scenarios...  99%|████████████|  ETA: 0:01:20\u001b[39m\u001b[K"
     ]
    },
    {
     "name": "stderr",
     "output_type": "stream",
     "text": [
      "\r\u001b[32mRunning 10000 trials for 1 scenarios...  99%|████████████|  ETA: 0:01:19\u001b[39m\u001b[K"
     ]
    },
    {
     "name": "stderr",
     "output_type": "stream",
     "text": [
      "\r\u001b[32mRunning 10000 trials for 1 scenarios...  99%|████████████|  ETA: 0:01:13\u001b[39m\u001b[K"
     ]
    },
    {
     "name": "stderr",
     "output_type": "stream",
     "text": [
      "\r\u001b[32mRunning 10000 trials for 1 scenarios...  99%|████████████|  ETA: 0:01:12\u001b[39m\u001b[K"
     ]
    },
    {
     "name": "stderr",
     "output_type": "stream",
     "text": [
      "\r\u001b[32mRunning 10000 trials for 1 scenarios...  99%|████████████|  ETA: 0:01:06\u001b[39m\u001b[K"
     ]
    },
    {
     "name": "stderr",
     "output_type": "stream",
     "text": [
      "\r\u001b[32mRunning 10000 trials for 1 scenarios...  99%|████████████|  ETA: 0:01:00\u001b[39m\u001b[K"
     ]
    },
    {
     "name": "stderr",
     "output_type": "stream",
     "text": [
      "\r\u001b[32mRunning 10000 trials for 1 scenarios...  99%|████████████|  ETA: 0:01:00\u001b[39m\u001b[K"
     ]
    },
    {
     "name": "stderr",
     "output_type": "stream",
     "text": [
      "\r\u001b[32mRunning 10000 trials for 1 scenarios...  99%|████████████|  ETA: 0:00:53\u001b[39m\u001b[K"
     ]
    },
    {
     "name": "stderr",
     "output_type": "stream",
     "text": [
      "\r\u001b[32mRunning 10000 trials for 1 scenarios...  99%|████████████|  ETA: 0:00:53\u001b[39m\u001b[K"
     ]
    },
    {
     "name": "stderr",
     "output_type": "stream",
     "text": [
      "\r\u001b[32mRunning 10000 trials for 1 scenarios...  99%|████████████|  ETA: 0:00:47\u001b[39m\u001b[K"
     ]
    },
    {
     "name": "stderr",
     "output_type": "stream",
     "text": [
      "\r\u001b[32mRunning 10000 trials for 1 scenarios...  99%|████████████|  ETA: 0:00:46\u001b[39m\u001b[K"
     ]
    },
    {
     "name": "stderr",
     "output_type": "stream",
     "text": [
      "\r\u001b[32mRunning 10000 trials for 1 scenarios...  99%|████████████|  ETA: 0:00:40\u001b[39m\u001b[K"
     ]
    },
    {
     "name": "stderr",
     "output_type": "stream",
     "text": [
      "\r\u001b[32mRunning 10000 trials for 1 scenarios...  99%|████████████|  ETA: 0:00:39\u001b[39m\u001b[K"
     ]
    },
    {
     "name": "stderr",
     "output_type": "stream",
     "text": [
      "\r\u001b[32mRunning 10000 trials for 1 scenarios...  99%|████████████|  ETA: 0:00:33\u001b[39m\u001b[K"
     ]
    },
    {
     "name": "stderr",
     "output_type": "stream",
     "text": [
      "\r\u001b[32mRunning 10000 trials for 1 scenarios... 100%|████████████|  ETA: 0:00:27\u001b[39m\u001b[K"
     ]
    },
    {
     "name": "stderr",
     "output_type": "stream",
     "text": [
      "\r\u001b[32mRunning 10000 trials for 1 scenarios... 100%|████████████|  ETA: 0:00:27\u001b[39m\u001b[K"
     ]
    },
    {
     "name": "stderr",
     "output_type": "stream",
     "text": [
      "\r\u001b[32mRunning 10000 trials for 1 scenarios... 100%|████████████|  ETA: 0:00:20\u001b[39m\u001b[K"
     ]
    },
    {
     "name": "stderr",
     "output_type": "stream",
     "text": [
      "\r\u001b[32mRunning 10000 trials for 1 scenarios... 100%|████████████|  ETA: 0:00:20\u001b[39m\u001b[K"
     ]
    },
    {
     "name": "stderr",
     "output_type": "stream",
     "text": [
      "\r\u001b[32mRunning 10000 trials for 1 scenarios... 100%|████████████|  ETA: 0:00:14\u001b[39m\u001b[K"
     ]
    },
    {
     "name": "stderr",
     "output_type": "stream",
     "text": [
      "\r\u001b[32mRunning 10000 trials for 1 scenarios... 100%|████████████|  ETA: 0:00:13\u001b[39m\u001b[K"
     ]
    },
    {
     "name": "stderr",
     "output_type": "stream",
     "text": [
      "\r\u001b[32mRunning 10000 trials for 1 scenarios... 100%|████████████|  ETA: 0:00:07\u001b[39m\u001b[K"
     ]
    },
    {
     "name": "stderr",
     "output_type": "stream",
     "text": [
      "\r\u001b[32mRunning 10000 trials for 1 scenarios... 100%|████████████|  ETA: 0:00:06\u001b[39m\u001b[K"
     ]
    },
    {
     "name": "stderr",
     "output_type": "stream",
     "text": [
      "\r\u001b[32mRunning 10000 trials for 1 scenarios... 100%|████████████| Time: 1:43:10\u001b[39m\u001b[K"
     ]
    },
    {
     "name": "stderr",
     "output_type": "stream",
     "text": [
      "\n"
     ]
    }
   ],
   "source": [
    "result = run(mcs, m, 10_000);"
   ]
  },
  {
   "cell_type": "code",
   "execution_count": 5,
   "metadata": {},
   "outputs": [
    {
     "data": {
      "text/plain": [
       "44646.7791068395"
      ]
     },
     "metadata": {},
     "output_type": "display_data"
    }
   ],
   "source": [
    "pop_2020 = getdataframe(result, :rffsp, :population) |> @filter(_.time==2020 && _.country==\"DEU\") |> @dissallowna() |> @map(_.population)\n",
    "gdp_2020 = getdataframe(result, :rffsp, :gdp) |> @filter(_.time==2020 && _.country==\"DEU\") |> @dissallowna() |> @map(_.gdp)\n",
    "gdp_per_capita_2020 = mean(gdp_2020 ./ pop_2020) * 1_000"
   ]
  }
 ],
 "metadata": {
  "kernelspec": {
   "display_name": "Julia 1.9.3",
   "language": "julia",
   "name": "julia-1.9"
  },
  "language_info": {
   "file_extension": ".jl",
   "mimetype": "application/julia",
   "name": "julia",
   "version": "1.9.3"
  },
  "orig_nbformat": 4
 },
 "nbformat": 4,
 "nbformat_minor": 2
}
